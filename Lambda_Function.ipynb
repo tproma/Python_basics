{
 "cells": [
  {
   "cell_type": "markdown",
   "id": "9d2c883b",
   "metadata": {},
   "source": [
    "# Lambda Function\n",
    "\n",
    "Anonymous function\n",
    "\n",
    "A functtion with no name"
   ]
  },
  {
   "cell_type": "code",
   "execution_count": 1,
   "id": "95544dc7",
   "metadata": {},
   "outputs": [],
   "source": [
    "def addition(a,b):\n",
    "    return a+b"
   ]
  },
  {
   "cell_type": "code",
   "execution_count": 2,
   "id": "4433ecc7",
   "metadata": {},
   "outputs": [
    {
     "data": {
      "text/plain": [
       "9"
      ]
     },
     "execution_count": 2,
     "metadata": {},
     "output_type": "execute_result"
    }
   ],
   "source": [
    "addition(4,5)"
   ]
  },
  {
   "cell_type": "code",
   "execution_count": 3,
   "id": "540f7883",
   "metadata": {},
   "outputs": [],
   "source": [
    "addi = lambda a,b: a+b"
   ]
  },
  {
   "cell_type": "code",
   "execution_count": 4,
   "id": "914f4979",
   "metadata": {},
   "outputs": [
    {
     "data": {
      "text/plain": [
       "7"
      ]
     },
     "execution_count": 4,
     "metadata": {},
     "output_type": "execute_result"
    }
   ],
   "source": [
    "addi(2,5)"
   ]
  },
  {
   "cell_type": "code",
   "execution_count": 7,
   "id": "ec35f254",
   "metadata": {},
   "outputs": [],
   "source": [
    "def even(n):\n",
    "    if n%2==0:\n",
    "        return True\n",
    "    \n",
    "    "
   ]
  },
  {
   "cell_type": "code",
   "execution_count": 8,
   "id": "5f212ea9",
   "metadata": {},
   "outputs": [
    {
     "data": {
      "text/plain": [
       "True"
      ]
     },
     "execution_count": 8,
     "metadata": {},
     "output_type": "execute_result"
    }
   ],
   "source": [
    "even(34)"
   ]
  },
  {
   "cell_type": "code",
   "execution_count": 9,
   "id": "ae03f891",
   "metadata": {},
   "outputs": [],
   "source": [
    "evenl = lambda n:n%2==0"
   ]
  },
  {
   "cell_type": "code",
   "execution_count": 10,
   "id": "4d4375ed",
   "metadata": {},
   "outputs": [
    {
     "data": {
      "text/plain": [
       "False"
      ]
     },
     "execution_count": 10,
     "metadata": {},
     "output_type": "execute_result"
    }
   ],
   "source": [
    "evenl(35)"
   ]
  },
  {
   "cell_type": "code",
   "execution_count": null,
   "id": "2de6dbe3",
   "metadata": {},
   "outputs": [],
   "source": [
    "def addition(z,x,y):\n",
    "    return z+y+x\n",
    "\n",
    "additon()"
   ]
  }
 ],
 "metadata": {
  "kernelspec": {
   "display_name": "Python 3 (ipykernel)",
   "language": "python",
   "name": "python3"
  },
  "language_info": {
   "codemirror_mode": {
    "name": "ipython",
    "version": 3
   },
   "file_extension": ".py",
   "mimetype": "text/x-python",
   "name": "python",
   "nbconvert_exporter": "python",
   "pygments_lexer": "ipython3",
   "version": "3.9.13"
  }
 },
 "nbformat": 4,
 "nbformat_minor": 5
}
