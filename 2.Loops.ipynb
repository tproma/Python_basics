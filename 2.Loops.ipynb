{
 "cells": [
  {
   "cell_type": "markdown",
   "id": "0313a805",
   "metadata": {},
   "source": [
    "## While loop"
   ]
  },
  {
   "cell_type": "code",
   "execution_count": 1,
   "id": "a719e98a",
   "metadata": {},
   "outputs": [
    {
     "name": "stdout",
     "output_type": "stream",
     "text": [
      "Enter first name: T\n",
      "Enter last name: P\n",
      "Correct\n"
     ]
    }
   ],
   "source": [
    "first_name = input(\"Enter first name: \")\n",
    "\n",
    "last_name = input(\"Enter last name: \")\n",
    "\n",
    "if first_name==\"T\" and last_name==\"P\":\n",
    "    print(\"Correct\")\n",
    "else:\n",
    "    print(\"Wrong !!!!\")"
   ]
  },
  {
   "cell_type": "code",
   "execution_count": 2,
   "id": "ac448ef4",
   "metadata": {},
   "outputs": [
    {
     "name": "stdout",
     "output_type": "stream",
     "text": [
      "....\n",
      "....\n",
      "....\n",
      "....\n",
      "....\n",
      "....\n",
      "....\n",
      "....\n",
      "....\n"
     ]
    }
   ],
   "source": [
    "initial_speed = 0\n",
    "\n",
    "final_speed = 10\n",
    "\n",
    "C = 1\n",
    "while initial_speed< final_speed:\n",
    "    print(\"....\")\n",
    "    C = C+1\n",
    "    if C == 10:\n",
    "        break\n",
    "        "
   ]
  },
  {
   "cell_type": "code",
   "execution_count": 3,
   "id": "1da263f8",
   "metadata": {},
   "outputs": [
    {
     "name": "stdout",
     "output_type": "stream",
     "text": [
      "3\n",
      "4\n",
      "5\n",
      "6\n",
      "7\n",
      "8\n",
      "9\n",
      "10\n",
      "No more i\n"
     ]
    }
   ],
   "source": [
    "i= 3\n",
    "j = 10\n",
    "\n",
    "while i<=j:\n",
    "    print (i)\n",
    "    i = i+1\n",
    "    \n",
    "else:\n",
    "    print(\"No more i\")"
   ]
  },
  {
   "cell_type": "markdown",
   "id": "858eefed",
   "metadata": {},
   "source": [
    "## Strings"
   ]
  },
  {
   "cell_type": "code",
   "execution_count": 4,
   "id": "ddee47e5",
   "metadata": {},
   "outputs": [],
   "source": [
    "X = \"Samarah Aisha Siddiqui\""
   ]
  },
  {
   "cell_type": "code",
   "execution_count": 5,
   "id": "b4cd18f1",
   "metadata": {},
   "outputs": [
    {
     "data": {
      "text/plain": [
       "'iuqiddiS ahsiA haramaS'"
      ]
     },
     "execution_count": 5,
     "metadata": {},
     "output_type": "execute_result"
    }
   ],
   "source": [
    "X[::-1]"
   ]
  },
  {
   "cell_type": "code",
   "execution_count": 6,
   "id": "22e381aa",
   "metadata": {},
   "outputs": [
    {
     "data": {
      "text/plain": [
       "'SmrhAsaSdiu'"
      ]
     },
     "execution_count": 6,
     "metadata": {},
     "output_type": "execute_result"
    }
   ],
   "source": [
    "X[::2]"
   ]
  },
  {
   "cell_type": "markdown",
   "id": "c5e34a20",
   "metadata": {},
   "source": [
    "## For"
   ]
  },
  {
   "cell_type": "code",
   "execution_count": 7,
   "id": "054ded0f",
   "metadata": {},
   "outputs": [
    {
     "name": "stdout",
     "output_type": "stream",
     "text": [
      "0 . S\n",
      "1 . a\n",
      "2 . m\n",
      "3 . a\n",
      "4 . r\n",
      "5 . a\n",
      "6 . h\n",
      "8 . A\n",
      "9 . i\n",
      "10 . s\n",
      "11 . h\n",
      "12 . a\n",
      "14 . S\n",
      "15 . i\n",
      "16 . d\n",
      "17 . d\n",
      "18 . i\n",
      "19 . q\n",
      "20 . u\n",
      "21 . i\n"
     ]
    }
   ],
   "source": [
    "for i in range(len(X)):\n",
    "    if X[i] == \" \":\n",
    "        continue\n",
    "    else:\n",
    "        print(i,\".\", X[i])\n",
    "    \n",
    "    "
   ]
  },
  {
   "cell_type": "markdown",
   "id": "73f10cc7",
   "metadata": {},
   "source": [
    "## Patterns"
   ]
  },
  {
   "cell_type": "code",
   "execution_count": 8,
   "id": "b9548334",
   "metadata": {},
   "outputs": [
    {
     "name": "stdout",
     "output_type": "stream",
     "text": [
      "* * * * * \r\n",
      "* * * * * \r\n",
      "* * * * * \r\n",
      "* * * * * \r\n",
      "* * * * * \r\n"
     ]
    }
   ],
   "source": [
    "for i in range(0,5):\n",
    "    for j in range(0,5):\n",
    "        print(\"* \", end ='')\n",
    "    print(\"\\r\")        "
   ]
  },
  {
   "cell_type": "code",
   "execution_count": 9,
   "id": "710cd3e6",
   "metadata": {},
   "outputs": [
    {
     "name": "stdout",
     "output_type": "stream",
     "text": [
      "* \r\n",
      "* * \r\n",
      "* * * \r\n",
      "* * * * \r\n",
      "* * * * * \r\n"
     ]
    }
   ],
   "source": [
    "for i in range(0,5):\n",
    "    for j in range(0,i+1):\n",
    "        print(\"* \", end ='')\n",
    "    print(\"\\r\")  "
   ]
  },
  {
   "cell_type": "code",
   "execution_count": 10,
   "id": "7e56d754",
   "metadata": {},
   "outputs": [
    {
     "name": "stdout",
     "output_type": "stream",
     "text": [
      "* * * * * \r\n",
      "* * * * \r\n",
      "* * * \r\n",
      "* * \r\n",
      "* \r\n"
     ]
    }
   ],
   "source": [
    "for i in range(0,5):\n",
    "    for j in range(0,5-i):\n",
    "        print(\"* \", end ='')\n",
    "    print(\"\\r\")  "
   ]
  },
  {
   "cell_type": "code",
   "execution_count": 11,
   "id": "1a5eb23b",
   "metadata": {},
   "outputs": [
    {
     "name": "stdout",
     "output_type": "stream",
     "text": [
      "     * \r\n",
      "    * * \r\n",
      "   * * * \r\n",
      "  * * * * \r\n",
      " * * * * * \r\n"
     ]
    }
   ],
   "source": [
    "for i in range(0,5):\n",
    "    for j in range(0,5-i):\n",
    "        print(\" \", end ='')\n",
    "    for k in range(0,i+1):\n",
    "        print(\"* \", end ='')\n",
    "    \n",
    "    print(\"\\r\")  "
   ]
  },
  {
   "cell_type": "code",
   "execution_count": 12,
   "id": "051fb512",
   "metadata": {},
   "outputs": [
    {
     "name": "stdout",
     "output_type": "stream",
     "text": [
      " * * * * * \r\n",
      "  * * * * \r\n",
      "   * * * \r\n",
      "    * * \r\n",
      "     * \r\n"
     ]
    }
   ],
   "source": [
    "for i in range(0,5):\n",
    "    for j in range(0,i+1):\n",
    "        print(\" \", end ='')\n",
    "    for k in range(0,5-i):\n",
    "        print(\"* \", end ='')\n",
    "    \n",
    "    print(\"\\r\")  "
   ]
  },
  {
   "cell_type": "code",
   "execution_count": 13,
   "id": "cb8211df",
   "metadata": {},
   "outputs": [
    {
     "name": "stdout",
     "output_type": "stream",
     "text": [
      "          * \r\n",
      "        * * \r\n",
      "      * * * \r\n",
      "    * * * * \r\n",
      "  * * * * * \r\n"
     ]
    }
   ],
   "source": [
    "for i in range(0,5):\n",
    "    for j in range(0,5-i):\n",
    "        print(\"  \", end ='')\n",
    "    for k in range(0,i+1):\n",
    "        print(\"* \", end ='')\n",
    "    \n",
    "    print(\"\\r\")  "
   ]
  },
  {
   "cell_type": "code",
   "execution_count": 14,
   "id": "99913155",
   "metadata": {},
   "outputs": [],
   "source": [
    "### While loop pattern"
   ]
  },
  {
   "cell_type": "code",
   "execution_count": 15,
   "id": "bd7d2fb7",
   "metadata": {},
   "outputs": [
    {
     "name": "stdout",
     "output_type": "stream",
     "text": [
      "      * \n",
      "     * * \n",
      "    * * * \n",
      "   * * * * \n",
      "  * * * * * \n",
      " * * * * * * \n",
      "* * * * * * * \n"
     ]
    }
   ],
   "source": [
    "i =0\n",
    "n =7\n",
    "\n",
    "while i<n:\n",
    "    print(' '* (n-i-1) + '* '*(i+1))\n",
    "    i+=1"
   ]
  },
  {
   "cell_type": "code",
   "execution_count": 16,
   "id": "3f57c984",
   "metadata": {},
   "outputs": [
    {
     "name": "stdout",
     "output_type": "stream",
     "text": [
      "        * \n",
      "       * * \n",
      "      * * * \n",
      "     * * * * \n",
      "    * * * * * \n",
      "   * * * * * * \n",
      "  * * * * * * * \n",
      " * * * * * * * * \n"
     ]
    }
   ],
   "source": [
    "i =0\n",
    "n = 7\n",
    "\n",
    "while i<=n:\n",
    "    \n",
    "    j = 0\n",
    "    while j<=n-i:\n",
    "        print(\" \", end = '')\n",
    "        j +=1\n",
    "        \n",
    "    k = 0\n",
    "    while k<=i:\n",
    "        print(\"* \", end = '')\n",
    "        k +=1\n",
    "    \n",
    "    print()   \n",
    "    i+=1"
   ]
  },
  {
   "cell_type": "code",
   "execution_count": 23,
   "id": "becca6f5",
   "metadata": {},
   "outputs": [
    {
     "name": "stdout",
     "output_type": "stream",
     "text": [
      "        *\n",
      "       ***\n",
      "      *****\n",
      "     *******\n",
      "    *********\n",
      "   ***********\n",
      "  *************\n",
      " ***************\n"
     ]
    }
   ],
   "source": [
    "i =0\n",
    "n = 7\n",
    "m = 0\n",
    "\n",
    "while i<=n:\n",
    "    \n",
    "    j = 0\n",
    "    while j<=n-i:\n",
    "        print(\" \", end = '')\n",
    "        j +=1\n",
    "        \n",
    "    k = 0\n",
    "    while k<=m:\n",
    "        print(\"*\", end = '')\n",
    "        k +=1\n",
    "    \n",
    "    print()\n",
    "    m+=2\n",
    "    i+=1"
   ]
  },
  {
   "cell_type": "markdown",
   "id": "e0823236",
   "metadata": {},
   "source": [
    "# Trials"
   ]
  },
  {
   "cell_type": "code",
   "execution_count": 24,
   "id": "1e1b9fde",
   "metadata": {},
   "outputs": [
    {
     "name": "stdout",
     "output_type": "stream",
     "text": [
      "0\n",
      "1\n",
      "2\n",
      "3\n"
     ]
    }
   ],
   "source": [
    "for i in range(4):\n",
    "    print(i)"
   ]
  },
  {
   "cell_type": "code",
   "execution_count": 30,
   "id": "105d3f79",
   "metadata": {},
   "outputs": [
    {
     "name": "stdout",
     "output_type": "stream",
     "text": [
      "4 5 6 7 "
     ]
    }
   ],
   "source": [
    "for i in range(4,8):\n",
    "    print(i, end=' ')"
   ]
  },
  {
   "cell_type": "code",
   "execution_count": 29,
   "id": "7d2662e4",
   "metadata": {},
   "outputs": [
    {
     "name": "stdout",
     "output_type": "stream",
     "text": [
      "8 7 6 5 "
     ]
    }
   ],
   "source": [
    "for i in range(8,4,-1):\n",
    "    print(i, end=' ')"
   ]
  },
  {
   "cell_type": "code",
   "execution_count": 31,
   "id": "8d212bdd",
   "metadata": {},
   "outputs": [
    {
     "name": "stdout",
     "output_type": "stream",
     "text": [
      "0\n",
      "2\n",
      "4\n",
      "6\n",
      "8\n",
      "10\n",
      "12\n",
      "14\n",
      "16\n",
      "18\n"
     ]
    }
   ],
   "source": [
    "for i in range(0,20,2):\n",
    "    print(i)"
   ]
  },
  {
   "cell_type": "code",
   "execution_count": null,
   "id": "f63ae3b2",
   "metadata": {},
   "outputs": [],
   "source": []
  }
 ],
 "metadata": {
  "kernelspec": {
   "display_name": "Python 3 (ipykernel)",
   "language": "python",
   "name": "python3"
  },
  "language_info": {
   "codemirror_mode": {
    "name": "ipython",
    "version": 3
   },
   "file_extension": ".py",
   "mimetype": "text/x-python",
   "name": "python",
   "nbconvert_exporter": "python",
   "pygments_lexer": "ipython3",
   "version": "3.9.13"
  }
 },
 "nbformat": 4,
 "nbformat_minor": 5
}
