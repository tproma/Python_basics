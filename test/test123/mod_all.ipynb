{
 "cells": [
  {
   "cell_type": "code",
   "execution_count": 2,
   "id": "288d2fc8",
   "metadata": {},
   "outputs": [],
   "source": [
    "import mod1, mod2, mod3"
   ]
  },
  {
   "cell_type": "code",
   "execution_count": 3,
   "id": "95659d74",
   "metadata": {},
   "outputs": [
    {
     "data": {
      "text/plain": [
       "5"
      ]
     },
     "execution_count": 3,
     "metadata": {},
     "output_type": "execute_result"
    }
   ],
   "source": [
    "mod1.fn1(2,3)"
   ]
  },
  {
   "cell_type": "code",
   "execution_count": 4,
   "id": "8d80cebd",
   "metadata": {},
   "outputs": [
    {
     "data": {
      "text/plain": [
       "'This is fn 21 in mod2'"
      ]
     },
     "execution_count": 4,
     "metadata": {},
     "output_type": "execute_result"
    }
   ],
   "source": [
    "mod2.fn21()"
   ]
  },
  {
   "cell_type": "code",
   "execution_count": 5,
   "id": "91483022",
   "metadata": {},
   "outputs": [
    {
     "name": "stdout",
     "output_type": "stream",
     "text": [
      "This is fn 31 for mod 3\n"
     ]
    }
   ],
   "source": [
    "mod3.fn31()"
   ]
  },
  {
   "cell_type": "code",
   "execution_count": null,
   "id": "8015ff8c",
   "metadata": {},
   "outputs": [],
   "source": []
  }
 ],
 "metadata": {
  "kernelspec": {
   "display_name": "Python 3 (ipykernel)",
   "language": "python",
   "name": "python3"
  },
  "language_info": {
   "codemirror_mode": {
    "name": "ipython",
    "version": 3
   },
   "file_extension": ".py",
   "mimetype": "text/x-python",
   "name": "python",
   "nbconvert_exporter": "python",
   "pygments_lexer": "ipython3",
   "version": "3.9.13"
  }
 },
 "nbformat": 4,
 "nbformat_minor": 5
}
