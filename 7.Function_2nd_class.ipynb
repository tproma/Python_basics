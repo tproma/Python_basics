{
 "cells": [
  {
   "cell_type": "code",
   "execution_count": 4,
   "id": "6db174db",
   "metadata": {},
   "outputs": [],
   "source": [
    "def test1(*args):\n",
    "    print(args)\n",
    "    return args"
   ]
  },
  {
   "cell_type": "code",
   "execution_count": 6,
   "id": "994c5dbc",
   "metadata": {},
   "outputs": [
    {
     "name": "stdout",
     "output_type": "stream",
     "text": [
      "('sjd', 4, 3, [2, 344, 44, 21])\n"
     ]
    },
    {
     "data": {
      "text/plain": [
       "('sjd', 4, 3, [2, 344, 44, 21])"
      ]
     },
     "execution_count": 6,
     "metadata": {},
     "output_type": "execute_result"
    }
   ],
   "source": [
    "test1(\"sjd\", 4, 3, [2,344,44,21])"
   ]
  },
  {
   "cell_type": "code",
   "execution_count": 7,
   "id": "2079eec8",
   "metadata": {},
   "outputs": [],
   "source": [
    "def test2(**kwargs):\n",
    "    print(kwargs)\n",
    "    return kwargs"
   ]
  },
  {
   "cell_type": "code",
   "execution_count": 8,
   "id": "58136015",
   "metadata": {},
   "outputs": [
    {
     "name": "stdout",
     "output_type": "stream",
     "text": [
      "{'a': 'sjd', 'b': (4, 3), 'c': [2, 344, 44, 21]}\n"
     ]
    },
    {
     "data": {
      "text/plain": [
       "{'a': 'sjd', 'b': (4, 3), 'c': [2, 344, 44, 21]}"
      ]
     },
     "execution_count": 8,
     "metadata": {},
     "output_type": "execute_result"
    }
   ],
   "source": [
    "test2(a = \"sjd\",b = (4, 3), c=[2,344,44,21])"
   ]
  },
  {
   "cell_type": "markdown",
   "id": "e40b8807",
   "metadata": {},
   "source": [
    "### Labmda / Anynomous Function\n"
   ]
  },
  {
   "cell_type": "code",
   "execution_count": 15,
   "id": "cc7d89b6",
   "metadata": {},
   "outputs": [
    {
     "data": {
      "text/plain": [
       "('kasjb', 'skjd@gmail.com', 'kasjbskjd@gmail.com')"
      ]
     },
     "execution_count": 15,
     "metadata": {},
     "output_type": "execute_result"
    }
   ],
   "source": [
    "def test3(name, mail):\n",
    "    con = name+ mail\n",
    "    return name, mail, con\n",
    "\n",
    "test3(\"kasjb\", \"skjd@gmail.com\")"
   ]
  },
  {
   "cell_type": "code",
   "execution_count": 16,
   "id": "0ccecb55",
   "metadata": {},
   "outputs": [
    {
     "data": {
      "text/plain": [
       "13"
      ]
     },
     "execution_count": 16,
     "metadata": {},
     "output_type": "execute_result"
    }
   ],
   "source": [
    "a = 10\n",
    "b = 3\n",
    "\n",
    "def test4(x,y):\n",
    "    return x+y\n",
    "\n",
    "test4(a,b)"
   ]
  },
  {
   "cell_type": "code",
   "execution_count": 31,
   "id": "394611eb",
   "metadata": {},
   "outputs": [],
   "source": [
    "q = lambda x,y : x+y"
   ]
  },
  {
   "cell_type": "code",
   "execution_count": 32,
   "id": "1bfaacad",
   "metadata": {},
   "outputs": [
    {
     "data": {
      "text/plain": [
       "13"
      ]
     },
     "execution_count": 32,
     "metadata": {},
     "output_type": "execute_result"
    }
   ],
   "source": [
    "q(a,b)"
   ]
  },
  {
   "cell_type": "code",
   "execution_count": 33,
   "id": "45827977",
   "metadata": {},
   "outputs": [
    {
     "data": {
      "text/plain": [
       "'kasjbskjd@gmail.com'"
      ]
     },
     "execution_count": 33,
     "metadata": {},
     "output_type": "execute_result"
    }
   ],
   "source": [
    "q(\"kasjb\", \"skjd@gmail.com\")"
   ]
  },
  {
   "cell_type": "markdown",
   "id": "5c4ae3a1",
   "metadata": {},
   "source": [
    "### Docstring "
   ]
  },
  {
   "cell_type": "code",
   "execution_count": 34,
   "id": "49a78c2e",
   "metadata": {},
   "outputs": [
    {
     "name": "stdout",
     "output_type": "stream",
     "text": [
      "\n"
     ]
    }
   ],
   "source": [
    "print()"
   ]
  },
  {
   "cell_type": "code",
   "execution_count": 38,
   "id": "974bf83a",
   "metadata": {},
   "outputs": [],
   "source": [
    "def test5(a, b):\n",
    "    \"\"\"\n",
    "    This is a test function to learn the basics of function in python.\n",
    "    a = variable 1\n",
    "    b = variable 2\n",
    "    \"\"\"\n",
    "    \n",
    "    print(\" Docstring \")"
   ]
  },
  {
   "cell_type": "code",
   "execution_count": 39,
   "id": "eec476e0",
   "metadata": {},
   "outputs": [
    {
     "name": "stdout",
     "output_type": "stream",
     "text": [
      " Docstring \n"
     ]
    }
   ],
   "source": [
    "test5(2,3)"
   ]
  },
  {
   "cell_type": "code",
   "execution_count": 40,
   "id": "f20dfc8d",
   "metadata": {},
   "outputs": [
    {
     "name": "stdout",
     "output_type": "stream",
     "text": [
      "Help on function test5 in module __main__:\n",
      "\n",
      "test5(a, b)\n",
      "    This is a test function to learn the basics of function in python.\n",
      "    a = variable 1\n",
      "    b = variable 2\n",
      "\n"
     ]
    }
   ],
   "source": [
    "help(test5)"
   ]
  },
  {
   "cell_type": "markdown",
   "id": "995f49b6",
   "metadata": {},
   "source": [
    "### Iterator, iterable, generator"
   ]
  },
  {
   "cell_type": "code",
   "execution_count": 41,
   "id": "a112f740",
   "metadata": {},
   "outputs": [
    {
     "ename": "TypeError",
     "evalue": "'int' object is not iterable",
     "output_type": "error",
     "traceback": [
      "\u001b[1;31m---------------------------------------------------------------------------\u001b[0m",
      "\u001b[1;31mTypeError\u001b[0m                                 Traceback (most recent call last)",
      "Cell \u001b[1;32mIn [41], line 2\u001b[0m\n\u001b[0;32m      1\u001b[0m a \u001b[38;5;241m=\u001b[39m \u001b[38;5;241m10\u001b[39m\n\u001b[1;32m----> 2\u001b[0m \u001b[38;5;28;01mfor\u001b[39;00m i \u001b[38;5;129;01min\u001b[39;00m a:\n\u001b[0;32m      3\u001b[0m     \u001b[38;5;28mprint\u001b[39m(a)\n",
      "\u001b[1;31mTypeError\u001b[0m: 'int' object is not iterable"
     ]
    }
   ],
   "source": [
    "a = 10\n",
    "for i in a:\n",
    "    print(a)"
   ]
  },
  {
   "cell_type": "code",
   "execution_count": 44,
   "id": "fdfa0e61",
   "metadata": {},
   "outputs": [
    {
     "ename": "TypeError",
     "evalue": "'str' object is not an iterator",
     "output_type": "error",
     "traceback": [
      "\u001b[1;31m---------------------------------------------------------------------------\u001b[0m",
      "\u001b[1;31mTypeError\u001b[0m                                 Traceback (most recent call last)",
      "Cell \u001b[1;32mIn [44], line 2\u001b[0m\n\u001b[0;32m      1\u001b[0m s \u001b[38;5;241m=\u001b[39m \u001b[38;5;124m\"\u001b[39m\u001b[38;5;124mproma\u001b[39m\u001b[38;5;124m\"\u001b[39m\n\u001b[1;32m----> 2\u001b[0m \u001b[38;5;28;43mnext\u001b[39;49m\u001b[43m(\u001b[49m\u001b[43ms\u001b[49m\u001b[43m)\u001b[49m\n",
      "\u001b[1;31mTypeError\u001b[0m: 'str' object is not an iterator"
     ]
    }
   ],
   "source": [
    "s = \"proma\"\n",
    "next(s)"
   ]
  },
  {
   "cell_type": "code",
   "execution_count": 49,
   "id": "2c4e5f82",
   "metadata": {},
   "outputs": [],
   "source": [
    "def test6(n):\n",
    "    for i in range(n):\n",
    "        print(i**3)"
   ]
  },
  {
   "cell_type": "code",
   "execution_count": 50,
   "id": "c20f0b8d",
   "metadata": {},
   "outputs": [
    {
     "name": "stdout",
     "output_type": "stream",
     "text": [
      "0\n",
      "1\n",
      "8\n",
      "27\n",
      "64\n"
     ]
    }
   ],
   "source": [
    "test6(5)"
   ]
  },
  {
   "cell_type": "code",
   "execution_count": 52,
   "id": "cc2f75c4",
   "metadata": {},
   "outputs": [],
   "source": [
    "def test7(n):\n",
    "    for i in range(n):\n",
    "        yield i**3"
   ]
  },
  {
   "cell_type": "code",
   "execution_count": 53,
   "id": "fc7aec81",
   "metadata": {},
   "outputs": [
    {
     "data": {
      "text/plain": [
       "<generator object test7 at 0x000001E804C8D190>"
      ]
     },
     "execution_count": 53,
     "metadata": {},
     "output_type": "execute_result"
    }
   ],
   "source": [
    "test7(5)"
   ]
  },
  {
   "cell_type": "code",
   "execution_count": 56,
   "id": "a2c5d6f8",
   "metadata": {},
   "outputs": [],
   "source": [
    "def genfib(n):\n",
    "    a = 1\n",
    "    b = 1\n",
    "    output = []\n",
    "    for i in range(n):\n",
    "        output.append(a)\n",
    "        a, b = b, a+b\n",
    "        \n",
    "    return output"
   ]
  },
  {
   "cell_type": "code",
   "execution_count": 58,
   "id": "bf5d7e49",
   "metadata": {},
   "outputs": [
    {
     "data": {
      "text/plain": [
       "[1, 1, 2, 3, 5, 8, 13, 21]"
      ]
     },
     "execution_count": 58,
     "metadata": {},
     "output_type": "execute_result"
    }
   ],
   "source": [
    "genfib(8)"
   ]
  },
  {
   "cell_type": "code",
   "execution_count": null,
   "id": "e6304bfa",
   "metadata": {},
   "outputs": [],
   "source": []
  }
 ],
 "metadata": {
  "kernelspec": {
   "display_name": "Python 3 (ipykernel)",
   "language": "python",
   "name": "python3"
  },
  "language_info": {
   "codemirror_mode": {
    "name": "ipython",
    "version": 3
   },
   "file_extension": ".py",
   "mimetype": "text/x-python",
   "name": "python",
   "nbconvert_exporter": "python",
   "pygments_lexer": "ipython3",
   "version": "3.9.13"
  }
 },
 "nbformat": 4,
 "nbformat_minor": 5
}
