{
 "cells": [
  {
   "cell_type": "code",
   "execution_count": 5,
   "id": "26e687b6",
   "metadata": {},
   "outputs": [
    {
     "data": {
      "text/plain": [
       "13.0"
      ]
     },
     "execution_count": 5,
     "metadata": {},
     "output_type": "execute_result"
    }
   ],
   "source": [
    "import math\n",
    "math.sqrt(169)"
   ]
  },
  {
   "cell_type": "code",
   "execution_count": 4,
   "id": "58401f64",
   "metadata": {},
   "outputs": [
    {
     "data": {
      "text/plain": [
       "13.0"
      ]
     },
     "execution_count": 4,
     "metadata": {},
     "output_type": "execute_result"
    }
   ],
   "source": [
    "from math import sqrt\n",
    "sqrt(169)"
   ]
  },
  {
   "cell_type": "code",
   "execution_count": 6,
   "id": "89cc9002",
   "metadata": {},
   "outputs": [
    {
     "data": {
      "text/plain": [
       "3.141592653589793"
      ]
     },
     "execution_count": 6,
     "metadata": {},
     "output_type": "execute_result"
    }
   ],
   "source": [
    "from math import sqrt, pi\n",
    "pi"
   ]
  },
  {
   "cell_type": "code",
   "execution_count": 10,
   "id": "31e7db40",
   "metadata": {},
   "outputs": [
    {
     "data": {
      "text/plain": [
       "(0.0, 1.0, 12.0)"
      ]
     },
     "execution_count": 10,
     "metadata": {},
     "output_type": "execute_result"
    }
   ],
   "source": [
    "from math import *\n",
    "sin(0), cos(0), sqrt(144)"
   ]
  },
  {
   "cell_type": "code",
   "execution_count": 19,
   "id": "cee0c349",
   "metadata": {},
   "outputs": [
    {
     "data": {
      "text/plain": [
       "'D:\\\\A_Category\\\\iNeuron\\\\Basic_Python_coding'"
      ]
     },
     "execution_count": 19,
     "metadata": {},
     "output_type": "execute_result"
    }
   ],
   "source": [
    "pwd()"
   ]
  },
  {
   "cell_type": "code",
   "execution_count": 20,
   "id": "d6100fd6",
   "metadata": {},
   "outputs": [
    {
     "name": "stdout",
     "output_type": "stream",
     "text": [
      "This is my first module\n"
     ]
    }
   ],
   "source": [
    "import modules_test1"
   ]
  },
  {
   "cell_type": "code",
   "execution_count": 21,
   "id": "827facda",
   "metadata": {},
   "outputs": [],
   "source": [
    "import modules_test1"
   ]
  },
  {
   "cell_type": "code",
   "execution_count": 22,
   "id": "f79fa78c",
   "metadata": {},
   "outputs": [
    {
     "name": "stdout",
     "output_type": "stream",
     "text": [
      "This is my first module\n"
     ]
    },
    {
     "data": {
      "text/plain": [
       "<module 'modules_test1' from 'D:\\\\A_Category\\\\iNeuron\\\\Basic_Python_coding\\\\modules_test1.py'>"
      ]
     },
     "execution_count": 22,
     "metadata": {},
     "output_type": "execute_result"
    }
   ],
   "source": [
    "import imp\n",
    "imp.reload(modules_test1)"
   ]
  },
  {
   "cell_type": "code",
   "execution_count": 6,
   "id": "3b767ac2",
   "metadata": {},
   "outputs": [
    {
     "data": {
      "text/plain": [
       "(5, 9, 6)"
      ]
     },
     "execution_count": 6,
     "metadata": {},
     "output_type": "execute_result"
    }
   ],
   "source": [
    "import modules_addition\n",
    "modules_addition.addition(3,2), modules_addition.power(3,2), modules_addition.multi(3,2)"
   ]
  },
  {
   "cell_type": "code",
   "execution_count": 1,
   "id": "ff2eb7a6",
   "metadata": {},
   "outputs": [],
   "source": [
    "import test2"
   ]
  },
  {
   "cell_type": "code",
   "execution_count": 2,
   "id": "d37cc86c",
   "metadata": {},
   "outputs": [
    {
     "data": {
      "text/plain": [
       "{'name': 'proma',\n",
       " 'Course': ['ML', 'AI', 'CV', 'NLP'],\n",
       " 'msg': 'this is my class'}"
      ]
     },
     "execution_count": 2,
     "metadata": {},
     "output_type": "execute_result"
    }
   ],
   "source": [
    "test2.data\n"
   ]
  },
  {
   "cell_type": "code",
   "execution_count": 3,
   "id": "3be33ae4",
   "metadata": {},
   "outputs": [
    {
     "data": {
      "text/plain": [
       "['ML', 'AI', 'CV', 'NLP']"
      ]
     },
     "execution_count": 3,
     "metadata": {},
     "output_type": "execute_result"
    }
   ],
   "source": [
    "test2.get_course()"
   ]
  },
  {
   "cell_type": "code",
   "execution_count": 4,
   "id": "bc7487ed",
   "metadata": {},
   "outputs": [
    {
     "data": {
      "text/plain": [
       "'this is my class'"
      ]
     },
     "execution_count": 4,
     "metadata": {},
     "output_type": "execute_result"
    }
   ],
   "source": [
    "test2.msg()"
   ]
  },
  {
   "cell_type": "code",
   "execution_count": 5,
   "id": "493f9c06",
   "metadata": {},
   "outputs": [],
   "source": [
    "from test2 import get_course\n"
   ]
  },
  {
   "cell_type": "code",
   "execution_count": null,
   "id": "437d8bd1",
   "metadata": {},
   "outputs": [],
   "source": []
  }
 ],
 "metadata": {
  "kernelspec": {
   "display_name": "Python 3 (ipykernel)",
   "language": "python",
   "name": "python3"
  },
  "language_info": {
   "codemirror_mode": {
    "name": "ipython",
    "version": 3
   },
   "file_extension": ".py",
   "mimetype": "text/x-python",
   "name": "python",
   "nbconvert_exporter": "python",
   "pygments_lexer": "ipython3",
   "version": "3.9.13"
  }
 },
 "nbformat": 4,
 "nbformat_minor": 5
}
