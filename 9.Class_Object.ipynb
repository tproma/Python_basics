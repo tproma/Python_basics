{
 "cells": [
  {
   "cell_type": "code",
   "execution_count": 1,
   "id": "1611b41c",
   "metadata": {},
   "outputs": [],
   "source": [
    "class car:\n",
    "    def __init__(self, model, year):\n",
    "        self.model = model\n",
    "        self.year = year"
   ]
  },
  {
   "cell_type": "code",
   "execution_count": 2,
   "id": "80567b79",
   "metadata": {},
   "outputs": [],
   "source": [
    "a = car(\"123\", 2020)"
   ]
  },
  {
   "cell_type": "code",
   "execution_count": 3,
   "id": "78378bcc",
   "metadata": {},
   "outputs": [
    {
     "data": {
      "text/plain": [
       "'123'"
      ]
     },
     "execution_count": 3,
     "metadata": {},
     "output_type": "execute_result"
    }
   ],
   "source": [
    "a.model"
   ]
  },
  {
   "cell_type": "code",
   "execution_count": 46,
   "id": "a5dd5df1",
   "metadata": {},
   "outputs": [],
   "source": [
    "class car1:\n",
    "    def __init__(a, m, y, fm):\n",
    "        a.model = m\n",
    "        a.year = y\n",
    "        a.fixed_mile = fm\n",
    "        \n",
    "    def mile(b, milage):\n",
    "        print(b.model)\n",
    "        print(milage)\n",
    "        return b.fixed_mile - milage\n",
    "    \n",
    "    def __str__(self):\n",
    "        return \"this is the car class i have created\"\n",
    "        "
   ]
  },
  {
   "cell_type": "code",
   "execution_count": 47,
   "id": "fc8784d5",
   "metadata": {},
   "outputs": [],
   "source": [
    "obj = car1(\"123\", 2020, 500)"
   ]
  },
  {
   "cell_type": "code",
   "execution_count": 48,
   "id": "788e13fb",
   "metadata": {},
   "outputs": [
    {
     "data": {
      "text/plain": [
       "'123'"
      ]
     },
     "execution_count": 48,
     "metadata": {},
     "output_type": "execute_result"
    }
   ],
   "source": [
    "obj.model"
   ]
  },
  {
   "cell_type": "code",
   "execution_count": 49,
   "id": "6e148282",
   "metadata": {},
   "outputs": [
    {
     "name": "stdout",
     "output_type": "stream",
     "text": [
      "123\n",
      "45\n"
     ]
    },
    {
     "data": {
      "text/plain": [
       "455"
      ]
     },
     "execution_count": 49,
     "metadata": {},
     "output_type": "execute_result"
    }
   ],
   "source": [
    "obj.mile(45)"
   ]
  },
  {
   "cell_type": "code",
   "execution_count": 50,
   "id": "36f1b48d",
   "metadata": {},
   "outputs": [
    {
     "name": "stdout",
     "output_type": "stream",
     "text": [
      "this is the car class i have created\n"
     ]
    }
   ],
   "source": [
    "print(obj)"
   ]
  },
  {
   "cell_type": "code",
   "execution_count": 64,
   "id": "8632d34d",
   "metadata": {},
   "outputs": [],
   "source": [
    "class student:\n",
    "    \n",
    "    def __init__(self, name, roll, jd, current_topic):\n",
    "        self.name = name\n",
    "        self.roll = roll\n",
    "        self.current_topic = current_topic\n",
    "        self.jd = jd\n",
    "        \n",
    "    def name_parsing(self):\n",
    "        if type(self.name) ==list:\n",
    "            for i in self.name:\n",
    "                print(\"name of student \", i)\n",
    "        else:\n",
    "            print(\"name not in list\")\n",
    "        \n",
    "    def c_topic(self):\n",
    "        print(\"current_topic discussed is \", self. current_topic )\n",
    "        \n",
    "    def str_roll(self):\n",
    "        try:\n",
    "            if type(self.roll) == str:\n",
    "                print(\"All good\")\n",
    "            else:\n",
    "                return str(self.roll)\n",
    "        except Exception as e:\n",
    "            print(\"This is error message \",  e)\n",
    "        \n",
    "    def duration(self, current_date):\n",
    "        print (\"duration of the class \", current_date - self.jd)\n",
    "        \n",
    "    def __str__(self):\n",
    "        return \"This is the student class\""
   ]
  },
  {
   "cell_type": "code",
   "execution_count": 65,
   "id": "f5d4227b",
   "metadata": {},
   "outputs": [],
   "source": [
    "Pro = student(\"Pro\", 1, 2015, \"OOP\" )"
   ]
  },
  {
   "cell_type": "code",
   "execution_count": 66,
   "id": "147fe2fc",
   "metadata": {},
   "outputs": [
    {
     "name": "stdout",
     "output_type": "stream",
     "text": [
      "duration of the class  8\n"
     ]
    }
   ],
   "source": [
    "Pro.duration(2023)"
   ]
  },
  {
   "cell_type": "code",
   "execution_count": 67,
   "id": "a9b3d227",
   "metadata": {},
   "outputs": [
    {
     "data": {
      "text/plain": [
       "'1'"
      ]
     },
     "execution_count": 67,
     "metadata": {},
     "output_type": "execute_result"
    }
   ],
   "source": [
    "Pro.str_roll()"
   ]
  },
  {
   "cell_type": "code",
   "execution_count": 68,
   "id": "ba4dd9bf",
   "metadata": {},
   "outputs": [],
   "source": [
    "Class_10 = student([\"a\",\"b\",\"c\"], \n",
    "                   [2,3,4],\n",
    "                   2020, \"OOPS\")"
   ]
  },
  {
   "cell_type": "code",
   "execution_count": 69,
   "id": "f8e33ef8",
   "metadata": {},
   "outputs": [
    {
     "name": "stdout",
     "output_type": "stream",
     "text": [
      "name of student  a\n",
      "name of student  b\n",
      "name of student  c\n"
     ]
    }
   ],
   "source": [
    "Class_10.name_parsing()"
   ]
  },
  {
   "cell_type": "code",
   "execution_count": 72,
   "id": "02ae56d6",
   "metadata": {},
   "outputs": [
    {
     "data": {
      "text/plain": [
       "['a', 'b', 'c']"
      ]
     },
     "execution_count": 72,
     "metadata": {},
     "output_type": "execute_result"
    }
   ],
   "source": [
    "Class_10.name\n",
    "\n"
   ]
  },
  {
   "cell_type": "code",
   "execution_count": 73,
   "id": "07dd9168",
   "metadata": {},
   "outputs": [
    {
     "data": {
      "text/plain": [
       "[2, 3, 4]"
      ]
     },
     "execution_count": 73,
     "metadata": {},
     "output_type": "execute_result"
    }
   ],
   "source": [
    "Class_10.roll"
   ]
  },
  {
   "cell_type": "code",
   "execution_count": 132,
   "id": "eec218af",
   "metadata": {},
   "outputs": [],
   "source": [
    "class Data1:\n",
    "    def __init__(self, File_name, File_type, date, size):\n",
    "        self.File_name = File_name\n",
    "        self.File_type = File_type\n",
    "        self.date = date\n",
    "        self.size = size\n",
    "        \n",
    "    def File_open(self):\n",
    "        try:           \n",
    "            file = open(self.File_name, 'w')\n",
    "            file.write(\"1. opening the file\")\n",
    "            file.close()\n",
    "        except Exception as e:\n",
    "            print(\" Error message\")\n",
    "        \n",
    "    def File_read(self):\n",
    "        try:\n",
    "            file = open(self.File_name, 'r')\n",
    "            print(file.read())\n",
    "            file.close()\n",
    "        except Exception as e:\n",
    "             print(\" Error message\")\n",
    "                \n",
    "    def File_append(self):\n",
    "        try:            \n",
    "            file = open(self.File_name, 'a')\n",
    "            file.write(\"\\nAppending....\")\n",
    "            file.close()\n",
    "\n",
    "            file = open(self.File_name, 'r')\n",
    "            print(file.read())\n",
    "            file.close()\n",
    "        except Exception as e:\n",
    "             print(\" Error message\")\n",
    "                \n",
    "        \n",
    "        \n",
    "    "
   ]
  },
  {
   "cell_type": "code",
   "execution_count": 128,
   "id": "0f159167",
   "metadata": {},
   "outputs": [],
   "source": [
    "File1 = Data(\"file_1\",\"txt\", \"28/8/2023\", '1MB')"
   ]
  },
  {
   "cell_type": "code",
   "execution_count": 129,
   "id": "9ff4055d",
   "metadata": {},
   "outputs": [],
   "source": [
    "File1.File_open()"
   ]
  },
  {
   "cell_type": "code",
   "execution_count": 130,
   "id": "268ba3f7",
   "metadata": {},
   "outputs": [
    {
     "name": "stdout",
     "output_type": "stream",
     "text": [
      "1. opening the file\n"
     ]
    }
   ],
   "source": [
    "File1.File_read()"
   ]
  },
  {
   "cell_type": "code",
   "execution_count": 131,
   "id": "4f8d2306",
   "metadata": {},
   "outputs": [
    {
     "name": "stdout",
     "output_type": "stream",
     "text": [
      "1. opening the file\n",
      "Appending....\n"
     ]
    }
   ],
   "source": [
    "File1.File_append()"
   ]
  },
  {
   "cell_type": "code",
   "execution_count": 133,
   "id": "68007d89",
   "metadata": {},
   "outputs": [],
   "source": [
    "class Data2:\n",
    "    def __init__(self, File_name, File_type, date, size):\n",
    "        self.File_name = File_name\n",
    "        self.File_type = File_type\n",
    "        self.date = date\n",
    "        self.size = size\n",
    "        \n",
    "    def File_open(self):\n",
    "        try:\n",
    "            with open(self.File_name, 'w') as f:\n",
    "                f.write(\"1. opening the file\")\n",
    "        except Exception as e:\n",
    "             print(\" Error message\")\n",
    "    \n",
    "    def File_read(self):\n",
    "        try:\n",
    "            with open(self.File_name, 'r') as file:\n",
    "                print(file.read())\n",
    "        except Exception as e:\n",
    "             print(\" Error message\")\n",
    "                \n",
    "    def File_append(self):\n",
    "        try:            \n",
    "            with open(self.File_name, 'a') as file:\n",
    "                file.write(\"\\nAppending....\")\n",
    "                print(file.read())\n",
    "        except Exception as e:\n",
    "             print(\" Error message\")\n",
    "                \n",
    "         \n",
    "            "
   ]
  },
  {
   "cell_type": "code",
   "execution_count": 134,
   "id": "c305bf5e",
   "metadata": {},
   "outputs": [],
   "source": [
    "File2 = Data(\"file_2\",\"txt\", \"28/8/2023\", '1MB')"
   ]
  },
  {
   "cell_type": "code",
   "execution_count": 135,
   "id": "0bbc47dc",
   "metadata": {},
   "outputs": [],
   "source": [
    "File1.File_open()"
   ]
  },
  {
   "cell_type": "code",
   "execution_count": 136,
   "id": "45f02a18",
   "metadata": {},
   "outputs": [
    {
     "name": "stdout",
     "output_type": "stream",
     "text": [
      "1. opening the file\n"
     ]
    }
   ],
   "source": [
    "File1.File_read()"
   ]
  },
  {
   "cell_type": "code",
   "execution_count": 137,
   "id": "1eba74f8",
   "metadata": {},
   "outputs": [
    {
     "name": "stdout",
     "output_type": "stream",
     "text": [
      "1. opening the file\n",
      "Appending....\n"
     ]
    }
   ],
   "source": [
    "File1.File_append()"
   ]
  }
 ],
 "metadata": {
  "kernelspec": {
   "display_name": "Python 3 (ipykernel)",
   "language": "python",
   "name": "python3"
  },
  "language_info": {
   "codemirror_mode": {
    "name": "ipython",
    "version": 3
   },
   "file_extension": ".py",
   "mimetype": "text/x-python",
   "name": "python",
   "nbconvert_exporter": "python",
   "pygments_lexer": "ipython3",
   "version": "3.9.13"
  }
 },
 "nbformat": 4,
 "nbformat_minor": 5
}
