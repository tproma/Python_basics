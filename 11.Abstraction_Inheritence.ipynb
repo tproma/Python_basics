{
 "cells": [
  {
   "cell_type": "markdown",
   "id": "3117dbda",
   "metadata": {},
   "source": [
    "# Abstraction"
   ]
  },
  {
   "cell_type": "code",
   "execution_count": 12,
   "id": "ee5705d3",
   "metadata": {},
   "outputs": [],
   "source": [
    "class test:\n",
    "    def __init__(self, a,b,c,d):\n",
    "        self.__a = a\n",
    "        self.b = b\n",
    "        self.c = c\n",
    "        self.d = d\n",
    "        \n",
    "    def custom(self, v):\n",
    "        return v - self.__a\n",
    "    \n",
    "    def __str__(self):\n",
    "        return \"Code for Abstraction\"\n",
    "    "
   ]
  },
  {
   "cell_type": "code",
   "execution_count": 13,
   "id": "0d2b4cfb",
   "metadata": {},
   "outputs": [],
   "source": [
    "o = test(7,3,5,6)"
   ]
  },
  {
   "cell_type": "code",
   "execution_count": 14,
   "id": "06936455",
   "metadata": {},
   "outputs": [
    {
     "ename": "AttributeError",
     "evalue": "'test' object has no attribute '__a'",
     "output_type": "error",
     "traceback": [
      "\u001b[1;31m---------------------------------------------------------------------------\u001b[0m",
      "\u001b[1;31mAttributeError\u001b[0m                            Traceback (most recent call last)",
      "Cell \u001b[1;32mIn [14], line 1\u001b[0m\n\u001b[1;32m----> 1\u001b[0m \u001b[43mo\u001b[49m\u001b[38;5;241;43m.\u001b[39;49m\u001b[43m__a\u001b[49m\n",
      "\u001b[1;31mAttributeError\u001b[0m: 'test' object has no attribute '__a'"
     ]
    }
   ],
   "source": [
    "o.__a"
   ]
  },
  {
   "cell_type": "markdown",
   "id": "c5157929",
   "metadata": {},
   "source": [
    "#  \" __ \" = Private \n",
    "#   \" _ \"  = Protected\n",
    "#  \"      \"  = Public"
   ]
  },
  {
   "cell_type": "code",
   "execution_count": 15,
   "id": "ac80cfb7",
   "metadata": {},
   "outputs": [
    {
     "data": {
      "text/plain": [
       "7"
      ]
     },
     "execution_count": 15,
     "metadata": {},
     "output_type": "execute_result"
    }
   ],
   "source": [
    "o._test__a"
   ]
  },
  {
   "cell_type": "markdown",
   "id": "35f29252",
   "metadata": {},
   "source": [
    "# Inheritence"
   ]
  },
  {
   "cell_type": "code",
   "execution_count": 19,
   "id": "6db6f4df",
   "metadata": {},
   "outputs": [],
   "source": [
    "class test1(test):\n",
    "    def __init__(self, j, *args):\n",
    "        super(test1, self).__init__(*args)\n",
    "        self.j = j\n",
    "        \n",
    "        "
   ]
  },
  {
   "cell_type": "code",
   "execution_count": 20,
   "id": "238cc07c",
   "metadata": {},
   "outputs": [
    {
     "data": {
      "text/plain": [
       "3"
      ]
     },
     "execution_count": 20,
     "metadata": {},
     "output_type": "execute_result"
    }
   ],
   "source": [
    "m = test1(1,2,3,4,5)\n",
    "m.b"
   ]
  },
  {
   "cell_type": "code",
   "execution_count": 21,
   "id": "9e94c373",
   "metadata": {},
   "outputs": [
    {
     "data": {
      "text/plain": [
       "1"
      ]
     },
     "execution_count": 21,
     "metadata": {},
     "output_type": "execute_result"
    }
   ],
   "source": [
    "m.j"
   ]
  },
  {
   "cell_type": "markdown",
   "id": "391edb9c",
   "metadata": {},
   "source": [
    "## super( child, self).__init__(*args) "
   ]
  },
  {
   "cell_type": "code",
   "execution_count": null,
   "id": "2d867a9c",
   "metadata": {},
   "outputs": [],
   "source": []
  },
  {
   "cell_type": "markdown",
   "id": "be1e4e7c",
   "metadata": {},
   "source": [
    "# HW"
   ]
  },
  {
   "cell_type": "code",
   "execution_count": 55,
   "id": "011c7f4e",
   "metadata": {},
   "outputs": [],
   "source": [
    "class test:\n",
    "    def __init__(self,q):\n",
    "        self.q = q\n",
    "        \n",
    "    def a(self):\n",
    "        print(\" Class: test\")\n",
    "        \n",
    "        \n",
    "class test1:\n",
    "    def __init__(self,w):\n",
    "        self.w = w\n",
    "        \n",
    "    def ab(self):\n",
    "        print(\" Class: test_1 \")\n",
    "        "
   ]
  },
  {
   "cell_type": "code",
   "execution_count": 56,
   "id": "806d682c",
   "metadata": {},
   "outputs": [],
   "source": [
    "class test2(test, test1):\n",
    "    def __init__(self,r, *args ):\n",
    "        super(test2, self).__init__( *args)\n",
    "        self.r = r"
   ]
  },
  {
   "cell_type": "code",
   "execution_count": 57,
   "id": "d94aa892",
   "metadata": {},
   "outputs": [],
   "source": [
    "o = test2(1,3)"
   ]
  },
  {
   "cell_type": "code",
   "execution_count": 58,
   "id": "8b06aa46",
   "metadata": {},
   "outputs": [
    {
     "data": {
      "text/plain": [
       "1"
      ]
     },
     "execution_count": 58,
     "metadata": {},
     "output_type": "execute_result"
    }
   ],
   "source": [
    "o.r"
   ]
  },
  {
   "cell_type": "code",
   "execution_count": 59,
   "id": "6eda0e77",
   "metadata": {},
   "outputs": [
    {
     "data": {
      "text/plain": [
       "3"
      ]
     },
     "execution_count": 59,
     "metadata": {},
     "output_type": "execute_result"
    }
   ],
   "source": [
    "o.q"
   ]
  },
  {
   "cell_type": "code",
   "execution_count": 51,
   "id": "ad3fda4b",
   "metadata": {},
   "outputs": [
    {
     "ename": "AttributeError",
     "evalue": "'test2' object has no attribute 'w'",
     "output_type": "error",
     "traceback": [
      "\u001b[1;31m---------------------------------------------------------------------------\u001b[0m",
      "\u001b[1;31mAttributeError\u001b[0m                            Traceback (most recent call last)",
      "Cell \u001b[1;32mIn [51], line 1\u001b[0m\n\u001b[1;32m----> 1\u001b[0m \u001b[43mo\u001b[49m\u001b[38;5;241;43m.\u001b[39;49m\u001b[43mw\u001b[49m\n",
      "\u001b[1;31mAttributeError\u001b[0m: 'test2' object has no attribute 'w'"
     ]
    }
   ],
   "source": [
    "o.w"
   ]
  },
  {
   "cell_type": "code",
   "execution_count": 60,
   "id": "1ca38fe0",
   "metadata": {},
   "outputs": [
    {
     "name": "stdout",
     "output_type": "stream",
     "text": [
      " Class: test_1 \n"
     ]
    }
   ],
   "source": [
    "o.ab()"
   ]
  },
  {
   "cell_type": "code",
   "execution_count": null,
   "id": "bda15c73",
   "metadata": {},
   "outputs": [],
   "source": []
  },
  {
   "cell_type": "code",
   "execution_count": null,
   "id": "f8ebf7c1",
   "metadata": {
    "collapsed": true
   },
   "outputs": [],
   "source": []
  },
  {
   "cell_type": "code",
   "execution_count": 52,
   "id": "e6a66ae7",
   "metadata": {},
   "outputs": [
    {
     "name": "stdout",
     "output_type": "stream",
     "text": [
      " Class: test\n",
      " Class: test_ 1 ..\n"
     ]
    }
   ],
   "source": [
    "class test:\n",
    "    def a(self):\n",
    "        print(\" Class: test\")\n",
    "        \n",
    "        \n",
    "class test1:\n",
    "    def a(self):\n",
    "        print(\" Class: test_ 1 ..\")\n",
    "        \n",
    "\n",
    "class test2(test, test1):\n",
    "    def a(self):\n",
    "        test.a(self)\n",
    "        test1.a(self)\n",
    "        \n",
    "t = test2()\n",
    "t.a()"
   ]
  },
  {
   "cell_type": "markdown",
   "id": "0e282ae0",
   "metadata": {},
   "source": [
    "# "
   ]
  },
  {
   "cell_type": "code",
   "execution_count": 73,
   "id": "859bb316",
   "metadata": {},
   "outputs": [],
   "source": [
    "class Tproma:\n",
    "    company_website = \"https://tproma.github.io/\"\n",
    "    name = \"Tproma\"\n",
    "    \n",
    "    def contact(self):\n",
    "        print(\"Contact me at \", self.company_website)\n",
    "        \n",
    "class DataScience(Tproma):\n",
    "    def __init__(self):\n",
    "        self.year_of_establishment = 2017\n",
    "        \n",
    "    def est_details(self):\n",
    "        print('{0} Company was established in {1}'.format(self.name, self.year_of_establishment))\n",
    "        "
   ]
  },
  {
   "cell_type": "code",
   "execution_count": 74,
   "id": "102bb417",
   "metadata": {},
   "outputs": [
    {
     "name": "stdout",
     "output_type": "stream",
     "text": [
      "Tproma Company was established in 2017\n"
     ]
    }
   ],
   "source": [
    "d = DataScience()\n",
    "d.est_details()"
   ]
  },
  {
   "cell_type": "code",
   "execution_count": 75,
   "id": "1c1768dd",
   "metadata": {},
   "outputs": [
    {
     "name": "stdout",
     "output_type": "stream",
     "text": [
      "multi task\n",
      "Name : Sam \n"
     ]
    }
   ],
   "source": [
    "class OS:\n",
    "    multi_task = True\n",
    "    os_name = \"Windows OS\"\n",
    "    name = \"Sam\"\n",
    "    \n",
    "\n",
    "class windows(OS, Tproma):\n",
    "    def __init__(self):\n",
    "        if self.multi_task is True:\n",
    "            print(\"multi task\")\n",
    "        print('Name : {} '.format(self.name))\n",
    "        \n",
    "w = windows()"
   ]
  },
  {
   "cell_type": "code",
   "execution_count": 76,
   "id": "69648e3a",
   "metadata": {},
   "outputs": [
    {
     "name": "stdout",
     "output_type": "stream",
     "text": [
      "multi task\n",
      "Name : Tproma \n"
     ]
    }
   ],
   "source": [
    "\n",
    "class windows( Tproma, OS):\n",
    "    def __init__(self):\n",
    "        if self.multi_task is True:\n",
    "            print(\"multi task\")\n",
    "        print('Name : {} '.format(self.name))\n",
    "        \n",
    "w = windows()"
   ]
  },
  {
   "cell_type": "markdown",
   "id": "edea58cc",
   "metadata": {},
   "source": [
    "## Multi-level Inheritence"
   ]
  },
  {
   "cell_type": "code",
   "execution_count": 78,
   "id": "c6c1c922",
   "metadata": {},
   "outputs": [
    {
     "name": "stdout",
     "output_type": "stream",
     "text": [
      "The company Coursera offers total 12 courses,which are Data-Science types\n"
     ]
    }
   ],
   "source": [
    "class Coursera:\n",
    "    num_of_classes = 12\n",
    "    \n",
    "class DataScience(Coursera):\n",
    "    course_type = \"Data-Science\"\n",
    "    \n",
    "class AI(DataScience):\n",
    "    def __init__(self):\n",
    "        self.company = \"Coursera\"\n",
    "        print('The company {0} offers total {1} courses,which are {2} types'.format(self.company, self.num_of_classes, self.course_type))\n",
    "    \n",
    "              \n",
    "              \n",
    "AI = AI()"
   ]
  },
  {
   "cell_type": "markdown",
   "id": "0ac1867c",
   "metadata": {},
   "source": [
    "# Encapsulation"
   ]
  },
  {
   "cell_type": "code",
   "execution_count": 92,
   "id": "1424efde",
   "metadata": {},
   "outputs": [],
   "source": [
    "class test:\n",
    "    def __init__(self, a,b,c):\n",
    "        self.a = a\n",
    "        self.b = b\n",
    "        self.c = c\n",
    "        \n",
    "    def __str__(self):\n",
    "        return \"test class return\"\n",
    "    \n",
    "    \n",
    "    \n",
    "class test1:\n",
    "    def __init__(self, a,b,c):\n",
    "        self.a = a\n",
    "        self.b = b\n",
    "        self.c = c\n",
    "        \n",
    "    def __str__(self):\n",
    "        return \"test 1 class return\"\n",
    "    \n",
    "    \n",
    "    \n",
    "    \n",
    "class test2:\n",
    "    def __init__(self, a,b,c):\n",
    "        self.a = a\n",
    "        self.b = b\n",
    "        self.c = c\n",
    "        \n",
    "    def __str__(self):\n",
    "        return \"test 2 class return\"\n",
    "    \n",
    "\n",
    "class final:\n",
    "    def __init__(self, x,y,z):\n",
    "        self.x = x\n",
    "        self.y = y\n",
    "        self.z = z \n",
    "        \n",
    "    def __str__(self):\n",
    "        return str(self.x) + \" , \" + str(self.y) + \" , \" + str(self.z)"
   ]
  },
  {
   "cell_type": "code",
   "execution_count": 93,
   "id": "d992d609",
   "metadata": {},
   "outputs": [
    {
     "name": "stdout",
     "output_type": "stream",
     "text": [
      "test class return , test 1 class return , test 2 class return\n"
     ]
    }
   ],
   "source": [
    "t = test(1,2,3)\n",
    "t1 = test1(4,5,6)\n",
    "t2 = test2(7,8,9)\n",
    "f = final(t,t1,t2)\n",
    "print(f)"
   ]
  },
  {
   "cell_type": "code",
   "execution_count": 94,
   "id": "bb17fc20",
   "metadata": {},
   "outputs": [
    {
     "name": "stdout",
     "output_type": "stream",
     "text": [
      "test class return , test 1 class return ,  Proma\n"
     ]
    }
   ],
   "source": [
    "f2 = final(t,t1,\" Proma\")\n",
    "print(f2)"
   ]
  },
  {
   "cell_type": "markdown",
   "id": "520868d5",
   "metadata": {},
   "source": [
    "### Encapsulation requires you to call the class objects as a parameter for another object "
   ]
  },
  {
   "cell_type": "code",
   "execution_count": null,
   "id": "10a220bd",
   "metadata": {},
   "outputs": [],
   "source": []
  },
  {
   "cell_type": "code",
   "execution_count": 95,
   "id": "d4273181",
   "metadata": {},
   "outputs": [],
   "source": [
    "# Inheritence"
   ]
  },
  {
   "cell_type": "code",
   "execution_count": 96,
   "id": "6067dacb",
   "metadata": {},
   "outputs": [
    {
     "name": "stdout",
     "output_type": "stream",
     "text": [
      "19\n"
     ]
    }
   ],
   "source": [
    "class parent:\n",
    "    a = 19\n",
    "    b = 24\n",
    "    \n",
    "    def __init__(self, parent_a, parent_b):\n",
    "        self.parent_a = parent_a\n",
    "        self.parent_b= parent_b\n",
    "        \n",
    "        \n",
    "class child:\n",
    "    print(parent.a)"
   ]
  },
  {
   "cell_type": "code",
   "execution_count": 97,
   "id": "64f33aa9",
   "metadata": {},
   "outputs": [],
   "source": [
    "class parent:\n",
    "    a = 19\n",
    "    b = 24\n",
    "    \n",
    "    def __init__(self, parent_a, parent_b):\n",
    "        self.parent_a = parent_a\n",
    "        self.parent_b= parent_b\n",
    "        \n",
    "        \n",
    "class child(parent):\n",
    "    def __init__(self, *args):\n",
    "        super(child, self).__init__(*args)\n",
    "   "
   ]
  },
  {
   "cell_type": "markdown",
   "id": "b2adfc6b",
   "metadata": {},
   "source": [
    "# Object multiplication"
   ]
  },
  {
   "cell_type": "code",
   "execution_count": 106,
   "id": "178f9759",
   "metadata": {},
   "outputs": [],
   "source": [
    "class multinumeric():\n",
    "    def __init__(self, a):\n",
    "        self.a = a\n"
   ]
  },
  {
   "cell_type": "code",
   "execution_count": 107,
   "id": "cbbea328",
   "metadata": {},
   "outputs": [],
   "source": [
    "mul = multinumeric(4)\n",
    "mul1 = multinumeric(9)"
   ]
  },
  {
   "cell_type": "code",
   "execution_count": 108,
   "id": "47567949",
   "metadata": {},
   "outputs": [
    {
     "ename": "TypeError",
     "evalue": "unsupported operand type(s) for *: 'multinumeric' and 'multinumeric'",
     "output_type": "error",
     "traceback": [
      "\u001b[1;31m---------------------------------------------------------------------------\u001b[0m",
      "\u001b[1;31mTypeError\u001b[0m                                 Traceback (most recent call last)",
      "Cell \u001b[1;32mIn [108], line 1\u001b[0m\n\u001b[1;32m----> 1\u001b[0m \u001b[43mmul\u001b[49m\u001b[43m \u001b[49m\u001b[38;5;241;43m*\u001b[39;49m\u001b[43m \u001b[49m\u001b[43mmul1\u001b[49m\n",
      "\u001b[1;31mTypeError\u001b[0m: unsupported operand type(s) for *: 'multinumeric' and 'multinumeric'"
     ]
    }
   ],
   "source": [
    "mul * mul1"
   ]
  },
  {
   "cell_type": "code",
   "execution_count": 109,
   "id": "1643ca53",
   "metadata": {},
   "outputs": [
    {
     "data": {
      "text/plain": [
       "36"
      ]
     },
     "execution_count": 109,
     "metadata": {},
     "output_type": "execute_result"
    }
   ],
   "source": [
    "mul.a * mul1.a"
   ]
  },
  {
   "cell_type": "markdown",
   "id": "d5b706b9",
   "metadata": {},
   "source": [
    "# Operator Overloading"
   ]
  },
  {
   "cell_type": "code",
   "execution_count": 119,
   "id": "7cdbd8d4",
   "metadata": {},
   "outputs": [],
   "source": [
    "class multinumeric():\n",
    "    def __init__(self, a):\n",
    "        self.a = a\n",
    "       \n",
    "    def __mul__(self, other):\n",
    "        return self.a + other.a"
   ]
  },
  {
   "cell_type": "code",
   "execution_count": 120,
   "id": "67e63bcb",
   "metadata": {},
   "outputs": [],
   "source": [
    "mul = multinumeric(4)\n",
    "mul1 = multinumeric(9)"
   ]
  },
  {
   "cell_type": "code",
   "execution_count": 121,
   "id": "7ffd5667",
   "metadata": {},
   "outputs": [
    {
     "data": {
      "text/plain": [
       "13"
      ]
     },
     "execution_count": 121,
     "metadata": {},
     "output_type": "execute_result"
    }
   ],
   "source": [
    "mul * mul1"
   ]
  },
  {
   "cell_type": "code",
   "execution_count": 127,
   "id": "5d3d010b",
   "metadata": {},
   "outputs": [
    {
     "data": {
      "text/plain": [
       "<bound method multinumeric.__mul__ of <__main__.multinumeric object at 0x000001F48CBC1E20>>"
      ]
     },
     "execution_count": 127,
     "metadata": {},
     "output_type": "execute_result"
    }
   ],
   "source": [
    "mul.__mul__"
   ]
  },
  {
   "cell_type": "markdown",
   "id": "72f5b375",
   "metadata": {},
   "source": [
    "# Polymorphism"
   ]
  },
  {
   "cell_type": "code",
   "execution_count": 128,
   "id": "08f17b18",
   "metadata": {},
   "outputs": [],
   "source": [
    "def test(a,b):\n",
    "    return a+b"
   ]
  },
  {
   "cell_type": "code",
   "execution_count": 129,
   "id": "bef91a33",
   "metadata": {},
   "outputs": [
    {
     "name": "stdout",
     "output_type": "stream",
     "text": [
      "11\n",
      "as F \n",
      "[1, 2, 3, 7, 8, 9]\n"
     ]
    }
   ],
   "source": [
    "print(test(5,6))\n",
    "print(test(\"as\",\" F \"))\n",
    "print(test([1,2,3],[7,8,9]))"
   ]
  },
  {
   "cell_type": "markdown",
   "id": "91676ee4",
   "metadata": {},
   "source": [
    "# Encapsulation / Polymorphism???\n"
   ]
  },
  {
   "cell_type": "code",
   "execution_count": 137,
   "id": "3f48861a",
   "metadata": {},
   "outputs": [],
   "source": [
    "class abc:\n",
    "    def msg(self):\n",
    "        print(\" msg from abc class. \")\n",
    "    \n",
    "    \n",
    "    \n",
    "class xyz:\n",
    "    def msg(self):\n",
    "        print(\" msg from XYZ class. \")\n",
    "    "
   ]
  },
  {
   "cell_type": "code",
   "execution_count": 138,
   "id": "80cec319",
   "metadata": {},
   "outputs": [],
   "source": [
    "def test3(notes):\n",
    "    notes.msg()"
   ]
  },
  {
   "cell_type": "code",
   "execution_count": 139,
   "id": "0da2fb27",
   "metadata": {},
   "outputs": [],
   "source": [
    "a = abc()\n",
    "x = xyz()"
   ]
  },
  {
   "cell_type": "code",
   "execution_count": 140,
   "id": "5535ac8f",
   "metadata": {},
   "outputs": [
    {
     "name": "stdout",
     "output_type": "stream",
     "text": [
      " msg from abc class. \n"
     ]
    }
   ],
   "source": [
    "test3(a)"
   ]
  },
  {
   "cell_type": "code",
   "execution_count": 141,
   "id": "cce135f6",
   "metadata": {},
   "outputs": [
    {
     "name": "stdout",
     "output_type": "stream",
     "text": [
      " msg from XYZ class. \n"
     ]
    }
   ],
   "source": [
    "test3(x)"
   ]
  },
  {
   "cell_type": "code",
   "execution_count": 142,
   "id": "c7087352",
   "metadata": {},
   "outputs": [],
   "source": [
    "# Its polymorphism"
   ]
  },
  {
   "cell_type": "markdown",
   "id": "cfafad6c",
   "metadata": {},
   "source": [
    "# "
   ]
  },
  {
   "cell_type": "code",
   "execution_count": null,
   "id": "2bc86a8d",
   "metadata": {},
   "outputs": [],
   "source": []
  }
 ],
 "metadata": {
  "kernelspec": {
   "display_name": "Python 3 (ipykernel)",
   "language": "python",
   "name": "python3"
  },
  "language_info": {
   "codemirror_mode": {
    "name": "ipython",
    "version": 3
   },
   "file_extension": ".py",
   "mimetype": "text/x-python",
   "name": "python",
   "nbconvert_exporter": "python",
   "pygments_lexer": "ipython3",
   "version": "3.9.13"
  }
 },
 "nbformat": 4,
 "nbformat_minor": 5
}
