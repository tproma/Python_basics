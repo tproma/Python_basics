{
 "cells": [
  {
   "cell_type": "markdown",
   "id": "c6d6a0a5",
   "metadata": {},
   "source": [
    "We can not handle Compile Time error/ Syntactical error with try and except block.\n",
    "\n",
    "Run time Error: Exception handling \n",
    "\n"
   ]
  },
  {
   "cell_type": "code",
   "execution_count": 1,
   "id": "b471bbe8",
   "metadata": {},
   "outputs": [
    {
     "ename": "FileNotFoundError",
     "evalue": "[Errno 2] No such file or directory: 'test.txt'",
     "output_type": "error",
     "traceback": [
      "\u001b[1;31m---------------------------------------------------------------------------\u001b[0m",
      "\u001b[1;31mFileNotFoundError\u001b[0m                         Traceback (most recent call last)",
      "Cell \u001b[1;32mIn [1], line 1\u001b[0m\n\u001b[1;32m----> 1\u001b[0m a \u001b[38;5;241m=\u001b[39m \u001b[38;5;28;43mopen\u001b[39;49m\u001b[43m(\u001b[49m\u001b[38;5;124;43m\"\u001b[39;49m\u001b[38;5;124;43mtest.txt\u001b[39;49m\u001b[38;5;124;43m\"\u001b[39;49m\u001b[43m,\u001b[49m\u001b[43m \u001b[49m\u001b[38;5;124;43m'\u001b[39;49m\u001b[38;5;124;43mr\u001b[39;49m\u001b[38;5;124;43m'\u001b[39;49m\u001b[43m)\u001b[49m\n",
      "\u001b[1;31mFileNotFoundError\u001b[0m: [Errno 2] No such file or directory: 'test.txt'"
     ]
    }
   ],
   "source": [
    "a = open(\"test.txt\", 'r')"
   ]
  },
  {
   "cell_type": "code",
   "execution_count": 2,
   "id": "a18ee9af",
   "metadata": {},
   "outputs": [],
   "source": [
    "try:\n",
    "    a = open(\"test.txt\", 'r')\n",
    "except: \n",
    "    pass\n"
   ]
  },
  {
   "cell_type": "code",
   "execution_count": 3,
   "id": "042f41cd",
   "metadata": {},
   "outputs": [
    {
     "ename": "SyntaxError",
     "evalue": "invalid syntax (3880582028.py, line 3)",
     "output_type": "error",
     "traceback": [
      "\u001b[1;36m  Cell \u001b[1;32mIn [3], line 3\u001b[1;36m\u001b[0m\n\u001b[1;33m    except:\u001b[0m\n\u001b[1;37m    ^\u001b[0m\n\u001b[1;31mSyntaxError\u001b[0m\u001b[1;31m:\u001b[0m invalid syntax\n"
     ]
    }
   ],
   "source": [
    "try:\n",
    "    a = open(\"test.txt\", 'r'\n",
    "except: \n",
    "    pass\n"
   ]
  },
  {
   "cell_type": "code",
   "execution_count": 4,
   "id": "80b8705c",
   "metadata": {},
   "outputs": [
    {
     "name": "stdout",
     "output_type": "stream",
     "text": [
      "Error....\n"
     ]
    }
   ],
   "source": [
    "try:\n",
    "    a = 5/0\n",
    "except:\n",
    "    print(\"Error....\")"
   ]
  },
  {
   "cell_type": "code",
   "execution_count": 5,
   "id": "f14c6541",
   "metadata": {},
   "outputs": [
    {
     "ename": "ZeroDivisionError",
     "evalue": "division by zero",
     "output_type": "error",
     "traceback": [
      "\u001b[1;31m---------------------------------------------------------------------------\u001b[0m",
      "\u001b[1;31mZeroDivisionError\u001b[0m                         Traceback (most recent call last)",
      "Cell \u001b[1;32mIn [5], line 2\u001b[0m\n\u001b[0;32m      1\u001b[0m \u001b[38;5;28;01mtry\u001b[39;00m:\n\u001b[1;32m----> 2\u001b[0m     a \u001b[38;5;241m=\u001b[39m \u001b[38;5;241;43m5\u001b[39;49m\u001b[38;5;241;43m/\u001b[39;49m\u001b[38;5;241;43m0\u001b[39;49m\n\u001b[0;32m      3\u001b[0m \u001b[38;5;28;01mexcept\u001b[39;00m \u001b[38;5;167;01mIOError\u001b[39;00m:\n\u001b[0;32m      4\u001b[0m     \u001b[38;5;28mprint\u001b[39m(\u001b[38;5;124m\"\u001b[39m\u001b[38;5;124mError....\u001b[39m\u001b[38;5;124m\"\u001b[39m)\n",
      "\u001b[1;31mZeroDivisionError\u001b[0m: division by zero"
     ]
    }
   ],
   "source": [
    "try:\n",
    "    a = 5/0\n",
    "except IOError:\n",
    "    print(\"Error....\")"
   ]
  },
  {
   "cell_type": "code",
   "execution_count": 6,
   "id": "d294c887",
   "metadata": {},
   "outputs": [
    {
     "name": "stdout",
     "output_type": "stream",
     "text": [
      "Error....\n"
     ]
    }
   ],
   "source": [
    "try:\n",
    "    a = 5/0\n",
    "except ArithmeticError:\n",
    "    print(\"Error....\")"
   ]
  },
  {
   "cell_type": "code",
   "execution_count": 8,
   "id": "5eee4866",
   "metadata": {},
   "outputs": [
    {
     "name": "stdout",
     "output_type": "stream",
     "text": [
      "Error :   division by zero\n"
     ]
    }
   ],
   "source": [
    "try:\n",
    "    a = 5/0\n",
    "except ArithmeticError as e:\n",
    "    print(\"Error :  \", e)"
   ]
  },
  {
   "cell_type": "code",
   "execution_count": 9,
   "id": "09fecd23",
   "metadata": {},
   "outputs": [
    {
     "name": "stdout",
     "output_type": "stream",
     "text": [
      "Error :   division by zero\n"
     ]
    }
   ],
   "source": [
    "try:\n",
    "    a = 5/0\n",
    "except ArithmeticError as e:\n",
    "    print(\"Error :  \", e)\n",
    "else:\n",
    "    print(\"Success..!!\")"
   ]
  },
  {
   "cell_type": "code",
   "execution_count": 10,
   "id": "7aac20d5",
   "metadata": {},
   "outputs": [
    {
     "name": "stdout",
     "output_type": "stream",
     "text": [
      "Success..!!\n"
     ]
    }
   ],
   "source": [
    "try:\n",
    "    a = 5/1\n",
    "except ArithmeticError as e:\n",
    "    print(\"Error :  \", e)\n",
    "else:\n",
    "    print(\"Success..!!\")"
   ]
  },
  {
   "cell_type": "code",
   "execution_count": 11,
   "id": "2e6c1d1c",
   "metadata": {},
   "outputs": [
    {
     "name": "stdout",
     "output_type": "stream",
     "text": [
      "Success..!!\n"
     ]
    },
    {
     "ename": "FileNotFoundError",
     "evalue": "[Errno 2] No such file or directory: 'test.txt'",
     "output_type": "error",
     "traceback": [
      "\u001b[1;31m---------------------------------------------------------------------------\u001b[0m",
      "\u001b[1;31mFileNotFoundError\u001b[0m                         Traceback (most recent call last)",
      "Cell \u001b[1;32mIn [11], line 7\u001b[0m\n\u001b[0;32m      5\u001b[0m \u001b[38;5;28;01melse\u001b[39;00m:\n\u001b[0;32m      6\u001b[0m     \u001b[38;5;28mprint\u001b[39m(\u001b[38;5;124m\"\u001b[39m\u001b[38;5;124mSuccess..!!\u001b[39m\u001b[38;5;124m\"\u001b[39m)\n\u001b[1;32m----> 7\u001b[0m     f \u001b[38;5;241m=\u001b[39m \u001b[38;5;28;43mopen\u001b[39;49m\u001b[43m(\u001b[49m\u001b[38;5;124;43m\"\u001b[39;49m\u001b[38;5;124;43mtest.txt\u001b[39;49m\u001b[38;5;124;43m\"\u001b[39;49m\u001b[43m,\u001b[49m\u001b[43m \u001b[49m\u001b[38;5;124;43m'\u001b[39;49m\u001b[38;5;124;43mr\u001b[39;49m\u001b[38;5;124;43m'\u001b[39;49m\u001b[43m)\u001b[49m\n",
      "\u001b[1;31mFileNotFoundError\u001b[0m: [Errno 2] No such file or directory: 'test.txt'"
     ]
    }
   ],
   "source": [
    "try:\n",
    "    a = 5/1\n",
    "except ArithmeticError as e:\n",
    "    print(\"Error :  \", e)\n",
    "else:\n",
    "    print(\"Success..!!\")\n",
    "    f = open(\"test.txt\", 'r')"
   ]
  },
  {
   "cell_type": "code",
   "execution_count": 13,
   "id": "7657e77d",
   "metadata": {},
   "outputs": [
    {
     "name": "stdout",
     "output_type": "stream",
     "text": [
      "Success..!!\n",
      "Issue.. [Errno 2] No such file or directory: 'test.txt'\n"
     ]
    }
   ],
   "source": [
    "try:\n",
    "    a = 5/1\n",
    "except ArithmeticError as e:\n",
    "    print(\"Error :  \", e)\n",
    "else:\n",
    "    print(\"Success..!!\")\n",
    "    try:\n",
    "        f = open(\"test.txt\", 'r')\n",
    "    except Exception as e:\n",
    "        print(\"Issue..\", e)"
   ]
  },
  {
   "cell_type": "code",
   "execution_count": 14,
   "id": "dc18a41a",
   "metadata": {},
   "outputs": [
    {
     "ename": "IndexError",
     "evalue": "list index out of range",
     "output_type": "error",
     "traceback": [
      "\u001b[1;31m---------------------------------------------------------------------------\u001b[0m",
      "\u001b[1;31mIndexError\u001b[0m                                Traceback (most recent call last)",
      "Cell \u001b[1;32mIn [14], line 2\u001b[0m\n\u001b[0;32m      1\u001b[0m l \u001b[38;5;241m=\u001b[39m [\u001b[38;5;241m1\u001b[39m,\u001b[38;5;241m2\u001b[39m,\u001b[38;5;241m3\u001b[39m,\u001b[38;5;241m4\u001b[39m,\u001b[38;5;241m5\u001b[39m]\n\u001b[1;32m----> 2\u001b[0m \u001b[38;5;28mprint\u001b[39m(\u001b[43ml\u001b[49m\u001b[43m[\u001b[49m\u001b[38;5;241;43m100\u001b[39;49m\u001b[43m]\u001b[49m)\n\u001b[0;32m      3\u001b[0m t \u001b[38;5;241m=\u001b[39m (\u001b[38;5;241m3\u001b[39m,\u001b[38;5;241m5\u001b[39m,\u001b[38;5;241m6\u001b[39m,\u001b[38;5;241m7\u001b[39m)\n\u001b[0;32m      4\u001b[0m \u001b[38;5;28mprint\u001b[39m(t)\n",
      "\u001b[1;31mIndexError\u001b[0m: list index out of range"
     ]
    }
   ],
   "source": [
    "l = [1,2,3,4,5]\n",
    "print(l[100])\n",
    "t = (3,5,6,7)\n",
    "print(t)"
   ]
  },
  {
   "cell_type": "markdown",
   "id": "ff637ef0",
   "metadata": {},
   "source": [
    "# Finally"
   ]
  },
  {
   "cell_type": "code",
   "execution_count": 16,
   "id": "23de7603",
   "metadata": {},
   "outputs": [
    {
     "name": "stdout",
     "output_type": "stream",
     "text": [
      " finally i will execute in any case\n",
      "4\n"
     ]
    },
    {
     "ename": "FileNotFoundError",
     "evalue": "[Errno 2] No such file or directory: 'test.txt'",
     "output_type": "error",
     "traceback": [
      "\u001b[1;31m---------------------------------------------------------------------------\u001b[0m",
      "\u001b[1;31mFileNotFoundError\u001b[0m                         Traceback (most recent call last)",
      "Cell \u001b[1;32mIn [16], line 2\u001b[0m\n\u001b[0;32m      1\u001b[0m \u001b[38;5;28;01mtry\u001b[39;00m: \n\u001b[1;32m----> 2\u001b[0m     f \u001b[38;5;241m=\u001b[39m \u001b[38;5;28;43mopen\u001b[39;49m\u001b[43m(\u001b[49m\u001b[38;5;124;43m\"\u001b[39;49m\u001b[38;5;124;43mtest.txt\u001b[39;49m\u001b[38;5;124;43m\"\u001b[39;49m\u001b[43m,\u001b[49m\u001b[43m \u001b[49m\u001b[38;5;124;43m'\u001b[39;49m\u001b[38;5;124;43mr\u001b[39;49m\u001b[38;5;124;43m'\u001b[39;49m\u001b[43m)\u001b[49m\n\u001b[0;32m      3\u001b[0m \u001b[38;5;28;01mfinally\u001b[39;00m:\n\u001b[0;32m      4\u001b[0m     \u001b[38;5;28mprint\u001b[39m(\u001b[38;5;124m\"\u001b[39m\u001b[38;5;124m finally i will execute in any case\u001b[39m\u001b[38;5;124m\"\u001b[39m)\n",
      "\u001b[1;31mFileNotFoundError\u001b[0m: [Errno 2] No such file or directory: 'test.txt'"
     ]
    }
   ],
   "source": [
    "try: \n",
    "    f = open(\"test.txt\", 'r')\n",
    "finally:\n",
    "    print(\" finally i will execute in any case\")\n",
    "    l = [4,6,2,1]\n",
    "    print(l[0])"
   ]
  },
  {
   "cell_type": "code",
   "execution_count": 17,
   "id": "f3e5aa05",
   "metadata": {},
   "outputs": [
    {
     "name": "stdout",
     "output_type": "stream",
     "text": [
      " finally i will execute in any case\n",
      "4\n"
     ]
    }
   ],
   "source": [
    "try: \n",
    "    f = open(\"test.txt\", 'r')\n",
    "except :\n",
    "    pass\n",
    "\n",
    "else:\n",
    "    print(\"else will be executed if try is successful\")\n",
    "    \n",
    "finally:\n",
    "    print(\" finally i will execute in any case\")\n",
    "    l = [4,6,2,1]\n",
    "    try:\n",
    "        print(l[0])\n",
    "    except:\n",
    "        pass"
   ]
  },
  {
   "cell_type": "code",
   "execution_count": 20,
   "id": "80c99816",
   "metadata": {},
   "outputs": [
    {
     "name": "stdout",
     "output_type": "stream",
     "text": [
      "else will be executed if try is successful\n",
      "finally i will execute in any case\n"
     ]
    }
   ],
   "source": [
    "try: \n",
    "    f = open(\"test.txt\", 'w')\n",
    "except :\n",
    "    pass\n",
    "\n",
    "else:\n",
    "    print(\"else will be executed if try is successful\")\n",
    "    \n",
    "finally:\n",
    "    print(\"finally i will execute in any case\")\n",
    "    l = [4,6,2,1]\n",
    "    try:\n",
    "        print(l[10])\n",
    "    except:\n",
    "        pass"
   ]
  },
  {
   "cell_type": "code",
   "execution_count": 23,
   "id": "9e7fbbd2",
   "metadata": {},
   "outputs": [],
   "source": [
    "def askforint():\n",
    "    i = 0\n",
    "    while(i<6):\n",
    "        try:\n",
    "            a = int(input(\"Enter a Integer: \"))\n",
    "        except Exception as e:\n",
    "            print (\"Exception__ Error : \",e)\n",
    "        else:\n",
    "            print(\"Else__ Integer entered.\")\n",
    "        finally:\n",
    "            print(\"Finally__ case closed.\")\n",
    "            i+=1"
   ]
  },
  {
   "cell_type": "code",
   "execution_count": 24,
   "id": "b5b53c0c",
   "metadata": {},
   "outputs": [
    {
     "name": "stdout",
     "output_type": "stream",
     "text": [
      "Enter a Integer: gf\n",
      "Exception__ Error :  invalid literal for int() with base 10: 'gf'\n",
      "Finally__ case closed.\n",
      "Enter a Integer: \n",
      "Exception__ Error :  invalid literal for int() with base 10: ''\n",
      "Finally__ case closed.\n",
      "Enter a Integer: 56\n",
      "Else__ Integer entered.\n",
      "Finally__ case closed.\n",
      "Enter a Integer: \\\\j\n",
      "Exception__ Error :  invalid literal for int() with base 10: '\\\\\\\\j'\n",
      "Finally__ case closed.\n",
      "Enter a Integer: kk\n",
      "Exception__ Error :  invalid literal for int() with base 10: 'kk'\n",
      "Finally__ case closed.\n",
      "Enter a Integer: 2\n",
      "Else__ Integer entered.\n",
      "Finally__ case closed.\n"
     ]
    }
   ],
   "source": [
    "askforint()"
   ]
  },
  {
   "cell_type": "code",
   "execution_count": 27,
   "id": "3a960436",
   "metadata": {},
   "outputs": [],
   "source": [
    "def askforint():\n",
    "  \n",
    "    while True:\n",
    "        try:\n",
    "            a = int(input(\"Enter a Integer: \"))\n",
    "        except Exception as e:\n",
    "            print (\"Exception__ Error : \",e)\n",
    "        else:\n",
    "            print(\"Else__ Integer entered.\")\n",
    "            break\n",
    "        finally:\n",
    "            print(\"Finally__ case closed.\")\n",
    " "
   ]
  },
  {
   "cell_type": "code",
   "execution_count": 28,
   "id": "2a46b561",
   "metadata": {},
   "outputs": [
    {
     "name": "stdout",
     "output_type": "stream",
     "text": [
      "Enter a Integer: ff\n",
      "Exception__ Error :  invalid literal for int() with base 10: 'ff'\n",
      "Finally__ case closed.\n",
      "Enter a Integer: dg\n",
      "Exception__ Error :  invalid literal for int() with base 10: 'dg'\n",
      "Finally__ case closed.\n",
      "Enter a Integer: 23456\n",
      "Else__ Integer entered.\n",
      "Finally__ case closed.\n"
     ]
    }
   ],
   "source": [
    "askforint()"
   ]
  },
  {
   "cell_type": "markdown",
   "id": "be702925",
   "metadata": {},
   "source": [
    "# Custom Exception"
   ]
  },
  {
   "cell_type": "code",
   "execution_count": 40,
   "id": "45abf453",
   "metadata": {},
   "outputs": [],
   "source": [
    "def create_Exception(a):\n",
    "    if a == 6:\n",
    "        raise Exception(\"error is \",a)\n",
    "    else:\n",
    "        print(\"Input okay\")\n",
    "        \n",
    "    return a"
   ]
  },
  {
   "cell_type": "code",
   "execution_count": 41,
   "id": "f6ac203c",
   "metadata": {},
   "outputs": [
    {
     "ename": "Exception",
     "evalue": "('error is ', 6)",
     "output_type": "error",
     "traceback": [
      "\u001b[1;31m---------------------------------------------------------------------------\u001b[0m",
      "\u001b[1;31mException\u001b[0m                                 Traceback (most recent call last)",
      "Cell \u001b[1;32mIn [41], line 1\u001b[0m\n\u001b[1;32m----> 1\u001b[0m \u001b[43mcreate_Exception\u001b[49m\u001b[43m(\u001b[49m\u001b[38;5;241;43m6\u001b[39;49m\u001b[43m)\u001b[49m\n",
      "Cell \u001b[1;32mIn [40], line 3\u001b[0m, in \u001b[0;36mcreate_Exception\u001b[1;34m(a)\u001b[0m\n\u001b[0;32m      1\u001b[0m \u001b[38;5;28;01mdef\u001b[39;00m \u001b[38;5;21mcreate_Exception\u001b[39m(a):\n\u001b[0;32m      2\u001b[0m     \u001b[38;5;28;01mif\u001b[39;00m a \u001b[38;5;241m==\u001b[39m \u001b[38;5;241m6\u001b[39m:\n\u001b[1;32m----> 3\u001b[0m         \u001b[38;5;28;01mraise\u001b[39;00m \u001b[38;5;167;01mException\u001b[39;00m(\u001b[38;5;124m\"\u001b[39m\u001b[38;5;124merror is \u001b[39m\u001b[38;5;124m\"\u001b[39m,a)\n\u001b[0;32m      4\u001b[0m     \u001b[38;5;28;01melse\u001b[39;00m:\n\u001b[0;32m      5\u001b[0m         \u001b[38;5;28mprint\u001b[39m(\u001b[38;5;124m\"\u001b[39m\u001b[38;5;124mInput okay\u001b[39m\u001b[38;5;124m\"\u001b[39m)\n",
      "\u001b[1;31mException\u001b[0m: ('error is ', 6)"
     ]
    }
   ],
   "source": [
    "create_Exception(6)"
   ]
  },
  {
   "cell_type": "code",
   "execution_count": 42,
   "id": "9c8bc11e",
   "metadata": {},
   "outputs": [
    {
     "name": "stdout",
     "output_type": "stream",
     "text": [
      "('error is ', 6)\n"
     ]
    }
   ],
   "source": [
    "try:\n",
    "    create_Exception(6)\n",
    "except Exception as e:\n",
    "    print(e)"
   ]
  },
  {
   "cell_type": "code",
   "execution_count": 56,
   "id": "cbc4c865",
   "metadata": {},
   "outputs": [],
   "source": [
    "def even():\n",
    "    l = []\n",
    "    for i in range(22):\n",
    "        if i%2==0 :\n",
    "            print(i)\n",
    "            l.append(i)\n",
    "                \n",
    "\n",
    "    return l"
   ]
  },
  {
   "cell_type": "code",
   "execution_count": 57,
   "id": "53ea5f25",
   "metadata": {},
   "outputs": [
    {
     "name": "stdout",
     "output_type": "stream",
     "text": [
      "0\n",
      "2\n",
      "4\n",
      "6\n",
      "8\n",
      "10\n",
      "12\n",
      "14\n",
      "16\n",
      "18\n",
      "20\n"
     ]
    },
    {
     "data": {
      "text/plain": [
       "[0, 2, 4, 6, 8, 10, 12, 14, 16, 18, 20]"
      ]
     },
     "execution_count": 57,
     "metadata": {},
     "output_type": "execute_result"
    }
   ],
   "source": [
    "even()"
   ]
  },
  {
   "cell_type": "code",
   "execution_count": null,
   "id": "db2f9e94",
   "metadata": {},
   "outputs": [],
   "source": []
  }
 ],
 "metadata": {
  "kernelspec": {
   "display_name": "Python 3 (ipykernel)",
   "language": "python",
   "name": "python3"
  },
  "language_info": {
   "codemirror_mode": {
    "name": "ipython",
    "version": 3
   },
   "file_extension": ".py",
   "mimetype": "text/x-python",
   "name": "python",
   "nbconvert_exporter": "python",
   "pygments_lexer": "ipython3",
   "version": "3.9.13"
  }
 },
 "nbformat": 4,
 "nbformat_minor": 5
}
