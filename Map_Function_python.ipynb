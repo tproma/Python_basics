{
 "cells": [
  {
   "cell_type": "markdown",
   "id": "b4b860bb",
   "metadata": {},
   "source": [
    "# Map Function  python\n"
   ]
  },
  {
   "cell_type": "code",
   "execution_count": 1,
   "id": "5f34221c",
   "metadata": {},
   "outputs": [],
   "source": [
    "def even_or_odd(n):\n",
    "    if n%2==0:\n",
    "        return \"The number {} is Even\".format(n)\n",
    "    else:\n",
    "         return \"The number {} is Odd\".format(n)"
   ]
  },
  {
   "cell_type": "code",
   "execution_count": 2,
   "id": "957b8503",
   "metadata": {},
   "outputs": [
    {
     "data": {
      "text/plain": [
       "'The number 24 is Even'"
      ]
     },
     "execution_count": 2,
     "metadata": {},
     "output_type": "execute_result"
    }
   ],
   "source": [
    "even_or_odd(24)"
   ]
  },
  {
   "cell_type": "code",
   "execution_count": 3,
   "id": "44060134",
   "metadata": {},
   "outputs": [],
   "source": [
    "lst = [2,3,4,5,7,9,12,34,56,67]"
   ]
  },
  {
   "cell_type": "code",
   "execution_count": 4,
   "id": "9732e0b1",
   "metadata": {},
   "outputs": [
    {
     "data": {
      "text/plain": [
       "<map at 0x22eef0c24f0>"
      ]
     },
     "execution_count": 4,
     "metadata": {},
     "output_type": "execute_result"
    }
   ],
   "source": [
    "map(even_or_odd, lst)"
   ]
  },
  {
   "cell_type": "code",
   "execution_count": 5,
   "id": "a5b7a89c",
   "metadata": {},
   "outputs": [
    {
     "data": {
      "text/plain": [
       "['The number 2 is Even',\n",
       " 'The number 3 is Odd',\n",
       " 'The number 4 is Even',\n",
       " 'The number 5 is Odd',\n",
       " 'The number 7 is Odd',\n",
       " 'The number 9 is Odd',\n",
       " 'The number 12 is Even',\n",
       " 'The number 34 is Even',\n",
       " 'The number 56 is Even',\n",
       " 'The number 67 is Odd']"
      ]
     },
     "execution_count": 5,
     "metadata": {},
     "output_type": "execute_result"
    }
   ],
   "source": [
    "list(map(even_or_odd, lst))"
   ]
  },
  {
   "cell_type": "code",
   "execution_count": null,
   "id": "45071866",
   "metadata": {},
   "outputs": [],
   "source": []
  }
 ],
 "metadata": {
  "kernelspec": {
   "display_name": "Python 3 (ipykernel)",
   "language": "python",
   "name": "python3"
  },
  "language_info": {
   "codemirror_mode": {
    "name": "ipython",
    "version": 3
   },
   "file_extension": ".py",
   "mimetype": "text/x-python",
   "name": "python",
   "nbconvert_exporter": "python",
   "pygments_lexer": "ipython3",
   "version": "3.9.13"
  }
 },
 "nbformat": 4,
 "nbformat_minor": 5
}
