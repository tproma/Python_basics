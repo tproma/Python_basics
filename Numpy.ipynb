{
 "cells": [
  {
   "cell_type": "code",
   "execution_count": 2,
   "id": "75544323",
   "metadata": {},
   "outputs": [],
   "source": [
    "import numpy as np"
   ]
  },
  {
   "cell_type": "code",
   "execution_count": 3,
   "id": "b30af5cc",
   "metadata": {},
   "outputs": [],
   "source": [
    "import array"
   ]
  },
  {
   "cell_type": "code",
   "execution_count": 4,
   "id": "b90a5950",
   "metadata": {},
   "outputs": [
    {
     "data": {
      "text/plain": [
       "array([1, 2, 3, 4])"
      ]
     },
     "execution_count": 4,
     "metadata": {},
     "output_type": "execute_result"
    }
   ],
   "source": [
    "np.array([1,2,3,4])"
   ]
  },
  {
   "cell_type": "code",
   "execution_count": 5,
   "id": "5ef91f8c",
   "metadata": {},
   "outputs": [
    {
     "data": {
      "text/plain": [
       "numpy.ndarray"
      ]
     },
     "execution_count": 5,
     "metadata": {},
     "output_type": "execute_result"
    }
   ],
   "source": [
    "type(np.array([1,2,3,4]))"
   ]
  },
  {
   "cell_type": "code",
   "execution_count": 6,
   "id": "0f0ea914",
   "metadata": {},
   "outputs": [
    {
     "data": {
      "text/plain": [
       "array(['1', '2', '3', 'as', '3.3'], dtype='<U32')"
      ]
     },
     "execution_count": 6,
     "metadata": {},
     "output_type": "execute_result"
    }
   ],
   "source": [
    " np.array([1,2,3,\"as\", 3.3])"
   ]
  },
  {
   "cell_type": "code",
   "execution_count": 7,
   "id": "34730979",
   "metadata": {},
   "outputs": [
    {
     "data": {
      "text/plain": [
       "array([2., 3., 4., 5.])"
      ]
     },
     "execution_count": 7,
     "metadata": {},
     "output_type": "execute_result"
    }
   ],
   "source": [
    "np.array([2,3,4,5.0])"
   ]
  },
  {
   "cell_type": "code",
   "execution_count": 9,
   "id": "c5d78e91",
   "metadata": {},
   "outputs": [
    {
     "data": {
      "text/plain": [
       "array([[2, 3],\n",
       "       [5, 6]])"
      ]
     },
     "execution_count": 9,
     "metadata": {},
     "output_type": "execute_result"
    }
   ],
   "source": [
    "np.array([[2,3], [5,6]])"
   ]
  },
  {
   "cell_type": "code",
   "execution_count": 10,
   "id": "8e7b14c9",
   "metadata": {},
   "outputs": [
    {
     "name": "stderr",
     "output_type": "stream",
     "text": [
      "C:\\Users\\Tanjina\\AppData\\Local\\Temp\\ipykernel_13156\\2507967733.py:1: VisibleDeprecationWarning: Creating an ndarray from ragged nested sequences (which is a list-or-tuple of lists-or-tuples-or ndarrays with different lengths or shapes) is deprecated. If you meant to do this, you must specify 'dtype=object' when creating the ndarray.\n",
      "  np.array([[2,3], [5,6], [1,1,1,1]])\n"
     ]
    },
    {
     "data": {
      "text/plain": [
       "array([list([2, 3]), list([5, 6]), list([1, 1, 1, 1])], dtype=object)"
      ]
     },
     "execution_count": 10,
     "metadata": {},
     "output_type": "execute_result"
    }
   ],
   "source": [
    "np.array([[2,3], [5,6], [1,1,1,1]])"
   ]
  },
  {
   "cell_type": "code",
   "execution_count": 12,
   "id": "4ed5a712",
   "metadata": {},
   "outputs": [
    {
     "data": {
      "text/plain": [
       "array([[[2, 3],\n",
       "        [5, 6]],\n",
       "\n",
       "       [[1, 1],\n",
       "        [1, 1]]])"
      ]
     },
     "execution_count": 12,
     "metadata": {},
     "output_type": "execute_result"
    }
   ],
   "source": [
    "np.array([[[2,3], [5,6]], [[1,1],[1,1]]])"
   ]
  },
  {
   "cell_type": "code",
   "execution_count": 14,
   "id": "5b7b1a33",
   "metadata": {},
   "outputs": [
    {
     "data": {
      "text/plain": [
       "array([[2, 4, 6]])"
      ]
     },
     "execution_count": 14,
     "metadata": {},
     "output_type": "execute_result"
    }
   ],
   "source": [
    "np.array([2,4,6], ndmin = 2)"
   ]
  },
  {
   "cell_type": "code",
   "execution_count": 15,
   "id": "b3c5dda4",
   "metadata": {},
   "outputs": [
    {
     "data": {
      "text/plain": [
       "array([[[[[2, 4, 6]]]]])"
      ]
     },
     "execution_count": 15,
     "metadata": {},
     "output_type": "execute_result"
    }
   ],
   "source": [
    "np.array([2,4,6], ndmin = 5)"
   ]
  },
  {
   "cell_type": "markdown",
   "id": "53a4f5af",
   "metadata": {},
   "source": [
    "#  Mixed data Types"
   ]
  },
  {
   "cell_type": "code",
   "execution_count": 16,
   "id": "6fbb5855",
   "metadata": {},
   "outputs": [
    {
     "data": {
      "text/plain": [
       "array([2.+0.j, 4.+0.j, 6.+0.j])"
      ]
     },
     "execution_count": 16,
     "metadata": {},
     "output_type": "execute_result"
    }
   ],
   "source": [
    "np.array([2,4,6], dtype = complex)"
   ]
  },
  {
   "cell_type": "code",
   "execution_count": 18,
   "id": "5dde81c0",
   "metadata": {},
   "outputs": [],
   "source": [
    "a = np.array([2,4], dtype = [(\"a\",'complex'),(\"b\",'int')])"
   ]
  },
  {
   "cell_type": "code",
   "execution_count": 19,
   "id": "1ea6e052",
   "metadata": {},
   "outputs": [
    {
     "data": {
      "text/plain": [
       "array([(2.+0.j, 2), (4.+0.j, 4)], dtype=[('a', '<c16'), ('b', '<i4')])"
      ]
     },
     "execution_count": 19,
     "metadata": {},
     "output_type": "execute_result"
    }
   ],
   "source": [
    "a\n"
   ]
  },
  {
   "cell_type": "code",
   "execution_count": 26,
   "id": "82b9b547",
   "metadata": {},
   "outputs": [
    {
     "data": {
      "text/plain": [
       "(2.+0.j, 2)"
      ]
     },
     "execution_count": 26,
     "metadata": {},
     "output_type": "execute_result"
    }
   ],
   "source": [
    "a[0]"
   ]
  },
  {
   "cell_type": "code",
   "execution_count": 21,
   "id": "8571de45",
   "metadata": {},
   "outputs": [
    {
     "data": {
      "text/plain": [
       "4"
      ]
     },
     "execution_count": 21,
     "metadata": {},
     "output_type": "execute_result"
    }
   ],
   "source": [
    "a[1][1]"
   ]
  },
  {
   "cell_type": "code",
   "execution_count": 23,
   "id": "b3f744f4",
   "metadata": {},
   "outputs": [
    {
     "data": {
      "text/plain": [
       "numpy.complex128"
      ]
     },
     "execution_count": 23,
     "metadata": {},
     "output_type": "execute_result"
    }
   ],
   "source": [
    "type(a[1][0])"
   ]
  },
  {
   "cell_type": "code",
   "execution_count": 25,
   "id": "8e52f62f",
   "metadata": {},
   "outputs": [
    {
     "data": {
      "text/plain": [
       "numpy.int32"
      ]
     },
     "execution_count": 25,
     "metadata": {},
     "output_type": "execute_result"
    }
   ],
   "source": [
    "type(a[0][1])"
   ]
  },
  {
   "cell_type": "code",
   "execution_count": 27,
   "id": "db37b9b8",
   "metadata": {},
   "outputs": [],
   "source": [
    "b = np.array([(2,4), (7,9)], dtype = [(\"a\",'complex'),(\"b\",'int')])"
   ]
  },
  {
   "cell_type": "code",
   "execution_count": 28,
   "id": "75900df3",
   "metadata": {},
   "outputs": [
    {
     "data": {
      "text/plain": [
       "array([(2.+0.j, 4), (7.+0.j, 9)], dtype=[('a', '<c16'), ('b', '<i4')])"
      ]
     },
     "execution_count": 28,
     "metadata": {},
     "output_type": "execute_result"
    }
   ],
   "source": [
    "b"
   ]
  },
  {
   "cell_type": "code",
   "execution_count": 29,
   "id": "4a2013bb",
   "metadata": {},
   "outputs": [
    {
     "data": {
      "text/plain": [
       "(2.+0.j, 4)"
      ]
     },
     "execution_count": 29,
     "metadata": {},
     "output_type": "execute_result"
    }
   ],
   "source": [
    "b[0]"
   ]
  },
  {
   "cell_type": "code",
   "execution_count": 30,
   "id": "6b7f8937",
   "metadata": {},
   "outputs": [
    {
     "data": {
      "text/plain": [
       "numpy.complex128"
      ]
     },
     "execution_count": 30,
     "metadata": {},
     "output_type": "execute_result"
    }
   ],
   "source": [
    "type(b[1][0])"
   ]
  },
  {
   "cell_type": "code",
   "execution_count": 31,
   "id": "86550a09",
   "metadata": {},
   "outputs": [
    {
     "data": {
      "text/plain": [
       "numpy.int32"
      ]
     },
     "execution_count": 31,
     "metadata": {},
     "output_type": "execute_result"
    }
   ],
   "source": [
    "type(a[1][1])"
   ]
  },
  {
   "cell_type": "code",
   "execution_count": 32,
   "id": "3610de9f",
   "metadata": {},
   "outputs": [],
   "source": [
    "l = [3,5,78,9]"
   ]
  },
  {
   "cell_type": "code",
   "execution_count": 33,
   "id": "285d5889",
   "metadata": {},
   "outputs": [
    {
     "data": {
      "text/plain": [
       "array([ 3,  5, 78,  9])"
      ]
     },
     "execution_count": 33,
     "metadata": {},
     "output_type": "execute_result"
    }
   ],
   "source": [
    "np.array(l)"
   ]
  },
  {
   "cell_type": "code",
   "execution_count": 34,
   "id": "898f9be2",
   "metadata": {},
   "outputs": [
    {
     "data": {
      "text/plain": [
       "array([ 3,  5, 78,  9])"
      ]
     },
     "execution_count": 34,
     "metadata": {},
     "output_type": "execute_result"
    }
   ],
   "source": [
    "np.asarray(l)"
   ]
  },
  {
   "cell_type": "code",
   "execution_count": 35,
   "id": "498fe728",
   "metadata": {},
   "outputs": [
    {
     "data": {
      "text/plain": [
       "array([ 3,  5, 78,  9])"
      ]
     },
     "execution_count": 35,
     "metadata": {},
     "output_type": "execute_result"
    }
   ],
   "source": [
    "np.asanyarray(l)"
   ]
  },
  {
   "cell_type": "code",
   "execution_count": 38,
   "id": "4fe4b696",
   "metadata": {},
   "outputs": [
    {
     "data": {
      "text/plain": [
       "True"
      ]
     },
     "execution_count": 38,
     "metadata": {},
     "output_type": "execute_result"
    }
   ],
   "source": [
    "issubclass(np.matrix, np.ndarray)"
   ]
  },
  {
   "cell_type": "markdown",
   "id": "9d2e5f11",
   "metadata": {},
   "source": [
    "# Deep Copy vs Shallow Copy"
   ]
  },
  {
   "cell_type": "code",
   "execution_count": 59,
   "id": "303d057c",
   "metadata": {},
   "outputs": [],
   "source": [
    "arr = np.array([[2,3], [5,6], [8,9]])"
   ]
  },
  {
   "cell_type": "code",
   "execution_count": 60,
   "id": "eec5c8fb",
   "metadata": {},
   "outputs": [
    {
     "data": {
      "text/plain": [
       "array([[2, 3],\n",
       "       [5, 6],\n",
       "       [8, 9]])"
      ]
     },
     "execution_count": 60,
     "metadata": {},
     "output_type": "execute_result"
    }
   ],
   "source": [
    "arr"
   ]
  },
  {
   "cell_type": "code",
   "execution_count": 61,
   "id": "5da7d351",
   "metadata": {},
   "outputs": [],
   "source": [
    "a = arr"
   ]
  },
  {
   "cell_type": "code",
   "execution_count": 62,
   "id": "f1d318b4",
   "metadata": {},
   "outputs": [],
   "source": [
    "b = np.copy(arr)"
   ]
  },
  {
   "cell_type": "code",
   "execution_count": 63,
   "id": "583458ea",
   "metadata": {},
   "outputs": [
    {
     "data": {
      "text/plain": [
       "array([[2, 3],\n",
       "       [5, 6],\n",
       "       [8, 9]])"
      ]
     },
     "execution_count": 63,
     "metadata": {},
     "output_type": "execute_result"
    }
   ],
   "source": [
    "a "
   ]
  },
  {
   "cell_type": "code",
   "execution_count": 64,
   "id": "9e12b58b",
   "metadata": {},
   "outputs": [
    {
     "data": {
      "text/plain": [
       "array([[2, 3],\n",
       "       [5, 6],\n",
       "       [8, 9]])"
      ]
     },
     "execution_count": 64,
     "metadata": {},
     "output_type": "execute_result"
    }
   ],
   "source": [
    "b"
   ]
  },
  {
   "cell_type": "code",
   "execution_count": 65,
   "id": "627242fb",
   "metadata": {},
   "outputs": [],
   "source": [
    "arr[0][0]= 100"
   ]
  },
  {
   "cell_type": "code",
   "execution_count": 66,
   "id": "da6ee3de",
   "metadata": {},
   "outputs": [
    {
     "data": {
      "text/plain": [
       "array([[100,   3],\n",
       "       [  5,   6],\n",
       "       [  8,   9]])"
      ]
     },
     "execution_count": 66,
     "metadata": {},
     "output_type": "execute_result"
    }
   ],
   "source": [
    "arr"
   ]
  },
  {
   "cell_type": "code",
   "execution_count": 71,
   "id": "ef437340",
   "metadata": {},
   "outputs": [
    {
     "data": {
      "text/plain": [
       "array([[100,   3],\n",
       "       [  5,   6],\n",
       "       [  8,   9]])"
      ]
     },
     "execution_count": 71,
     "metadata": {},
     "output_type": "execute_result"
    }
   ],
   "source": [
    "# Shallow copy\n",
    "a"
   ]
  },
  {
   "cell_type": "code",
   "execution_count": 73,
   "id": "1e9a8b7c",
   "metadata": {},
   "outputs": [
    {
     "data": {
      "text/plain": [
       "array([[2, 3],\n",
       "       [5, 6],\n",
       "       [8, 9]])"
      ]
     },
     "execution_count": 73,
     "metadata": {},
     "output_type": "execute_result"
    }
   ],
   "source": [
    "# Deep copy\n",
    "b"
   ]
  },
  {
   "cell_type": "code",
   "execution_count": 75,
   "id": "2823bc5e",
   "metadata": {},
   "outputs": [
    {
     "data": {
      "text/plain": [
       "array([[100,   3]])"
      ]
     },
     "execution_count": 75,
     "metadata": {},
     "output_type": "execute_result"
    }
   ],
   "source": [
    "arr[0:1]"
   ]
  },
  {
   "cell_type": "code",
   "execution_count": 76,
   "id": "ded8f247",
   "metadata": {},
   "outputs": [
    {
     "data": {
      "text/plain": [
       "array([[100,   3],\n",
       "       [  5,   6]])"
      ]
     },
     "execution_count": 76,
     "metadata": {},
     "output_type": "execute_result"
    }
   ],
   "source": [
    "arr[0:2]"
   ]
  },
  {
   "cell_type": "code",
   "execution_count": 77,
   "id": "7d5b32de",
   "metadata": {},
   "outputs": [
    {
     "data": {
      "text/plain": [
       "array([[100,   3],\n",
       "       [  5,   6],\n",
       "       [  8,   9]])"
      ]
     },
     "execution_count": 77,
     "metadata": {},
     "output_type": "execute_result"
    }
   ],
   "source": [
    "arr[0:3]"
   ]
  },
  {
   "cell_type": "code",
   "execution_count": 78,
   "id": "f52855eb",
   "metadata": {},
   "outputs": [
    {
     "data": {
      "text/plain": [
       "array([[100,   3],\n",
       "       [  5,   6],\n",
       "       [  8,   9]])"
      ]
     },
     "execution_count": 78,
     "metadata": {},
     "output_type": "execute_result"
    }
   ],
   "source": [
    "arr[0:5]"
   ]
  },
  {
   "cell_type": "code",
   "execution_count": 79,
   "id": "34de2a81",
   "metadata": {},
   "outputs": [
    {
     "data": {
      "text/plain": [
       "array([8, 9])"
      ]
     },
     "execution_count": 79,
     "metadata": {},
     "output_type": "execute_result"
    }
   ],
   "source": [
    "arr[-1]"
   ]
  },
  {
   "cell_type": "code",
   "execution_count": 81,
   "id": "ef71aa20",
   "metadata": {},
   "outputs": [
    {
     "name": "stdout",
     "output_type": "stream",
     "text": [
      "[100   3]\n",
      "[5 6]\n",
      "[8 9]\n"
     ]
    }
   ],
   "source": [
    "for i in arr:\n",
    "     print(i)"
   ]
  },
  {
   "cell_type": "markdown",
   "id": "6582b440",
   "metadata": {},
   "source": [
    "# string to arr conv"
   ]
  },
  {
   "cell_type": "code",
   "execution_count": 83,
   "id": "785171c9",
   "metadata": {},
   "outputs": [
    {
     "data": {
      "text/plain": [
       "array([12, 34, 67, 77,  0])"
      ]
     },
     "execution_count": 83,
     "metadata": {},
     "output_type": "execute_result"
    }
   ],
   "source": [
    "np.fromstring(\"12 34 67 77 0\", sep = ' ', dtype = int)"
   ]
  },
  {
   "cell_type": "code",
   "execution_count": 86,
   "id": "d1ba2f59",
   "metadata": {},
   "outputs": [
    {
     "data": {
      "text/plain": [
       "2"
      ]
     },
     "execution_count": 86,
     "metadata": {},
     "output_type": "execute_result"
    }
   ],
   "source": [
    "a.ndim"
   ]
  },
  {
   "cell_type": "code",
   "execution_count": 87,
   "id": "9f1f2eb4",
   "metadata": {},
   "outputs": [
    {
     "data": {
      "text/plain": [
       "array([[100,   3],\n",
       "       [  5,   6],\n",
       "       [  8,   9]])"
      ]
     },
     "execution_count": 87,
     "metadata": {},
     "output_type": "execute_result"
    }
   ],
   "source": [
    "a"
   ]
  },
  {
   "cell_type": "code",
   "execution_count": 88,
   "id": "116026f3",
   "metadata": {},
   "outputs": [
    {
     "data": {
      "text/plain": [
       "(3, 2)"
      ]
     },
     "execution_count": 88,
     "metadata": {},
     "output_type": "execute_result"
    }
   ],
   "source": [
    "a.shape\n"
   ]
  },
  {
   "cell_type": "code",
   "execution_count": 89,
   "id": "96da7eda",
   "metadata": {},
   "outputs": [
    {
     "data": {
      "text/plain": [
       "6"
      ]
     },
     "execution_count": 89,
     "metadata": {},
     "output_type": "execute_result"
    }
   ],
   "source": [
    "a.size"
   ]
  },
  {
   "cell_type": "code",
   "execution_count": 90,
   "id": "eccab505",
   "metadata": {},
   "outputs": [
    {
     "data": {
      "text/plain": [
       "dtype('int32')"
      ]
     },
     "execution_count": 90,
     "metadata": {},
     "output_type": "execute_result"
    }
   ],
   "source": [
    "a.dtype"
   ]
  },
  {
   "cell_type": "markdown",
   "id": "7870c518",
   "metadata": {},
   "source": [
    "# range"
   ]
  },
  {
   "cell_type": "code",
   "execution_count": 92,
   "id": "d7b69fa2",
   "metadata": {},
   "outputs": [
    {
     "data": {
      "text/plain": [
       "[0, 1, 2, 3, 4]"
      ]
     },
     "execution_count": 92,
     "metadata": {},
     "output_type": "execute_result"
    }
   ],
   "source": [
    "list(range(5))"
   ]
  },
  {
   "cell_type": "code",
   "execution_count": 93,
   "id": "0e5b9b57",
   "metadata": {},
   "outputs": [
    {
     "data": {
      "text/plain": [
       "array([9, 7, 5, 3])"
      ]
     },
     "execution_count": 93,
     "metadata": {},
     "output_type": "execute_result"
    }
   ],
   "source": [
    "np.arange(9,2, -2)"
   ]
  },
  {
   "cell_type": "code",
   "execution_count": 94,
   "id": "12a29bad",
   "metadata": {},
   "outputs": [
    {
     "data": {
      "text/plain": [
       "array([ 3,  4,  5,  6,  7,  8,  9, 10, 11])"
      ]
     },
     "execution_count": 94,
     "metadata": {},
     "output_type": "execute_result"
    }
   ],
   "source": [
    "np.arange(3,12)"
   ]
  },
  {
   "cell_type": "code",
   "execution_count": 97,
   "id": "842e773d",
   "metadata": {},
   "outputs": [
    {
     "data": {
      "text/plain": [
       "array([2.        , 2.12244898, 2.24489796, 2.36734694, 2.48979592,\n",
       "       2.6122449 , 2.73469388, 2.85714286, 2.97959184, 3.10204082,\n",
       "       3.2244898 , 3.34693878, 3.46938776, 3.59183673, 3.71428571,\n",
       "       3.83673469, 3.95918367, 4.08163265, 4.20408163, 4.32653061,\n",
       "       4.44897959, 4.57142857, 4.69387755, 4.81632653, 4.93877551,\n",
       "       5.06122449, 5.18367347, 5.30612245, 5.42857143, 5.55102041,\n",
       "       5.67346939, 5.79591837, 5.91836735, 6.04081633, 6.16326531,\n",
       "       6.28571429, 6.40816327, 6.53061224, 6.65306122, 6.7755102 ,\n",
       "       6.89795918, 7.02040816, 7.14285714, 7.26530612, 7.3877551 ,\n",
       "       7.51020408, 7.63265306, 7.75510204, 7.87755102, 8.        ])"
      ]
     },
     "execution_count": 97,
     "metadata": {},
     "output_type": "execute_result"
    }
   ],
   "source": [
    "np.linspace(2,8)"
   ]
  },
  {
   "cell_type": "markdown",
   "id": "a7a4d70f",
   "metadata": {},
   "source": [
    "# linspace"
   ]
  },
  {
   "cell_type": "code",
   "execution_count": 100,
   "id": "3a92fd4e",
   "metadata": {},
   "outputs": [
    {
     "data": {
      "text/plain": [
       "array([2. , 3.5, 5. , 6.5, 8. ])"
      ]
     },
     "execution_count": 100,
     "metadata": {},
     "output_type": "execute_result"
    }
   ],
   "source": [
    "# generate 5 data in between 2 & 8 in equal spaces\n",
    "np.linspace(2,8, 5)"
   ]
  },
  {
   "cell_type": "code",
   "execution_count": 112,
   "id": "1ecea36b",
   "metadata": {},
   "outputs": [
    {
     "data": {
      "text/plain": [
       "array([2. , 3.2, 4.4, 5.6, 6.8])"
      ]
     },
     "execution_count": 112,
     "metadata": {},
     "output_type": "execute_result"
    }
   ],
   "source": [
    "np.linspace(2,8, 5, endpoint=False)"
   ]
  },
  {
   "cell_type": "markdown",
   "id": "ca92dd3d",
   "metadata": {},
   "source": [
    "# np.zeros()"
   ]
  },
  {
   "cell_type": "code",
   "execution_count": 101,
   "id": "e5ef3139",
   "metadata": {},
   "outputs": [
    {
     "data": {
      "text/plain": [
       "array([0., 0., 0., 0., 0., 0., 0.])"
      ]
     },
     "execution_count": 101,
     "metadata": {},
     "output_type": "execute_result"
    }
   ],
   "source": [
    "np.zeros(7)"
   ]
  },
  {
   "cell_type": "code",
   "execution_count": 104,
   "id": "216022c2",
   "metadata": {},
   "outputs": [
    {
     "data": {
      "text/plain": [
       "array([[0., 0., 0.],\n",
       "       [0., 0., 0.]])"
      ]
     },
     "execution_count": 104,
     "metadata": {},
     "output_type": "execute_result"
    }
   ],
   "source": [
    "np.zeros((2,3))"
   ]
  },
  {
   "cell_type": "code",
   "execution_count": 105,
   "id": "dbf865b7",
   "metadata": {},
   "outputs": [
    {
     "data": {
      "text/plain": [
       "array([[[0., 0., 0.],\n",
       "        [0., 0., 0.]],\n",
       "\n",
       "       [[0., 0., 0.],\n",
       "        [0., 0., 0.]],\n",
       "\n",
       "       [[0., 0., 0.],\n",
       "        [0., 0., 0.]],\n",
       "\n",
       "       [[0., 0., 0.],\n",
       "        [0., 0., 0.]]])"
      ]
     },
     "execution_count": 105,
     "metadata": {},
     "output_type": "execute_result"
    }
   ],
   "source": [
    "np.zeros((4, 2,3))"
   ]
  },
  {
   "cell_type": "code",
   "execution_count": 107,
   "id": "09cc3679",
   "metadata": {},
   "outputs": [
    {
     "data": {
      "text/plain": [
       "array([[[1., 1., 1.],\n",
       "        [1., 1., 1.],\n",
       "        [1., 1., 1.],\n",
       "        [1., 1., 1.],\n",
       "        [1., 1., 1.]]])"
      ]
     },
     "execution_count": 107,
     "metadata": {},
     "output_type": "execute_result"
    }
   ],
   "source": [
    "np.ones((1,5,3))"
   ]
  },
  {
   "cell_type": "code",
   "execution_count": 108,
   "id": "c5a54620",
   "metadata": {},
   "outputs": [
    {
     "data": {
      "text/plain": [
       "array([[4.67296746e-307, 1.69121096e-306, 1.33511018e-306],\n",
       "       [7.56599807e-307, 1.42419938e-306, 7.56603881e-307],\n",
       "       [8.45603440e-307, 4.45046008e-307, 2.37667058e-312]])"
      ]
     },
     "execution_count": 108,
     "metadata": {},
     "output_type": "execute_result"
    }
   ],
   "source": [
    "np.empty((3,3))"
   ]
  },
  {
   "cell_type": "code",
   "execution_count": 111,
   "id": "2d656924",
   "metadata": {},
   "outputs": [
    {
     "data": {
      "text/plain": [
       "array([[1., 0., 0., 0.],\n",
       "       [0., 1., 0., 0.],\n",
       "       [0., 0., 1., 0.],\n",
       "       [0., 0., 0., 1.]])"
      ]
     },
     "execution_count": 111,
     "metadata": {},
     "output_type": "execute_result"
    }
   ],
   "source": [
    "np.eye(4)"
   ]
  },
  {
   "cell_type": "code",
   "execution_count": 7,
   "id": "78349ddd",
   "metadata": {},
   "outputs": [
    {
     "data": {
      "text/plain": [
       "array([2. , 3.5, 5. , 6.5])"
      ]
     },
     "execution_count": 7,
     "metadata": {},
     "output_type": "execute_result"
    }
   ],
   "source": [
    "np.linspace(2,8,4, endpoint=False)"
   ]
  },
  {
   "cell_type": "code",
   "execution_count": 11,
   "id": "65ab24c8",
   "metadata": {},
   "outputs": [
    {
     "data": {
      "text/plain": [
       "array([[2.  , 2.04, 2.08, 2.12, 2.16, 2.2 , 2.24, 2.28, 2.32, 2.36, 2.4 ,\n",
       "        2.44, 2.48, 2.52, 2.56, 2.6 , 2.64, 2.68, 2.72, 2.76, 2.8 , 2.84,\n",
       "        2.88, 2.92, 2.96, 3.  , 3.04, 3.08, 3.12, 3.16, 3.2 , 3.24, 3.28,\n",
       "        3.32, 3.36, 3.4 , 3.44, 3.48, 3.52, 3.56, 3.6 , 3.64, 3.68, 3.72,\n",
       "        3.76, 3.8 , 3.84, 3.88, 3.92, 3.96],\n",
       "       [8.  , 7.92, 7.84, 7.76, 7.68, 7.6 , 7.52, 7.44, 7.36, 7.28, 7.2 ,\n",
       "        7.12, 7.04, 6.96, 6.88, 6.8 , 6.72, 6.64, 6.56, 6.48, 6.4 , 6.32,\n",
       "        6.24, 6.16, 6.08, 6.  , 5.92, 5.84, 5.76, 5.68, 5.6 , 5.52, 5.44,\n",
       "        5.36, 5.28, 5.2 , 5.12, 5.04, 4.96, 4.88, 4.8 , 4.72, 4.64, 4.56,\n",
       "        4.48, 4.4 , 4.32, 4.24, 4.16, 4.08]])"
      ]
     },
     "execution_count": 11,
     "metadata": {},
     "output_type": "execute_result"
    }
   ],
   "source": [
    "np.linspace([2,8],4, endpoint=False, axis = 1)"
   ]
  },
  {
   "cell_type": "code",
   "execution_count": 12,
   "id": "9be64b28",
   "metadata": {},
   "outputs": [
    {
     "data": {
      "text/plain": [
       "array([ 100.        ,  215.443469  ,  464.15888336, 1000.        ])"
      ]
     },
     "execution_count": 12,
     "metadata": {},
     "output_type": "execute_result"
    }
   ],
   "source": [
    "np.logspace(2,3,4)"
   ]
  },
  {
   "cell_type": "code",
   "execution_count": 13,
   "id": "c62f4d38",
   "metadata": {},
   "outputs": [
    {
     "data": {
      "text/plain": [
       "array([[  100.        ,   109.8541142 ,   120.67926406,   132.57113656,\n",
       "          145.63484775,   159.98587196,   175.75106249,   193.06977289,\n",
       "          212.09508879,   232.99518105,   255.95479227,   281.1768698 ,\n",
       "          308.88435965,   339.32217719,   372.75937203,   409.49150624,\n",
       "          449.8432669 ,   494.17133613,   542.86754393,   596.36233166,\n",
       "          655.12855686,   719.685673  ,   790.60432109,   868.51137375,\n",
       "          954.09547635,  1048.11313415,  1151.39539933,  1264.85521686,\n",
       "         1389.49549437,  1526.41796718,  1676.83293681,  1842.06996933,\n",
       "         2023.58964773,  2222.99648253,  2442.05309455,  2682.69579528,\n",
       "         2947.05170255,  3237.45754282,  3556.48030622,  3906.93993705,\n",
       "         4291.93426013,  4714.86636346,  5179.47467923,  5689.86602902,\n",
       "         6250.55192527,  6866.48845004,  7543.12006335,  8286.42772855,\n",
       "         9102.98177992, 10000.        ],\n",
       "       [ 1000.        ,  1048.11313415,  1098.54114199,  1151.39539933,\n",
       "         1206.79264064,  1264.85521686,  1325.71136559,  1389.49549437,\n",
       "         1456.3484775 ,  1526.41796718,  1599.85871961,  1676.83293681,\n",
       "         1757.51062485,  1842.06996933,  1930.69772888,  2023.58964773,\n",
       "         2120.95088792,  2222.99648253,  2329.95181052,  2442.05309455,\n",
       "         2559.5479227 ,  2682.69579528,  2811.76869797,  2947.05170255,\n",
       "         3088.84359648,  3237.45754282,  3393.2217719 ,  3556.48030622,\n",
       "         3727.59372031,  3906.93993705,  4094.91506238,  4291.93426013,\n",
       "         4498.43266897,  4714.86636346,  4941.71336132,  5179.47467923,\n",
       "         5428.67543932,  5689.86602902,  5963.62331659,  6250.55192527,\n",
       "         6551.2855686 ,  6866.48845004,  7196.85673001,  7543.12006335,\n",
       "         7906.04321091,  8286.42772855,  8685.11373751,  9102.98177992,\n",
       "         9540.9547635 , 10000.        ]])"
      ]
     },
     "execution_count": 13,
     "metadata": {},
     "output_type": "execute_result"
    }
   ],
   "source": [
    "np.logspace([2,3],4, axis = 1)"
   ]
  },
  {
   "cell_type": "code",
   "execution_count": 14,
   "id": "15efa36d",
   "metadata": {},
   "outputs": [
    {
     "data": {
      "text/plain": [
       "array([[ 100.        ,  104.81131342,  109.8541142 ,  115.13953993,\n",
       "         120.67926406,  126.48552169,  132.57113656,  138.94954944,\n",
       "         145.63484775,  152.64179672,  159.98587196,  167.68329368,\n",
       "         175.75106249,  184.20699693,  193.06977289,  202.35896477,\n",
       "         212.09508879,  222.29964825,  232.99518105,  244.20530945,\n",
       "         255.95479227,  268.26957953,  281.1768698 ,  294.70517026,\n",
       "         308.88435965,  323.74575428,  339.32217719,  355.64803062,\n",
       "         372.75937203,  390.69399371,  409.49150624,  429.19342601,\n",
       "         449.8432669 ,  471.48663635,  494.17133613,  517.94746792,\n",
       "         542.86754393,  568.9866029 ,  596.36233166,  625.05519253,\n",
       "         655.12855686,  686.648845  ,  719.685673  ,  754.31200634,\n",
       "         790.60432109,  828.64277285,  868.51137375,  910.29817799,\n",
       "         954.09547635, 1000.        ]])"
      ]
     },
     "execution_count": 14,
     "metadata": {},
     "output_type": "execute_result"
    }
   ],
   "source": [
    "np.logspace([2],[3], axis = 1)"
   ]
  },
  {
   "cell_type": "code",
   "execution_count": 15,
   "id": "e1cdfcd2",
   "metadata": {},
   "outputs": [],
   "source": [
    "d = np.linspace(1,9, 20)"
   ]
  },
  {
   "cell_type": "code",
   "execution_count": 16,
   "id": "525499db",
   "metadata": {},
   "outputs": [
    {
     "data": {
      "text/plain": [
       "array([1.        , 1.42105263, 1.84210526, 2.26315789, 2.68421053,\n",
       "       3.10526316, 3.52631579, 3.94736842, 4.36842105, 4.78947368,\n",
       "       5.21052632, 5.63157895, 6.05263158, 6.47368421, 6.89473684,\n",
       "       7.31578947, 7.73684211, 8.15789474, 8.57894737, 9.        ])"
      ]
     },
     "execution_count": 16,
     "metadata": {},
     "output_type": "execute_result"
    }
   ],
   "source": [
    "d"
   ]
  },
  {
   "cell_type": "code",
   "execution_count": 17,
   "id": "4e62318a",
   "metadata": {},
   "outputs": [
    {
     "data": {
      "text/plain": [
       "1"
      ]
     },
     "execution_count": 17,
     "metadata": {},
     "output_type": "execute_result"
    }
   ],
   "source": [
    "d.ndim"
   ]
  },
  {
   "cell_type": "code",
   "execution_count": 18,
   "id": "1d0d3d7a",
   "metadata": {},
   "outputs": [
    {
     "data": {
      "text/plain": [
       "(20,)"
      ]
     },
     "execution_count": 18,
     "metadata": {},
     "output_type": "execute_result"
    }
   ],
   "source": [
    "d.shape"
   ]
  },
  {
   "cell_type": "code",
   "execution_count": 21,
   "id": "6b533e0a",
   "metadata": {},
   "outputs": [
    {
     "data": {
      "text/plain": [
       "array([[1.        ],\n",
       "       [1.42105263],\n",
       "       [1.84210526],\n",
       "       [2.26315789],\n",
       "       [2.68421053],\n",
       "       [3.10526316],\n",
       "       [3.52631579],\n",
       "       [3.94736842],\n",
       "       [4.36842105],\n",
       "       [4.78947368],\n",
       "       [5.21052632],\n",
       "       [5.63157895],\n",
       "       [6.05263158],\n",
       "       [6.47368421],\n",
       "       [6.89473684],\n",
       "       [7.31578947],\n",
       "       [7.73684211],\n",
       "       [8.15789474],\n",
       "       [8.57894737],\n",
       "       [9.        ]])"
      ]
     },
     "execution_count": 21,
     "metadata": {},
     "output_type": "execute_result"
    }
   ],
   "source": [
    "d.reshape(20,1)"
   ]
  },
  {
   "cell_type": "code",
   "execution_count": 28,
   "id": "1727e9e3",
   "metadata": {},
   "outputs": [
    {
     "data": {
      "text/plain": [
       "array([[[1.        , 1.42105263, 1.84210526, 2.26315789, 2.68421053],\n",
       "        [3.10526316, 3.52631579, 3.94736842, 4.36842105, 4.78947368]],\n",
       "\n",
       "       [[5.21052632, 5.63157895, 6.05263158, 6.47368421, 6.89473684],\n",
       "        [7.31578947, 7.73684211, 8.15789474, 8.57894737, 9.        ]]])"
      ]
     },
     "execution_count": 28,
     "metadata": {},
     "output_type": "execute_result"
    }
   ],
   "source": [
    "d.reshape(2,2,5)"
   ]
  },
  {
   "cell_type": "code",
   "execution_count": 30,
   "id": "75c9a61b",
   "metadata": {},
   "outputs": [
    {
     "data": {
      "text/plain": [
       "array([0.2986943 , 0.81540259, 0.11192129])"
      ]
     },
     "execution_count": 30,
     "metadata": {},
     "output_type": "execute_result"
    }
   ],
   "source": [
    "np.random.rand(3)"
   ]
  },
  {
   "cell_type": "code",
   "execution_count": 31,
   "id": "96f80e9b",
   "metadata": {},
   "outputs": [
    {
     "data": {
      "text/plain": [
       "array([-0.04137271, -0.49530116, -0.66190177])"
      ]
     },
     "execution_count": 31,
     "metadata": {},
     "output_type": "execute_result"
    }
   ],
   "source": [
    "np.random.randn(3)"
   ]
  },
  {
   "cell_type": "code",
   "execution_count": 33,
   "id": "75da968d",
   "metadata": {},
   "outputs": [
    {
     "data": {
      "text/plain": [
       "array([[0.68089765, 0.45753143, 0.60317462],\n",
       "       [0.75717146, 0.4375022 , 0.20076387]])"
      ]
     },
     "execution_count": 33,
     "metadata": {},
     "output_type": "execute_result"
    }
   ],
   "source": [
    "np.random.rand(2,3)"
   ]
  },
  {
   "cell_type": "code",
   "execution_count": 36,
   "id": "29b951b4",
   "metadata": {},
   "outputs": [
    {
     "data": {
      "text/plain": [
       "6"
      ]
     },
     "execution_count": 36,
     "metadata": {},
     "output_type": "execute_result"
    }
   ],
   "source": [
    "np.random.randint(2,13)"
   ]
  },
  {
   "cell_type": "code",
   "execution_count": 37,
   "id": "f75f1d22",
   "metadata": {},
   "outputs": [
    {
     "data": {
      "text/plain": [
       "array([[ 3,  9],\n",
       "       [11,  2],\n",
       "       [ 4,  2]])"
      ]
     },
     "execution_count": 37,
     "metadata": {},
     "output_type": "execute_result"
    }
   ],
   "source": [
    "np.random.randint(2,13,(3,2))"
   ]
  },
  {
   "cell_type": "code",
   "execution_count": 38,
   "id": "a9346d87",
   "metadata": {},
   "outputs": [],
   "source": [
    "a = np.random.randint(1,100, (5,5))"
   ]
  },
  {
   "cell_type": "code",
   "execution_count": 39,
   "id": "6497b98e",
   "metadata": {},
   "outputs": [
    {
     "data": {
      "text/plain": [
       "array([[61, 17, 70, 68, 76],\n",
       "       [47, 46, 59, 80, 47],\n",
       "       [86, 40, 72, 11, 50],\n",
       "       [24, 64, 61, 59, 84],\n",
       "       [98, 17, 58, 72, 98]])"
      ]
     },
     "execution_count": 39,
     "metadata": {},
     "output_type": "execute_result"
    }
   ],
   "source": [
    "a"
   ]
  },
  {
   "cell_type": "code",
   "execution_count": 40,
   "id": "841d9e96",
   "metadata": {},
   "outputs": [
    {
     "data": {
      "text/plain": [
       "array([[59, 84],\n",
       "       [72, 98]])"
      ]
     },
     "execution_count": 40,
     "metadata": {},
     "output_type": "execute_result"
    }
   ],
   "source": [
    "a[3:, 3:]"
   ]
  },
  {
   "cell_type": "code",
   "execution_count": 41,
   "id": "fa8cca3b",
   "metadata": {},
   "outputs": [
    {
     "data": {
      "text/plain": [
       "array([68, 80, 11, 59, 72])"
      ]
     },
     "execution_count": 41,
     "metadata": {},
     "output_type": "execute_result"
    }
   ],
   "source": [
    "a[:, 3]"
   ]
  },
  {
   "cell_type": "code",
   "execution_count": 42,
   "id": "51301f61",
   "metadata": {},
   "outputs": [
    {
     "data": {
      "text/plain": [
       "array([[17, 68],\n",
       "       [46, 80],\n",
       "       [40, 11],\n",
       "       [64, 59],\n",
       "       [17, 72]])"
      ]
     },
     "execution_count": 42,
     "metadata": {},
     "output_type": "execute_result"
    }
   ],
   "source": [
    "a[:, [1,3]]"
   ]
  },
  {
   "cell_type": "code",
   "execution_count": 43,
   "id": "9ca2b712",
   "metadata": {},
   "outputs": [
    {
     "data": {
      "text/plain": [
       "array([[ True, False,  True,  True,  True],\n",
       "       [ True,  True,  True,  True,  True],\n",
       "       [ True, False,  True, False,  True],\n",
       "       [False,  True,  True,  True,  True],\n",
       "       [ True, False,  True,  True,  True]])"
      ]
     },
     "execution_count": 43,
     "metadata": {},
     "output_type": "execute_result"
    }
   ],
   "source": [
    "a>40"
   ]
  },
  {
   "cell_type": "code",
   "execution_count": 45,
   "id": "8930322c",
   "metadata": {},
   "outputs": [
    {
     "data": {
      "text/plain": [
       "array([86, 84, 98, 98])"
      ]
     },
     "execution_count": 45,
     "metadata": {},
     "output_type": "execute_result"
    }
   ],
   "source": [
    "a[a>80]"
   ]
  },
  {
   "cell_type": "markdown",
   "id": "0df79fd6",
   "metadata": {},
   "source": [
    "# Element wise Multiplication"
   ]
  },
  {
   "cell_type": "code",
   "execution_count": 54,
   "id": "2ef6ef1c",
   "metadata": {},
   "outputs": [],
   "source": [
    "a1 = np.random.randint(1,4, (2,2))\n",
    "a2 = np.random.randint(6,9, (2,2))"
   ]
  },
  {
   "cell_type": "code",
   "execution_count": 51,
   "id": "e1f7908a",
   "metadata": {},
   "outputs": [
    {
     "data": {
      "text/plain": [
       "array([[3, 3],\n",
       "       [2, 2]])"
      ]
     },
     "execution_count": 51,
     "metadata": {},
     "output_type": "execute_result"
    }
   ],
   "source": [
    "a1"
   ]
  },
  {
   "cell_type": "code",
   "execution_count": 57,
   "id": "4c578c5d",
   "metadata": {},
   "outputs": [
    {
     "data": {
      "text/plain": [
       "array([[7, 8],\n",
       "       [7, 8]])"
      ]
     },
     "execution_count": 57,
     "metadata": {},
     "output_type": "execute_result"
    }
   ],
   "source": [
    "a2"
   ]
  },
  {
   "cell_type": "code",
   "execution_count": 53,
   "id": "9a8a1711",
   "metadata": {},
   "outputs": [
    {
     "data": {
      "text/plain": [
       "array([[24, 18],\n",
       "       [16, 12]])"
      ]
     },
     "execution_count": 53,
     "metadata": {},
     "output_type": "execute_result"
    }
   ],
   "source": [
    "a1 * a2"
   ]
  },
  {
   "cell_type": "markdown",
   "id": "f5e3b3ac",
   "metadata": {},
   "source": [
    "# Matrix Multiplication"
   ]
  },
  {
   "cell_type": "code",
   "execution_count": 55,
   "id": "df53f30c",
   "metadata": {},
   "outputs": [
    {
     "data": {
      "text/plain": [
       "array([[21, 24],\n",
       "       [28, 32]])"
      ]
     },
     "execution_count": 55,
     "metadata": {},
     "output_type": "execute_result"
    }
   ],
   "source": [
    "a1@a2"
   ]
  },
  {
   "cell_type": "code",
   "execution_count": 58,
   "id": "7ccb9a18",
   "metadata": {},
   "outputs": [],
   "source": [
    "a3 =  np.random.randint(1,4, (2,4))"
   ]
  },
  {
   "cell_type": "code",
   "execution_count": 60,
   "id": "c04350d2",
   "metadata": {},
   "outputs": [
    {
     "data": {
      "text/plain": [
       "array([[2, 3, 3, 1],\n",
       "       [1, 3, 2, 3]])"
      ]
     },
     "execution_count": 60,
     "metadata": {},
     "output_type": "execute_result"
    }
   ],
   "source": [
    "a3"
   ]
  },
  {
   "cell_type": "code",
   "execution_count": 62,
   "id": "f1dab777",
   "metadata": {},
   "outputs": [
    {
     "data": {
      "text/plain": [
       "array([[ 5,  9,  8,  5],\n",
       "       [ 6, 12, 10,  8]])"
      ]
     },
     "execution_count": 62,
     "metadata": {},
     "output_type": "execute_result"
    }
   ],
   "source": [
    "a1@a3"
   ]
  },
  {
   "cell_type": "code",
   "execution_count": 63,
   "id": "60b3f5d8",
   "metadata": {},
   "outputs": [
    {
     "data": {
      "text/plain": [
       "array([[4, 1],\n",
       "       [4, 4]], dtype=int32)"
      ]
     },
     "execution_count": 63,
     "metadata": {},
     "output_type": "execute_result"
    }
   ],
   "source": [
    "a1**2"
   ]
  },
  {
   "cell_type": "code",
   "execution_count": 67,
   "id": "026c58e6",
   "metadata": {},
   "outputs": [],
   "source": [
    "b = np.zeros((2,3))"
   ]
  },
  {
   "cell_type": "code",
   "execution_count": 74,
   "id": "12f09338",
   "metadata": {},
   "outputs": [],
   "source": [
    "a = np.array([[1,2,3]])"
   ]
  },
  {
   "cell_type": "code",
   "execution_count": 75,
   "id": "2e257063",
   "metadata": {},
   "outputs": [
    {
     "data": {
      "text/plain": [
       "array([[1., 2., 3.],\n",
       "       [1., 2., 3.]])"
      ]
     },
     "execution_count": 75,
     "metadata": {},
     "output_type": "execute_result"
    }
   ],
   "source": [
    "a+b"
   ]
  },
  {
   "cell_type": "code",
   "execution_count": 76,
   "id": "3cd7b02c",
   "metadata": {},
   "outputs": [
    {
     "data": {
      "text/plain": [
       "array([[1, 2, 3]])"
      ]
     },
     "execution_count": 76,
     "metadata": {},
     "output_type": "execute_result"
    }
   ],
   "source": [
    "a"
   ]
  },
  {
   "cell_type": "code",
   "execution_count": 77,
   "id": "4815779e",
   "metadata": {},
   "outputs": [
    {
     "data": {
      "text/plain": [
       "array([[1],\n",
       "       [2],\n",
       "       [3]])"
      ]
     },
     "execution_count": 77,
     "metadata": {},
     "output_type": "execute_result"
    }
   ],
   "source": [
    "a.T"
   ]
  },
  {
   "cell_type": "code",
   "execution_count": 85,
   "id": "ee037b65",
   "metadata": {},
   "outputs": [],
   "source": [
    "a4 =  np.random.randint(9,36, (2,3))"
   ]
  },
  {
   "cell_type": "code",
   "execution_count": 86,
   "id": "41b94f4e",
   "metadata": {},
   "outputs": [
    {
     "data": {
      "text/plain": [
       "array([[14, 34, 26],\n",
       "       [20, 24, 33]])"
      ]
     },
     "execution_count": 86,
     "metadata": {},
     "output_type": "execute_result"
    }
   ],
   "source": [
    "a4"
   ]
  },
  {
   "cell_type": "code",
   "execution_count": 87,
   "id": "32ef5f4d",
   "metadata": {},
   "outputs": [
    {
     "data": {
      "text/plain": [
       "array([[3.74165739, 5.83095189, 5.09901951],\n",
       "       [4.47213595, 4.89897949, 5.74456265]])"
      ]
     },
     "execution_count": 87,
     "metadata": {},
     "output_type": "execute_result"
    }
   ],
   "source": [
    "np.sqrt(a4)"
   ]
  },
  {
   "cell_type": "code",
   "execution_count": 84,
   "id": "d23ccfc8",
   "metadata": {},
   "outputs": [
    {
     "data": {
      "text/plain": [
       "array([[3.93133430e+12, 1.06864746e+13, 1.20260428e+06],\n",
       "       [4.85165195e+08, 5.83461743e+14, 2.41549528e+07]])"
      ]
     },
     "execution_count": 84,
     "metadata": {},
     "output_type": "execute_result"
    }
   ],
   "source": [
    "np.exp(a4)"
   ]
  },
  {
   "cell_type": "markdown",
   "id": "c4aa9a98",
   "metadata": {},
   "source": [
    "# SEED"
   ]
  },
  {
   "cell_type": "code",
   "execution_count": 96,
   "id": "84782cd6",
   "metadata": {},
   "outputs": [
    {
     "data": {
      "text/plain": [
       "array([[0.64414354, 0.38074849, 0.66304791],\n",
       "       [0.16365073, 0.96260781, 0.34666184]])"
      ]
     },
     "execution_count": 96,
     "metadata": {},
     "output_type": "execute_result"
    }
   ],
   "source": [
    "np.random.seed(30)\n",
    "np.random.rand(2,3)"
   ]
  },
  {
   "cell_type": "code",
   "execution_count": null,
   "id": "d110e5f9",
   "metadata": {},
   "outputs": [],
   "source": []
  },
  {
   "cell_type": "code",
   "execution_count": null,
   "id": "42722864",
   "metadata": {},
   "outputs": [],
   "source": []
  },
  {
   "cell_type": "code",
   "execution_count": null,
   "id": "60c90d17",
   "metadata": {},
   "outputs": [],
   "source": []
  }
 ],
 "metadata": {
  "kernelspec": {
   "display_name": "Python 3 (ipykernel)",
   "language": "python",
   "name": "python3"
  },
  "language_info": {
   "codemirror_mode": {
    "name": "ipython",
    "version": 3
   },
   "file_extension": ".py",
   "mimetype": "text/x-python",
   "name": "python",
   "nbconvert_exporter": "python",
   "pygments_lexer": "ipython3",
   "version": "3.9.13"
  }
 },
 "nbformat": 4,
 "nbformat_minor": 5
}
