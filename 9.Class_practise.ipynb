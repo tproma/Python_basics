{
 "cells": [
  {
   "cell_type": "code",
   "execution_count": 1,
   "id": "084e09bf",
   "metadata": {},
   "outputs": [],
   "source": [
    "class car:\n",
    "    pass"
   ]
  },
  {
   "cell_type": "code",
   "execution_count": 2,
   "id": "dc4e4e88",
   "metadata": {},
   "outputs": [],
   "source": [
    "audi = car()"
   ]
  },
  {
   "cell_type": "code",
   "execution_count": 3,
   "id": "3ef2744b",
   "metadata": {},
   "outputs": [],
   "source": [
    "audi.milage = 10\n",
    "audi.make= 2020"
   ]
  },
  {
   "cell_type": "code",
   "execution_count": 4,
   "id": "8ada19ca",
   "metadata": {},
   "outputs": [
    {
     "data": {
      "text/plain": [
       "2020"
      ]
     },
     "execution_count": 4,
     "metadata": {},
     "output_type": "execute_result"
    }
   ],
   "source": [
    "audi.make"
   ]
  },
  {
   "cell_type": "code",
   "execution_count": 5,
   "id": "0e93c323",
   "metadata": {},
   "outputs": [],
   "source": [
    "nano  = car()\n",
    "\n",
    "\n",
    "nano.milage = 5\n",
    "nano.make= 2018"
   ]
  },
  {
   "cell_type": "code",
   "execution_count": 6,
   "id": "2c301329",
   "metadata": {},
   "outputs": [
    {
     "data": {
      "text/plain": [
       "2018"
      ]
     },
     "execution_count": 6,
     "metadata": {},
     "output_type": "execute_result"
    }
   ],
   "source": [
    "nano.make"
   ]
  },
  {
   "cell_type": "code",
   "execution_count": 7,
   "id": "eefb825c",
   "metadata": {},
   "outputs": [
    {
     "name": "stdout",
     "output_type": "stream",
     "text": [
      "2018 2020\n"
     ]
    }
   ],
   "source": [
    "print(nano.make, audi.make)"
   ]
  },
  {
   "cell_type": "code",
   "execution_count": 11,
   "id": "e07173f4",
   "metadata": {},
   "outputs": [],
   "source": [
    "class car:\n",
    "    def __init__(self, model, make, milage):\n",
    "        self.m= model\n",
    "        self.ma= make\n",
    "        self.ml= milage"
   ]
  },
  {
   "cell_type": "code",
   "execution_count": 12,
   "id": "ee6f6999",
   "metadata": {},
   "outputs": [],
   "source": [
    "mers= car(\"sd\", 2020, 10)"
   ]
  },
  {
   "cell_type": "code",
   "execution_count": 16,
   "id": "b01061f5",
   "metadata": {},
   "outputs": [
    {
     "data": {
      "text/plain": [
       "2020"
      ]
     },
     "execution_count": 16,
     "metadata": {},
     "output_type": "execute_result"
    }
   ],
   "source": [
    "mers.ma\n"
   ]
  },
  {
   "cell_type": "code",
   "execution_count": 54,
   "id": "b71b69df",
   "metadata": {},
   "outputs": [],
   "source": [
    "class car:\n",
    "    def __init__(a, m, ma, ml):\n",
    "        a.model= m\n",
    "        a.make= ma\n",
    "        a.milage= ml\n",
    "        \n",
    "    def age(self, c_year):\n",
    "        return c_year - self.make\n",
    "    \n",
    "    def milage_show(self):\n",
    "        return self.milage\n",
    "    \n",
    "    #To provide messages through string method\n",
    "    def __str__(self):\n",
    "        return \"this is a car class\""
   ]
  },
  {
   "cell_type": "code",
   "execution_count": 55,
   "id": "37b27e36",
   "metadata": {},
   "outputs": [],
   "source": [
    "mers= car(\"sd\", 2020, 10)"
   ]
  },
  {
   "cell_type": "code",
   "execution_count": 56,
   "id": "3b049900",
   "metadata": {},
   "outputs": [
    {
     "data": {
      "text/plain": [
       "3"
      ]
     },
     "execution_count": 56,
     "metadata": {},
     "output_type": "execute_result"
    }
   ],
   "source": [
    "mers.age(2023)"
   ]
  },
  {
   "cell_type": "code",
   "execution_count": 57,
   "id": "0e749b37",
   "metadata": {},
   "outputs": [
    {
     "data": {
      "text/plain": [
       "10"
      ]
     },
     "execution_count": 57,
     "metadata": {},
     "output_type": "execute_result"
    }
   ],
   "source": [
    "mers.milage_show()"
   ]
  },
  {
   "cell_type": "code",
   "execution_count": 58,
   "id": "ae8b1a1f",
   "metadata": {},
   "outputs": [
    {
     "data": {
      "text/plain": [
       "<__main__.car at 0x15f09fc8760>"
      ]
     },
     "execution_count": 58,
     "metadata": {},
     "output_type": "execute_result"
    }
   ],
   "source": [
    "mers"
   ]
  },
  {
   "cell_type": "code",
   "execution_count": 59,
   "id": "8518d665",
   "metadata": {},
   "outputs": [
    {
     "name": "stdout",
     "output_type": "stream",
     "text": [
      "this is a car class\n"
     ]
    }
   ],
   "source": [
    "print(mers)"
   ]
  },
  {
   "cell_type": "code",
   "execution_count": 128,
   "id": "d51b3381",
   "metadata": {},
   "outputs": [],
   "source": [
    "class student:\n",
    "    def __init__(self, name, roll, joining , topic):\n",
    "        self.name = name\n",
    "        self.roll = roll\n",
    "        self.joining = joining \n",
    "        self.topic = topic\n",
    "        \n",
    "        \n",
    "    def name_parsing(self):\n",
    "        if type(self.name) == list:\n",
    "            for i in self.name :\n",
    "                print(\"name of the student \", i )\n",
    "        else: \n",
    "            print(\"name not provided in list\")\n",
    "    \n",
    "    \n",
    "    \n",
    "    def current_topic(self):\n",
    "        print( \"Current topic is \" , self.topic)\n",
    "        return \"current topic is \" + self.topic\n",
    "    \n",
    "    \n",
    "    def rollno(self):\n",
    "        try:\n",
    "            if type(self.roll) == str:\n",
    "                print(\" roll good\")\n",
    "            else:\n",
    "                return str(self.roll) \n",
    "        except Exception as e:\n",
    "            print(\"Error Message\")\n",
    "    \n",
    "    \n",
    "    def duration(self, current_time):\n",
    "        print(\"duration of the student in class is \", current_time-self.joining)\n",
    "        return current_time-self.joining\n",
    "    \n",
    "    \n",
    "    \n",
    "    def __str__(self):\n",
    "        return \"this is a student class.\""
   ]
  },
  {
   "cell_type": "code",
   "execution_count": 118,
   "id": "eadc4a01",
   "metadata": {},
   "outputs": [],
   "source": [
    "pro= student(\"proma\", 1, 2020, \"DS\")"
   ]
  },
  {
   "cell_type": "code",
   "execution_count": 119,
   "id": "83e656b2",
   "metadata": {},
   "outputs": [
    {
     "name": "stdout",
     "output_type": "stream",
     "text": [
      "Current topic is  DS\n"
     ]
    },
    {
     "data": {
      "text/plain": [
       "'current topic is DS'"
      ]
     },
     "execution_count": 119,
     "metadata": {},
     "output_type": "execute_result"
    }
   ],
   "source": [
    "pro.current_topic()"
   ]
  },
  {
   "cell_type": "code",
   "execution_count": 120,
   "id": "fd294ca7",
   "metadata": {},
   "outputs": [
    {
     "data": {
      "text/plain": [
       "'1'"
      ]
     },
     "execution_count": 120,
     "metadata": {},
     "output_type": "execute_result"
    }
   ],
   "source": [
    "pro.rollno()"
   ]
  },
  {
   "cell_type": "code",
   "execution_count": 121,
   "id": "852ebdb8",
   "metadata": {},
   "outputs": [
    {
     "name": "stdout",
     "output_type": "stream",
     "text": [
      "duration of the student in class is  3\n"
     ]
    },
    {
     "data": {
      "text/plain": [
       "3"
      ]
     },
     "execution_count": 121,
     "metadata": {},
     "output_type": "execute_result"
    }
   ],
   "source": [
    "pro.duration(2023)"
   ]
  },
  {
   "cell_type": "code",
   "execution_count": 122,
   "id": "c01a10d8",
   "metadata": {},
   "outputs": [
    {
     "data": {
      "text/plain": [
       "<__main__.student at 0x15f0a2cb700>"
      ]
     },
     "execution_count": 122,
     "metadata": {},
     "output_type": "execute_result"
    }
   ],
   "source": [
    "pro"
   ]
  },
  {
   "cell_type": "code",
   "execution_count": 123,
   "id": "ebb5ef5e",
   "metadata": {},
   "outputs": [
    {
     "name": "stdout",
     "output_type": "stream",
     "text": [
      "this is a student class.\n"
     ]
    }
   ],
   "source": [
    "print(pro)"
   ]
  },
  {
   "cell_type": "code",
   "execution_count": 124,
   "id": "69a20e87",
   "metadata": {},
   "outputs": [],
   "source": [
    "class2 = student([\"a\",\"b\"], [2,3], 2019,\"OOP\" )"
   ]
  },
  {
   "cell_type": "code",
   "execution_count": 125,
   "id": "0d53e99d",
   "metadata": {},
   "outputs": [
    {
     "data": {
      "text/plain": [
       "['a', 'b']"
      ]
     },
     "execution_count": 125,
     "metadata": {},
     "output_type": "execute_result"
    }
   ],
   "source": [
    "class2.name"
   ]
  },
  {
   "cell_type": "code",
   "execution_count": 126,
   "id": "3e04f35b",
   "metadata": {},
   "outputs": [
    {
     "data": {
      "text/plain": [
       "'[2, 3]'"
      ]
     },
     "execution_count": 126,
     "metadata": {},
     "output_type": "execute_result"
    }
   ],
   "source": [
    "class2.rollno()"
   ]
  },
  {
   "cell_type": "code",
   "execution_count": 127,
   "id": "7dc91aa2",
   "metadata": {},
   "outputs": [
    {
     "name": "stdout",
     "output_type": "stream",
     "text": [
      "name of the student  a\n",
      "name of the student  b\n"
     ]
    }
   ],
   "source": [
    "class2.name_parsing()"
   ]
  },
  {
   "cell_type": "markdown",
   "id": "066ae5ec",
   "metadata": {},
   "source": [
    "## HW"
   ]
  },
  {
   "cell_type": "code",
   "execution_count": 205,
   "id": "07b6dfab",
   "metadata": {},
   "outputs": [],
   "source": [
    "class File_manipulation:\n",
    "    \n",
    "    def __init__(self, file_name, file_type, date, size):\n",
    "        self.file_name = file_name\n",
    "        self.file_type = file_type\n",
    "        self.date = date\n",
    "        self.size = size     \n",
    "        \n",
    "    def File_open(self):\n",
    "        f = open(self.file_name, 'w')\n",
    "        f.write(\"File Opened\")\n",
    "        f.close()\n",
    "        \n",
    "    \n",
    "    def File_read(self):\n",
    "        f = open(self.file_name, 'r')\n",
    "        print(f.read())\n",
    "        f.close()\n",
    "        \n",
    "        \n",
    "    def File_append(self):\n",
    "        f = open(self.file_name, \"a\")\n",
    "        f.write(\"\\nAppended text\")\n",
    "        f.close()\n",
    "        \n",
    "        "
   ]
  },
  {
   "cell_type": "code",
   "execution_count": 207,
   "id": "f3396a5a",
   "metadata": {},
   "outputs": [
    {
     "name": "stdout",
     "output_type": "stream",
     "text": [
      "File Opened\n",
      "File Opened\n",
      "Appended text\n"
     ]
    }
   ],
   "source": [
    "file1 = File_manipulation(\"class\", \"txt\", '1_2_2020', '2MB')\n",
    "\n",
    "file1.File_open()\n",
    "file1.File_read()\n",
    "\n",
    "file1.File_append()\n",
    "file1.File_read()"
   ]
  },
  {
   "cell_type": "markdown",
   "id": "4cfc492a",
   "metadata": {},
   "source": [
    "## HW Type 2"
   ]
  },
  {
   "cell_type": "code",
   "execution_count": 210,
   "id": "7e2646cb",
   "metadata": {},
   "outputs": [],
   "source": [
    "class File_manipulation2:\n",
    "    \n",
    "    def __init__(self, file_name, file_type, date, size):\n",
    "        self.file_name = file_name\n",
    "        self.file_type = file_type\n",
    "        self.date = date\n",
    "        self.size = size     \n",
    "        \n",
    "        \n",
    "    def File_open(self):\n",
    "        try:\n",
    "            f = open(self.file_name, 'w')\n",
    "            f.write(\"File Opened\")\n",
    "            f.close()\n",
    "        except Exception as e:\n",
    "            print(e)\n",
    "    \n",
    "    \n",
    "    \n",
    "    def File_read(self):\n",
    "        try:            \n",
    "            f = open(self.file_name, 'r')\n",
    "            print(f.read())\n",
    "            f.close()\n",
    "        except Exception as e:\n",
    "            print(e)\n",
    "    \n",
    "        \n",
    "    def File_append(self):\n",
    "        try:\n",
    "            f = open(self.file_name, \"a\")\n",
    "            f.write(\"\\nAppended text\")\n",
    "            f.close()\n",
    "        \n",
    "        except Exception as e:\n",
    "            print(e)\n",
    "    "
   ]
  },
  {
   "cell_type": "code",
   "execution_count": 211,
   "id": "dba11954",
   "metadata": {},
   "outputs": [
    {
     "name": "stdout",
     "output_type": "stream",
     "text": [
      "File Opened\n",
      "File Opened\n",
      "Appended text\n"
     ]
    }
   ],
   "source": [
    "file1 = File_manipulation2(\"class2\", \"txt\", '1_2_2020', '2MB')\n",
    "\n",
    "file1.File_open()\n",
    "file1.File_read()\n",
    "\n",
    "file1.File_append()\n",
    "file1.File_read()"
   ]
  },
  {
   "cell_type": "markdown",
   "id": "3c26645b",
   "metadata": {},
   "source": [
    "## HW type 3:\n"
   ]
  },
  {
   "cell_type": "code",
   "execution_count": 19,
   "id": "8597eee2",
   "metadata": {},
   "outputs": [],
   "source": [
    "class File_manipulation3:\n",
    "    \n",
    "    def __init__(self, file_name, file_type, date, size):\n",
    "        self.file_name = file_name\n",
    "        self.file_type = file_type\n",
    "        self.date = date\n",
    "        self.size = size     \n",
    "        \n",
    "        \n",
    "    def File_open(self):\n",
    "        try:\n",
    "            with open(f\"{self.file_name}.txt\", \"w\") as f:\n",
    "                f.write(\"File Opened with type 3.\\nUse of With keyword.\\n....................\")\n",
    "                f.close()\n",
    "        except Exception as e:\n",
    "            print(e)\n",
    "    \n",
    "    \n",
    "    \n",
    "    def File_read(self):\n",
    "        try:            \n",
    "            with open(f\"{self.file_name}.txt\", \"r\") as f:\n",
    "                print(f.read())\n",
    "                f.close()\n",
    "        except Exception as e:\n",
    "            print(e)\n",
    "    \n",
    "        \n",
    "    def File_append(self):\n",
    "        try:\n",
    "            with open(f\"{self.file_name}.txt\", \"a\") as f:\n",
    "                f.write(\"\\nAppended text\")\n",
    "                f.close()\n",
    "        \n",
    "        except Exception as e:\n",
    "            print(e)\n",
    "    \n",
    "    def __str__(self):return \"File manipulation using class \""
   ]
  },
  {
   "cell_type": "code",
   "execution_count": 20,
   "id": "ec464b18",
   "metadata": {},
   "outputs": [
    {
     "name": "stdout",
     "output_type": "stream",
     "text": [
      "File Opened with type 3.\n",
      "Use of With keyword.\n",
      "....................\n",
      "File Opened with type 3.\n",
      "Use of With keyword.\n",
      "....................\n",
      "Appended text\n"
     ]
    }
   ],
   "source": [
    "file1 = File_manipulation3(\"class3\", \"txt\", '1_2_2020', '2MB')\n",
    "\n",
    "file1.File_open()\n",
    "file1.File_read()\n",
    "\n",
    "file1.File_append()\n",
    "file1.File_read()"
   ]
  },
  {
   "cell_type": "code",
   "execution_count": 21,
   "id": "99710cf2",
   "metadata": {},
   "outputs": [
    {
     "data": {
      "text/plain": [
       "__main__.File_manipulation3"
      ]
     },
     "execution_count": 21,
     "metadata": {},
     "output_type": "execute_result"
    }
   ],
   "source": [
    "File_manipulation3"
   ]
  },
  {
   "cell_type": "code",
   "execution_count": 23,
   "id": "3ba4fc98",
   "metadata": {},
   "outputs": [
    {
     "name": "stdout",
     "output_type": "stream",
     "text": [
      "File manipulation using class \n"
     ]
    }
   ],
   "source": [
    "print(file1)"
   ]
  },
  {
   "cell_type": "code",
   "execution_count": null,
   "id": "c06acbf7",
   "metadata": {},
   "outputs": [],
   "source": []
  }
 ],
 "metadata": {
  "kernelspec": {
   "display_name": "Python 3 (ipykernel)",
   "language": "python",
   "name": "python3"
  },
  "language_info": {
   "codemirror_mode": {
    "name": "ipython",
    "version": 3
   },
   "file_extension": ".py",
   "mimetype": "text/x-python",
   "name": "python",
   "nbconvert_exporter": "python",
   "pygments_lexer": "ipython3",
   "version": "3.9.13"
  }
 },
 "nbformat": 4,
 "nbformat_minor": 5
}
