{
 "cells": [
  {
   "cell_type": "code",
   "execution_count": 4,
   "id": "76139185",
   "metadata": {},
   "outputs": [],
   "source": [
    "def test(a,b):\n",
    "    sum = a+b\n",
    "    print(sum)"
   ]
  },
  {
   "cell_type": "code",
   "execution_count": 6,
   "id": "17fa7dc4",
   "metadata": {},
   "outputs": [
    {
     "name": "stdout",
     "output_type": "stream",
     "text": [
      "13\n"
     ]
    },
    {
     "data": {
      "text/plain": [
       "NoneType"
      ]
     },
     "execution_count": 6,
     "metadata": {},
     "output_type": "execute_result"
    }
   ],
   "source": [
    "type(test(5,8))"
   ]
  },
  {
   "cell_type": "code",
   "execution_count": 7,
   "id": "203f745b",
   "metadata": {},
   "outputs": [],
   "source": [
    "def test1(a,b):\n",
    "    sum = a+b\n",
    "    return sum"
   ]
  },
  {
   "cell_type": "code",
   "execution_count": 8,
   "id": "59430f28",
   "metadata": {},
   "outputs": [
    {
     "data": {
      "text/plain": [
       "int"
      ]
     },
     "execution_count": 8,
     "metadata": {},
     "output_type": "execute_result"
    }
   ],
   "source": [
    "type(test1(5,8))"
   ]
  },
  {
   "cell_type": "markdown",
   "id": "f56fd9c6",
   "metadata": {},
   "source": [
    "Retun gives a type of data\n"
   ]
  },
  {
   "cell_type": "code",
   "execution_count": 9,
   "id": "ac595aab",
   "metadata": {},
   "outputs": [
    {
     "name": "stdout",
     "output_type": "stream",
     "text": [
      "13\n"
     ]
    },
    {
     "ename": "TypeError",
     "evalue": "unsupported operand type(s) for *: 'NoneType' and 'int'",
     "output_type": "error",
     "traceback": [
      "\u001b[1;31m---------------------------------------------------------------------------\u001b[0m",
      "\u001b[1;31mTypeError\u001b[0m                                 Traceback (most recent call last)",
      "Cell \u001b[1;32mIn [9], line 1\u001b[0m\n\u001b[1;32m----> 1\u001b[0m \u001b[43m(\u001b[49m\u001b[43mtest\u001b[49m\u001b[43m(\u001b[49m\u001b[38;5;241;43m5\u001b[39;49m\u001b[43m,\u001b[49m\u001b[38;5;241;43m8\u001b[39;49m\u001b[43m)\u001b[49m\u001b[43m)\u001b[49m\u001b[43m \u001b[49m\u001b[38;5;241;43m*\u001b[39;49m\u001b[43m \u001b[49m\u001b[38;5;241;43m3\u001b[39;49m\n",
      "\u001b[1;31mTypeError\u001b[0m: unsupported operand type(s) for *: 'NoneType' and 'int'"
     ]
    }
   ],
   "source": [
    "(test(5,8)) * 3"
   ]
  },
  {
   "cell_type": "code",
   "execution_count": 47,
   "id": "26b8ba22",
   "metadata": {},
   "outputs": [
    {
     "data": {
      "text/plain": [
       "39"
      ]
     },
     "execution_count": 47,
     "metadata": {},
     "output_type": "execute_result"
    }
   ],
   "source": [
    "(test1(5,8)) * 3"
   ]
  },
  {
   "cell_type": "code",
   "execution_count": 48,
   "id": "b3595ca5",
   "metadata": {},
   "outputs": [],
   "source": [
    "def test2(n,m):\n",
    "    return n*10, m*2, m+n, m*n"
   ]
  },
  {
   "cell_type": "code",
   "execution_count": 49,
   "id": "59e25b1f",
   "metadata": {},
   "outputs": [
    {
     "data": {
      "text/plain": [
       "(10, 4, 3, 2)"
      ]
     },
     "execution_count": 49,
     "metadata": {},
     "output_type": "execute_result"
    }
   ],
   "source": [
    "(test2(1,2))"
   ]
  },
  {
   "cell_type": "code",
   "execution_count": 51,
   "id": "adbcdc08",
   "metadata": {},
   "outputs": [],
   "source": [
    "## place holder _ , not interested in the data\n",
    "\n",
    "q,_,e,_ = test2(1,2)"
   ]
  },
  {
   "cell_type": "code",
   "execution_count": 52,
   "id": "132c06ac",
   "metadata": {},
   "outputs": [
    {
     "data": {
      "text/plain": [
       "(10, 2, 3, 2)"
      ]
     },
     "execution_count": 52,
     "metadata": {},
     "output_type": "execute_result"
    }
   ],
   "source": [
    "# place holder overrides. it gives you the value of the last execution.\n",
    "q,_,e,_"
   ]
  },
  {
   "cell_type": "code",
   "execution_count": 53,
   "id": "2d2bd6c3",
   "metadata": {},
   "outputs": [
    {
     "name": "stdout",
     "output_type": "stream",
     "text": [
      " This is a string print.\n"
     ]
    },
    {
     "ename": "TypeError",
     "evalue": "unsupported operand type(s) for +: 'NoneType' and 'str'",
     "output_type": "error",
     "traceback": [
      "\u001b[1;31m---------------------------------------------------------------------------\u001b[0m",
      "\u001b[1;31mTypeError\u001b[0m                                 Traceback (most recent call last)",
      "Cell \u001b[1;32mIn [53], line 7\u001b[0m\n\u001b[0;32m      2\u001b[0m     \u001b[38;5;28mprint\u001b[39m(\u001b[38;5;124m\"\u001b[39m\u001b[38;5;124m This is a string print.\u001b[39m\u001b[38;5;124m\"\u001b[39m)\n\u001b[0;32m      5\u001b[0m a \u001b[38;5;241m=\u001b[39m test3()\n\u001b[1;32m----> 7\u001b[0m b \u001b[38;5;241m=\u001b[39m \u001b[43ma\u001b[49m\u001b[43m \u001b[49m\u001b[38;5;241;43m+\u001b[39;49m\u001b[43m \u001b[49m\u001b[38;5;124;43m\"\u001b[39;49m\u001b[38;5;124;43mFunction\u001b[39;49m\u001b[38;5;124;43m\"\u001b[39;49m\n\u001b[0;32m      8\u001b[0m \u001b[38;5;28mprint\u001b[39m(b)\n",
      "\u001b[1;31mTypeError\u001b[0m: unsupported operand type(s) for +: 'NoneType' and 'str'"
     ]
    }
   ],
   "source": [
    "def test3():\n",
    "    print(\" This is a string print.\")\n",
    "    \n",
    "    \n",
    "a = test3()\n",
    "\n",
    "b = a + \"Function\"\n",
    "print(b)"
   ]
  },
  {
   "cell_type": "code",
   "execution_count": 54,
   "id": "77b5e9bb",
   "metadata": {},
   "outputs": [
    {
     "name": "stdout",
     "output_type": "stream",
     "text": [
      " This is a string print.Function\n"
     ]
    }
   ],
   "source": [
    "def test3():\n",
    "    return \" This is a string print.\"\n",
    "    \n",
    "    \n",
    "a = test3()\n",
    "\n",
    "b = a + \"Function\"\n",
    "print(b)"
   ]
  },
  {
   "cell_type": "code",
   "execution_count": 67,
   "id": "aa8109d3",
   "metadata": {},
   "outputs": [],
   "source": [
    "def test4(n):\n",
    "    return n*2"
   ]
  },
  {
   "cell_type": "code",
   "execution_count": 68,
   "id": "6d8ecbd8",
   "metadata": {},
   "outputs": [
    {
     "data": {
      "text/plain": [
       "[1, 2, 3, 4, 5, 6, 1, 2, 3, 4, 5, 6]"
      ]
     },
     "execution_count": 68,
     "metadata": {},
     "output_type": "execute_result"
    }
   ],
   "source": [
    "test4([1,2,3,4,5,6])"
   ]
  },
  {
   "cell_type": "code",
   "execution_count": 69,
   "id": "e7185331",
   "metadata": {},
   "outputs": [
    {
     "data": {
      "text/plain": [
       "list"
      ]
     },
     "execution_count": 69,
     "metadata": {},
     "output_type": "execute_result"
    }
   ],
   "source": [
    "type(test4([1,2,3,4,5,6]))"
   ]
  },
  {
   "cell_type": "code",
   "execution_count": 70,
   "id": "e27bbbc6",
   "metadata": {},
   "outputs": [
    {
     "data": {
      "text/plain": [
       "10"
      ]
     },
     "execution_count": 70,
     "metadata": {},
     "output_type": "execute_result"
    }
   ],
   "source": [
    "test4(5)"
   ]
  },
  {
   "cell_type": "code",
   "execution_count": 71,
   "id": "509ed001",
   "metadata": {},
   "outputs": [
    {
     "data": {
      "text/plain": [
       "int"
      ]
     },
     "execution_count": 71,
     "metadata": {},
     "output_type": "execute_result"
    }
   ],
   "source": [
    "type(test4(5))"
   ]
  },
  {
   "cell_type": "code",
   "execution_count": 72,
   "id": "5e5145ed",
   "metadata": {},
   "outputs": [],
   "source": [
    "def test5(n):\n",
    "    return n,n*2"
   ]
  },
  {
   "cell_type": "code",
   "execution_count": 78,
   "id": "bbd85c84",
   "metadata": {},
   "outputs": [],
   "source": [
    "q = test5([1,2,3,4,5,6])"
   ]
  },
  {
   "cell_type": "code",
   "execution_count": 79,
   "id": "a93d2ec5",
   "metadata": {},
   "outputs": [
    {
     "data": {
      "text/plain": [
       "tuple"
      ]
     },
     "execution_count": 79,
     "metadata": {},
     "output_type": "execute_result"
    }
   ],
   "source": [
    "type(q)"
   ]
  },
  {
   "cell_type": "code",
   "execution_count": 80,
   "id": "c954dca1",
   "metadata": {},
   "outputs": [
    {
     "data": {
      "text/plain": [
       "([1, 2, 3, 4, 5, 6], [1, 2, 3, 4, 5, 6, 1, 2, 3, 4, 5, 6])"
      ]
     },
     "execution_count": 80,
     "metadata": {},
     "output_type": "execute_result"
    }
   ],
   "source": [
    "q"
   ]
  },
  {
   "cell_type": "code",
   "execution_count": 81,
   "id": "141135e1",
   "metadata": {},
   "outputs": [
    {
     "data": {
      "text/plain": [
       "[1, 2, 3, 4, 5, 6]"
      ]
     },
     "execution_count": 81,
     "metadata": {},
     "output_type": "execute_result"
    }
   ],
   "source": [
    "q[0]"
   ]
  },
  {
   "cell_type": "code",
   "execution_count": 87,
   "id": "9780afdd",
   "metadata": {},
   "outputs": [],
   "source": [
    "# non default argument comes before default argument\n",
    "def test6(n, m = 90):\n",
    "    return n+m"
   ]
  },
  {
   "cell_type": "code",
   "execution_count": 88,
   "id": "f0d89dc9",
   "metadata": {},
   "outputs": [
    {
     "data": {
      "text/plain": [
       "100"
      ]
     },
     "execution_count": 88,
     "metadata": {},
     "output_type": "execute_result"
    }
   ],
   "source": [
    "test6(10)"
   ]
  },
  {
   "cell_type": "code",
   "execution_count": 90,
   "id": "eca19254",
   "metadata": {},
   "outputs": [
    {
     "data": {
      "text/plain": [
       "14"
      ]
     },
     "execution_count": 90,
     "metadata": {},
     "output_type": "execute_result"
    }
   ],
   "source": [
    "# overriding the default value\n",
    "test6(10, 4)"
   ]
  },
  {
   "cell_type": "code",
   "execution_count": 98,
   "id": "2f77246a",
   "metadata": {},
   "outputs": [
    {
     "data": {
      "text/plain": [
       "(True, False, True)"
      ]
     },
     "execution_count": 98,
     "metadata": {},
     "output_type": "execute_result"
    }
   ],
   "source": [
    "def travel( b = True, c = False):\n",
    "    plan = b or c\n",
    "    return b,c, plan\n",
    "\n",
    "travel()"
   ]
  },
  {
   "cell_type": "code",
   "execution_count": 99,
   "id": "60cb95cb",
   "metadata": {},
   "outputs": [
    {
     "data": {
      "text/plain": [
       "(False, False, False)"
      ]
     },
     "execution_count": 99,
     "metadata": {},
     "output_type": "execute_result"
    }
   ],
   "source": [
    "travel(False)"
   ]
  },
  {
   "cell_type": "code",
   "execution_count": 100,
   "id": "91bc9819",
   "metadata": {},
   "outputs": [
    {
     "data": {
      "text/plain": [
       "(True, True, True)"
      ]
     },
     "execution_count": 100,
     "metadata": {},
     "output_type": "execute_result"
    }
   ],
   "source": [
    "travel(c = True)"
   ]
  },
  {
   "cell_type": "code",
   "execution_count": 101,
   "id": "e19b1148",
   "metadata": {},
   "outputs": [
    {
     "data": {
      "text/plain": [
       "(2, True, 2)"
      ]
     },
     "execution_count": 101,
     "metadata": {},
     "output_type": "execute_result"
    }
   ],
   "source": [
    "travel(_, True)"
   ]
  },
  {
   "cell_type": "code",
   "execution_count": 96,
   "id": "2e467979",
   "metadata": {},
   "outputs": [
    {
     "data": {
      "text/plain": [
       "(True, False, False)"
      ]
     },
     "execution_count": 96,
     "metadata": {},
     "output_type": "execute_result"
    }
   ],
   "source": [
    "def travel( b = True, c = False):\n",
    "    plan = b and c\n",
    "    return b,c, plan\n",
    "\n",
    "travel()"
   ]
  },
  {
   "cell_type": "code",
   "execution_count": 102,
   "id": "8bd7a178",
   "metadata": {},
   "outputs": [
    {
     "data": {
      "text/plain": [
       "2"
      ]
     },
     "execution_count": 102,
     "metadata": {},
     "output_type": "execute_result"
    }
   ],
   "source": [
    "_ "
   ]
  },
  {
   "cell_type": "code",
   "execution_count": 104,
   "id": "a22a57b5",
   "metadata": {},
   "outputs": [],
   "source": [
    "_ = {}"
   ]
  },
  {
   "cell_type": "code",
   "execution_count": 105,
   "id": "00286107",
   "metadata": {},
   "outputs": [
    {
     "data": {
      "text/plain": [
       "{}"
      ]
     },
     "execution_count": 105,
     "metadata": {},
     "output_type": "execute_result"
    }
   ],
   "source": [
    "_\n"
   ]
  },
  {
   "cell_type": "code",
   "execution_count": 106,
   "id": "8c2b6145",
   "metadata": {},
   "outputs": [
    {
     "data": {
      "text/plain": [
       "dict"
      ]
     },
     "execution_count": 106,
     "metadata": {},
     "output_type": "execute_result"
    }
   ],
   "source": [
    "type(_)"
   ]
  },
  {
   "cell_type": "code",
   "execution_count": 111,
   "id": "b5fe16ac",
   "metadata": {},
   "outputs": [],
   "source": [
    "def test7(*args, a = \"pro\"):\n",
    "    return a, args"
   ]
  },
  {
   "cell_type": "code",
   "execution_count": 150,
   "id": "8b5b3892",
   "metadata": {},
   "outputs": [
    {
     "data": {
      "text/plain": [
       "('pro', ())"
      ]
     },
     "execution_count": 150,
     "metadata": {},
     "output_type": "execute_result"
    }
   ],
   "source": [
    "test7()"
   ]
  },
  {
   "cell_type": "code",
   "execution_count": 151,
   "id": "d2b3e71d",
   "metadata": {},
   "outputs": [
    {
     "data": {
      "text/plain": [
       "('pro', ('sam', 'Siddiqui', [12, 3, 4, 5]))"
      ]
     },
     "execution_count": 151,
     "metadata": {},
     "output_type": "execute_result"
    }
   ],
   "source": [
    "test7(\"sam\", \"Siddiqui\", [12,3,4,5])"
   ]
  },
  {
   "cell_type": "code",
   "execution_count": 156,
   "id": "2d7d2021",
   "metadata": {},
   "outputs": [],
   "source": [
    "def test_test(*args):\n",
    "    s = []\n",
    "    for i in args:\n",
    "        s = s+i\n",
    "        \n",
    "    t = []\n",
    "    t.append(args)\n",
    "    return s"
   ]
  },
  {
   "cell_type": "code",
   "execution_count": 157,
   "id": "e25819e2",
   "metadata": {},
   "outputs": [
    {
     "data": {
      "text/plain": [
       "['sam', 'Siddiqui', 12, 3, 4, 5, 3, 5]"
      ]
     },
     "execution_count": 157,
     "metadata": {},
     "output_type": "execute_result"
    }
   ],
   "source": [
    "test_test([\"sam\", \"Siddiqui\"], [12,3,4,5], [3,5])"
   ]
  },
  {
   "cell_type": "code",
   "execution_count": 158,
   "id": "93f971d3",
   "metadata": {},
   "outputs": [
    {
     "ename": "TypeError",
     "evalue": "can only concatenate list (not \"str\") to list",
     "output_type": "error",
     "traceback": [
      "\u001b[1;31m---------------------------------------------------------------------------\u001b[0m",
      "\u001b[1;31mTypeError\u001b[0m                                 Traceback (most recent call last)",
      "Cell \u001b[1;32mIn [158], line 1\u001b[0m\n\u001b[1;32m----> 1\u001b[0m \u001b[43mtest_test\u001b[49m\u001b[43m(\u001b[49m\u001b[38;5;124;43m\"\u001b[39;49m\u001b[38;5;124;43msam\u001b[39;49m\u001b[38;5;124;43m\"\u001b[39;49m\u001b[43m,\u001b[49m\u001b[43m \u001b[49m\u001b[43m[\u001b[49m\u001b[38;5;241;43m12\u001b[39;49m\u001b[43m,\u001b[49m\u001b[38;5;241;43m3\u001b[39;49m\u001b[43m,\u001b[49m\u001b[38;5;241;43m4\u001b[39;49m\u001b[43m,\u001b[49m\u001b[38;5;241;43m5\u001b[39;49m\u001b[43m]\u001b[49m\u001b[43m)\u001b[49m\n",
      "Cell \u001b[1;32mIn [156], line 4\u001b[0m, in \u001b[0;36mtest_test\u001b[1;34m(*args)\u001b[0m\n\u001b[0;32m      2\u001b[0m s \u001b[38;5;241m=\u001b[39m []\n\u001b[0;32m      3\u001b[0m \u001b[38;5;28;01mfor\u001b[39;00m i \u001b[38;5;129;01min\u001b[39;00m args:\n\u001b[1;32m----> 4\u001b[0m     s \u001b[38;5;241m=\u001b[39m \u001b[43ms\u001b[49m\u001b[38;5;241;43m+\u001b[39;49m\u001b[43mi\u001b[49m\n\u001b[0;32m      6\u001b[0m t \u001b[38;5;241m=\u001b[39m []\n\u001b[0;32m      7\u001b[0m t\u001b[38;5;241m.\u001b[39mappend(args)\n",
      "\u001b[1;31mTypeError\u001b[0m: can only concatenate list (not \"str\") to list"
     ]
    }
   ],
   "source": [
    "test_test(\"sam\", [12,3,4,5])"
   ]
  },
  {
   "cell_type": "markdown",
   "id": "de2fe6af",
   "metadata": {},
   "source": [
    "### args\n",
    "Arguments:   \n",
    "be ableto pass any number of a particular data    \n",
    "returns in tuple\n",
    "\n",
    "### kwargs\n",
    "Keyword Arguments:   \n",
    "be able to pass any number of whatever type of data    \n",
    "in key and value pair\n",
    "returns in dictionary"
   ]
  },
  {
   "cell_type": "code",
   "execution_count": 159,
   "id": "9f1448fc",
   "metadata": {},
   "outputs": [],
   "source": [
    "def test8(**kwargs):\n",
    "    return kwargs"
   ]
  },
  {
   "cell_type": "code",
   "execution_count": 160,
   "id": "81927ba9",
   "metadata": {},
   "outputs": [
    {
     "ename": "TypeError",
     "evalue": "test8() takes 0 positional arguments but 2 were given",
     "output_type": "error",
     "traceback": [
      "\u001b[1;31m---------------------------------------------------------------------------\u001b[0m",
      "\u001b[1;31mTypeError\u001b[0m                                 Traceback (most recent call last)",
      "Cell \u001b[1;32mIn [160], line 1\u001b[0m\n\u001b[1;32m----> 1\u001b[0m \u001b[43mtest8\u001b[49m\u001b[43m(\u001b[49m\u001b[38;5;124;43m\"\u001b[39;49m\u001b[38;5;124;43msam\u001b[39;49m\u001b[38;5;124;43m\"\u001b[39;49m\u001b[43m,\u001b[49m\u001b[43m \u001b[49m\u001b[43m[\u001b[49m\u001b[38;5;241;43m12\u001b[39;49m\u001b[43m,\u001b[49m\u001b[38;5;241;43m3\u001b[39;49m\u001b[43m,\u001b[49m\u001b[38;5;241;43m4\u001b[39;49m\u001b[43m,\u001b[49m\u001b[38;5;241;43m5\u001b[39;49m\u001b[43m]\u001b[49m\u001b[43m)\u001b[49m\n",
      "\u001b[1;31mTypeError\u001b[0m: test8() takes 0 positional arguments but 2 were given"
     ]
    }
   ],
   "source": [
    "test8(\"sam\", [12,3,4,5])"
   ]
  },
  {
   "cell_type": "code",
   "execution_count": 163,
   "id": "58c005bc",
   "metadata": {},
   "outputs": [
    {
     "data": {
      "text/plain": [
       "{'a': 2, 'b': 'sam', 'c': [2, 3, 4], 'd': [[2, 4], 'sam', True]}"
      ]
     },
     "execution_count": 163,
     "metadata": {},
     "output_type": "execute_result"
    }
   ],
   "source": [
    "test8(a = 2, b = \"sam\", c = [2,3,4], d = [[2,4], \"sam\", True])"
   ]
  },
  {
   "cell_type": "code",
   "execution_count": 164,
   "id": "2d1bdfdd",
   "metadata": {},
   "outputs": [
    {
     "data": {
      "text/plain": [
       "['a', 'b', 'c', 'd']"
      ]
     },
     "execution_count": 164,
     "metadata": {},
     "output_type": "execute_result"
    }
   ],
   "source": [
    "list(test8(a = 2, b = \"sam\", c = [2,3,4], d = [[2,4], \"sam\", True]))"
   ]
  },
  {
   "cell_type": "code",
   "execution_count": 186,
   "id": "8fa3c0ef",
   "metadata": {},
   "outputs": [],
   "source": [
    "def test9(*args):\n",
    "    inte = []\n",
    "    string =[]\n",
    "    boolean = []\n",
    "    floats = []\n",
    "    lis = []\n",
    "    tuples = []\n",
    "    dictionary =[]\n",
    "    \n",
    "    for i in args:\n",
    "        if type(i) == int:\n",
    "            inte.append(i)\n",
    "            \n",
    "        elif type(i) == str:\n",
    "            string.append(i)\n",
    "            \n",
    "        elif type(i) == bool:\n",
    "            boolean.append(i)\n",
    "        \n",
    "        elif type(i) == float:\n",
    "            floats.append(i)   \n",
    "            \n",
    "        elif type(i) == list:\n",
    "            lis.append(i)    \n",
    "    \n",
    "        elif type(i) == tuple:\n",
    "            tuples.append(i)   \n",
    "        \n",
    "        elif type(i) == dict:\n",
    "            dictionary.append(i) \n",
    "            \n",
    "\n",
    "    return inte, boolean, string, floats, lis,tuples,dictionary"
   ]
  },
  {
   "cell_type": "code",
   "execution_count": 187,
   "id": "9a719332",
   "metadata": {},
   "outputs": [
    {
     "data": {
      "text/plain": [
       "([3],\n",
       " [True],\n",
       " ['sam', 'Siddiqui'],\n",
       " [1.1],\n",
       " [[12, 3, 4, 5]],\n",
       " [(2, [4, 5], False)],\n",
       " [])"
      ]
     },
     "execution_count": 187,
     "metadata": {},
     "output_type": "execute_result"
    }
   ],
   "source": [
    "test9(\"sam\", \"Siddiqui\", [12,3,4,5], 3, True, (2,[4,5], False), 1.1, {2, False, \"Pro\",3.3})"
   ]
  },
  {
   "cell_type": "code",
   "execution_count": 194,
   "id": "5d767e9e",
   "metadata": {},
   "outputs": [],
   "source": [
    "def test10(*args, **kwargs):\n",
    "    l = [i for i in args]\n",
    "    d = [i for i in kwargs.items()]\n",
    "    \n",
    "    return l, d"
   ]
  },
  {
   "cell_type": "code",
   "execution_count": 195,
   "id": "7ef8b224",
   "metadata": {},
   "outputs": [
    {
     "data": {
      "text/plain": [
       "(['sam',\n",
       "  'Siddiqui',\n",
       "  [12, 3, 4, 5],\n",
       "  3,\n",
       "  True,\n",
       "  (2, [4, 5], False),\n",
       "  1.1,\n",
       "  {2, 3.3, False, 'Pro'}],\n",
       " [('a', 99), ('b', 'sdfsdf')])"
      ]
     },
     "execution_count": 195,
     "metadata": {},
     "output_type": "execute_result"
    }
   ],
   "source": [
    "test10(\"sam\", \"Siddiqui\", [12,3,4,5], 3, True, (2,[4,5], False), 1.1, {2, False, \"Pro\",3.3}, a = 99, b = \"sdfsdf\")"
   ]
  },
  {
   "cell_type": "code",
   "execution_count": 203,
   "id": "1a78dbb5",
   "metadata": {},
   "outputs": [],
   "source": [
    "def test11(*args, **kwargs):\n",
    "    l = [i for i in args if type(i\n",
    "                                ) ==list]\n",
    "    d = [i[1] for i in kwargs.items() if type(i[1]) ==list ]\n",
    "    \n",
    "    return l, d"
   ]
  },
  {
   "cell_type": "code",
   "execution_count": 204,
   "id": "dcac57a5",
   "metadata": {},
   "outputs": [
    {
     "data": {
      "text/plain": [
       "([[12, 3, 4, 5]], [[44, 21, 123]])"
      ]
     },
     "execution_count": 204,
     "metadata": {},
     "output_type": "execute_result"
    }
   ],
   "source": [
    "test11(\"sam\", \"Siddiqui\", [12,3,4,5], 3, True, (2,[4,5], False), 1.1, {2, False, \"Pro\",3.3}, a = 99, b = \"sdfsdf\", c = [44,21,123])"
   ]
  },
  {
   "cell_type": "code",
   "execution_count": 205,
   "id": "17612ac8",
   "metadata": {},
   "outputs": [],
   "source": [
    "def test12(**kwargs):\n",
    "    return kwargs"
   ]
  },
  {
   "cell_type": "code",
   "execution_count": 206,
   "id": "cc96fa6b",
   "metadata": {},
   "outputs": [
    {
     "data": {
      "text/plain": [
       "{'q': 'sam',\n",
       " 'w': [12, 3, 4, 5],\n",
       " 'e': True,\n",
       " 'r': (2, [4, 5], False),\n",
       " 't': 1.1,\n",
       " 'y': {2, 3.3, False, 'Pro'},\n",
       " 'a': 99,\n",
       " 'b': 'sdfsdf',\n",
       " 'c': [44, 21, 123]}"
      ]
     },
     "execution_count": 206,
     "metadata": {},
     "output_type": "execute_result"
    }
   ],
   "source": [
    "test12(q = \"sam\",w =[12,3,4,5],e =True,r =(2,[4,5], False),t = 1.1, y ={2, False, \"Pro\",3.3}, a = 99, b = \"sdfsdf\", c = [44,21,123])"
   ]
  },
  {
   "cell_type": "code",
   "execution_count": 216,
   "id": "6059dfb3",
   "metadata": {},
   "outputs": [],
   "source": [
    "def test13(**kwargs):\n",
    "    for i in kwargs.items():\n",
    "        if type(i[1]) == list:\n",
    "            if \"pro\" in i[1]:\n",
    "                print(\"Found name...\")\n",
    "                print(i[1])\n",
    "    return kwargs"
   ]
  },
  {
   "cell_type": "code",
   "execution_count": 217,
   "id": "f56641c8",
   "metadata": {},
   "outputs": [
    {
     "name": "stdout",
     "output_type": "stream",
     "text": [
      "Found name...\n",
      "[44, 21, 123, 'pro']\n"
     ]
    },
    {
     "data": {
      "text/plain": [
       "{'q': 'sam',\n",
       " 'w': [12, 3, 4, 5],\n",
       " 'e': True,\n",
       " 'r': (2, [4, 5], False),\n",
       " 't': 1.1,\n",
       " 'y': {2, 3.3, False, 'Pro'},\n",
       " 'a': 99,\n",
       " 'b': 'sdfsdf',\n",
       " 'c': [44, 21, 123, 'pro']}"
      ]
     },
     "execution_count": 217,
     "metadata": {},
     "output_type": "execute_result"
    }
   ],
   "source": [
    "test13(q = \"sam\",w =[12,3,4,5],e =True,r =(2,[4,5], False),t = 1.1, y ={2, False, \"Pro\",3.3}, a = 99, b = \"sdfsdf\", c = [44,21,123, \"pro\"])"
   ]
  },
  {
   "cell_type": "code",
   "execution_count": 222,
   "id": "eda4cead",
   "metadata": {},
   "outputs": [],
   "source": [
    "def test14(**kwargs):\n",
    "    for i in kwargs.values():\n",
    "        if type(i) == list:\n",
    "            if \"pro\" in i:\n",
    "                print(\"Found name...\")\n",
    "                print(i)\n",
    "    return kwargs"
   ]
  },
  {
   "cell_type": "code",
   "execution_count": 223,
   "id": "8e13cf70",
   "metadata": {},
   "outputs": [
    {
     "name": "stdout",
     "output_type": "stream",
     "text": [
      "Found name...\n",
      "[44, 21, 123, 'pro']\n"
     ]
    },
    {
     "data": {
      "text/plain": [
       "{'q': 'sam',\n",
       " 'w': [12, 3, 4, 5],\n",
       " 'e': True,\n",
       " 'r': (2, [4, 5], False),\n",
       " 't': 1.1,\n",
       " 'y': {2, 3.3, False, 'Pro'},\n",
       " 'a': 99,\n",
       " 'b': 'sdfsdf',\n",
       " 'c': [44, 21, 123, 'pro']}"
      ]
     },
     "execution_count": 223,
     "metadata": {},
     "output_type": "execute_result"
    }
   ],
   "source": [
    "test14(q = \"sam\",w =[12,3,4,5],e =True,r =(2,[4,5], False),t = 1.1, y ={2, False, \"Pro\",3.3}, a = 99, b = \"sdfsdf\", c = [44,21,123, \"pro\"])"
   ]
  },
  {
   "cell_type": "code",
   "execution_count": 226,
   "id": "bbd4fe0d",
   "metadata": {},
   "outputs": [],
   "source": [
    "def test15(*args):\n",
    "    d = {}\n",
    "    for i in args:\n",
    "        if type(i) in d:\n",
    "            d[type(i)].append(i)\n",
    "        else:\n",
    "            d[type(i)] = [i]\n",
    "            \n",
    "    return d\n"
   ]
  },
  {
   "cell_type": "code",
   "execution_count": 227,
   "id": "c6129494",
   "metadata": {},
   "outputs": [
    {
     "data": {
      "text/plain": [
       "{str: ['sam', 'Siddiqui'],\n",
       " list: [[12, 3, 4, 5]],\n",
       " int: [3],\n",
       " bool: [True],\n",
       " tuple: [(2, [4, 5], False)],\n",
       " float: [1.1],\n",
       " set: [{2, 3.3, False, 'Pro'}]}"
      ]
     },
     "execution_count": 227,
     "metadata": {},
     "output_type": "execute_result"
    }
   ],
   "source": [
    "test15(\"sam\", \"Siddiqui\", [12,3,4,5], 3, True, (2,[4,5], False), 1.1, {2, False, \"Pro\",3.3})"
   ]
  },
  {
   "cell_type": "code",
   "execution_count": null,
   "id": "8e3c4220",
   "metadata": {},
   "outputs": [],
   "source": []
  }
 ],
 "metadata": {
  "kernelspec": {
   "display_name": "Python 3 (ipykernel)",
   "language": "python",
   "name": "python3"
  },
  "language_info": {
   "codemirror_mode": {
    "name": "ipython",
    "version": 3
   },
   "file_extension": ".py",
   "mimetype": "text/x-python",
   "name": "python",
   "nbconvert_exporter": "python",
   "pygments_lexer": "ipython3",
   "version": "3.9.13"
  }
 },
 "nbformat": 4,
 "nbformat_minor": 5
}
