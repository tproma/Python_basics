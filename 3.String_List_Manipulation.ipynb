{
 "cells": [
  {
   "cell_type": "code",
   "execution_count": 2,
   "id": "ac618bc9",
   "metadata": {},
   "outputs": [],
   "source": [
    "a = \"tanjina \"\n",
    "b = \"proma\""
   ]
  },
  {
   "cell_type": "code",
   "execution_count": 3,
   "id": "acfff854",
   "metadata": {},
   "outputs": [],
   "source": [
    "c = \"String and list manipulation\""
   ]
  },
  {
   "cell_type": "code",
   "execution_count": 4,
   "id": "eb72f36c",
   "metadata": {},
   "outputs": [
    {
     "data": {
      "text/plain": [
       "str"
      ]
     },
     "execution_count": 4,
     "metadata": {},
     "output_type": "execute_result"
    }
   ],
   "source": [
    "type(c)"
   ]
  },
  {
   "cell_type": "code",
   "execution_count": 7,
   "id": "bef414ad",
   "metadata": {},
   "outputs": [],
   "source": [
    "d ='asddjfkjsdg\" hjh'"
   ]
  },
  {
   "cell_type": "code",
   "execution_count": 8,
   "id": "f11cbb76",
   "metadata": {},
   "outputs": [
    {
     "data": {
      "text/plain": [
       "str"
      ]
     },
     "execution_count": 8,
     "metadata": {},
     "output_type": "execute_result"
    }
   ],
   "source": [
    "type(d)"
   ]
  },
  {
   "cell_type": "code",
   "execution_count": 11,
   "id": "1385e6eb",
   "metadata": {},
   "outputs": [],
   "source": [
    "c = \"String and list manipulation\""
   ]
  },
  {
   "cell_type": "code",
   "execution_count": 12,
   "id": "cdbe60d1",
   "metadata": {},
   "outputs": [
    {
     "data": {
      "text/plain": [
       "'S'"
      ]
     },
     "execution_count": 12,
     "metadata": {},
     "output_type": "execute_result"
    }
   ],
   "source": [
    " c[0]"
   ]
  },
  {
   "cell_type": "code",
   "execution_count": 13,
   "id": "bf36178b",
   "metadata": {},
   "outputs": [
    {
     "data": {
      "text/plain": [
       "'n'"
      ]
     },
     "execution_count": 13,
     "metadata": {},
     "output_type": "execute_result"
    }
   ],
   "source": [
    "c[-1]"
   ]
  },
  {
   "cell_type": "code",
   "execution_count": 16,
   "id": "338cfc55",
   "metadata": {},
   "outputs": [
    {
     "data": {
      "text/plain": [
       "28"
      ]
     },
     "execution_count": 16,
     "metadata": {},
     "output_type": "execute_result"
    }
   ],
   "source": [
    "len(c)"
   ]
  },
  {
   "cell_type": "code",
   "execution_count": 19,
   "id": "00943560",
   "metadata": {},
   "outputs": [
    {
     "data": {
      "text/plain": [
       "'noitalupinam tsil dna gnirtS'"
      ]
     },
     "execution_count": 19,
     "metadata": {},
     "output_type": "execute_result"
    }
   ],
   "source": [
    "c[-1:-29:-1]"
   ]
  },
  {
   "cell_type": "code",
   "execution_count": 20,
   "id": "c9dd5ad3",
   "metadata": {},
   "outputs": [
    {
     "name": "stdout",
     "output_type": "stream",
     "text": [
      "S\n",
      "t\n",
      "r\n",
      "i\n",
      "n\n",
      "g\n",
      " \n",
      "a\n",
      "n\n",
      "d\n",
      " \n",
      "l\n",
      "i\n",
      "s\n",
      "t\n",
      " \n",
      "m\n",
      "a\n",
      "n\n",
      "i\n",
      "p\n",
      "u\n",
      "l\n",
      "a\n",
      "t\n",
      "i\n",
      "o\n",
      "n\n"
     ]
    }
   ],
   "source": [
    "for i in c:\n",
    "    print(i)"
   ]
  },
  {
   "cell_type": "code",
   "execution_count": 22,
   "id": "c1df62cb",
   "metadata": {},
   "outputs": [
    {
     "name": "stdout",
     "output_type": "stream",
     "text": [
      "S\n",
      "t\n",
      "r\n",
      "i\n",
      "n\n",
      "g\n",
      " \n",
      "a\n",
      "n\n",
      "d\n",
      " \n",
      "l\n",
      "i\n",
      "s\n",
      "t\n",
      " \n",
      "m\n",
      "a\n",
      "n\n",
      "i\n",
      "p\n",
      "u\n",
      "l\n",
      "a\n",
      "t\n",
      "i\n",
      "o\n",
      "n\n"
     ]
    }
   ],
   "source": [
    "for i in range(len(c)):\n",
    "    print(c[i])"
   ]
  },
  {
   "cell_type": "code",
   "execution_count": 23,
   "id": "81052841",
   "metadata": {},
   "outputs": [
    {
     "ename": "NameError",
     "evalue": "name 's' is not defined",
     "output_type": "error",
     "traceback": [
      "\u001b[1;31m---------------------------------------------------------------------------\u001b[0m",
      "\u001b[1;31mNameError\u001b[0m                                 Traceback (most recent call last)",
      "Cell \u001b[1;32mIn [23], line 1\u001b[0m\n\u001b[1;32m----> 1\u001b[0m \u001b[43ms\u001b[49m[\u001b[38;5;241m0\u001b[39m] \u001b[38;5;241m=\u001b[39m \u001b[38;5;124m\"\u001b[39m\u001b[38;5;124ma\u001b[39m\u001b[38;5;124m\"\u001b[39m\n",
      "\u001b[1;31mNameError\u001b[0m: name 's' is not defined"
     ]
    }
   ],
   "source": [
    "s[0] = \"a\""
   ]
  },
  {
   "cell_type": "code",
   "execution_count": 24,
   "id": "d9772eb3",
   "metadata": {},
   "outputs": [],
   "source": [
    "l = [\"proma\", \"079697578\", \"sdjfnkjdsfb\", 0.134, [1,2,3]]"
   ]
  },
  {
   "cell_type": "code",
   "execution_count": 25,
   "id": "e0391662",
   "metadata": {},
   "outputs": [],
   "source": [
    "l[0] = \"Sam\""
   ]
  },
  {
   "cell_type": "code",
   "execution_count": 26,
   "id": "b2a51b1d",
   "metadata": {},
   "outputs": [
    {
     "data": {
      "text/plain": [
       "['Sam', '079697578', 'sdjfnkjdsfb', 0.134, [1, 2, 3]]"
      ]
     },
     "execution_count": 26,
     "metadata": {},
     "output_type": "execute_result"
    }
   ],
   "source": [
    "l\n"
   ]
  },
  {
   "cell_type": "markdown",
   "id": "8fd7cec2",
   "metadata": {},
   "source": [
    "list is a mutable object, items assignments are allowed. \n",
    "\n",
    "\n",
    "Strings are Immutable object.\n",
    "Complete new strings can be assigned."
   ]
  },
  {
   "cell_type": "code",
   "execution_count": 27,
   "id": "1c54a404",
   "metadata": {},
   "outputs": [
    {
     "data": {
      "text/plain": [
       "['Sam', '079697578', 'sdjfnkjdsfb', 0.134, [1, 2, 3]]"
      ]
     },
     "execution_count": 27,
     "metadata": {},
     "output_type": "execute_result"
    }
   ],
   "source": [
    "l "
   ]
  },
  {
   "cell_type": "code",
   "execution_count": 31,
   "id": "77f7d6dc",
   "metadata": {},
   "outputs": [
    {
     "data": {
      "text/plain": [
       "['sdjfnkjdsfb', 0.134]"
      ]
     },
     "execution_count": 31,
     "metadata": {},
     "output_type": "execute_result"
    }
   ],
   "source": [
    "l[2:4]"
   ]
  },
  {
   "cell_type": "code",
   "execution_count": 32,
   "id": "bf7b9f13",
   "metadata": {},
   "outputs": [
    {
     "data": {
      "text/plain": [
       "'String and list manipulation'"
      ]
     },
     "execution_count": 32,
     "metadata": {},
     "output_type": "execute_result"
    }
   ],
   "source": [
    "c"
   ]
  },
  {
   "cell_type": "code",
   "execution_count": 33,
   "id": "99639cb5",
   "metadata": {},
   "outputs": [
    {
     "data": {
      "text/plain": [
       "7"
      ]
     },
     "execution_count": 33,
     "metadata": {},
     "output_type": "execute_result"
    }
   ],
   "source": [
    "c.find(\"and\")"
   ]
  },
  {
   "cell_type": "code",
   "execution_count": 35,
   "id": "9563113b",
   "metadata": {},
   "outputs": [
    {
     "name": "stdout",
     "output_type": "stream",
     "text": [
      "7\n",
      "8\n",
      "9\n"
     ]
    }
   ],
   "source": [
    "p = c.find(\"and\")\n",
    "for i in range(len(\"and\")):\n",
    "    print(p+i)"
   ]
  },
  {
   "cell_type": "code",
   "execution_count": 36,
   "id": "28946517",
   "metadata": {},
   "outputs": [
    {
     "data": {
      "text/plain": [
       "3"
      ]
     },
     "execution_count": 36,
     "metadata": {},
     "output_type": "execute_result"
    }
   ],
   "source": [
    "len(\"and\")"
   ]
  },
  {
   "cell_type": "code",
   "execution_count": 37,
   "id": "56ac8d5c",
   "metadata": {},
   "outputs": [
    {
     "name": "stdout",
     "output_type": "stream",
     "text": [
      "0\n",
      "1\n",
      "2\n"
     ]
    }
   ],
   "source": [
    "for i in range(len(\"and\")):\n",
    "    print(i)"
   ]
  },
  {
   "cell_type": "code",
   "execution_count": 38,
   "id": "9bc712e1",
   "metadata": {},
   "outputs": [
    {
     "data": {
      "text/plain": [
       "1"
      ]
     },
     "execution_count": 38,
     "metadata": {},
     "output_type": "execute_result"
    }
   ],
   "source": [
    "c.count(\"and\")"
   ]
  },
  {
   "cell_type": "code",
   "execution_count": 39,
   "id": "92c86963",
   "metadata": {},
   "outputs": [
    {
     "data": {
      "text/plain": [
       "['String', 'and', 'list', 'manipulation']"
      ]
     },
     "execution_count": 39,
     "metadata": {},
     "output_type": "execute_result"
    }
   ],
   "source": [
    "c.split()"
   ]
  },
  {
   "cell_type": "code",
   "execution_count": 40,
   "id": "527f7c87",
   "metadata": {},
   "outputs": [
    {
     "data": {
      "text/plain": [
       "['String ', ' list manipulation']"
      ]
     },
     "execution_count": 40,
     "metadata": {},
     "output_type": "execute_result"
    }
   ],
   "source": [
    "c.split(\"and\")"
   ]
  },
  {
   "cell_type": "code",
   "execution_count": 41,
   "id": "11b5953b",
   "metadata": {},
   "outputs": [
    {
     "data": {
      "text/plain": [
       "['Stri', 'g a', 'd list ma', 'ipulatio', '']"
      ]
     },
     "execution_count": 41,
     "metadata": {},
     "output_type": "execute_result"
    }
   ],
   "source": [
    "c.split(\"n\")"
   ]
  },
  {
   "cell_type": "code",
   "execution_count": 42,
   "id": "48c80a4c",
   "metadata": {},
   "outputs": [
    {
     "data": {
      "text/plain": [
       "list"
      ]
     },
     "execution_count": 42,
     "metadata": {},
     "output_type": "execute_result"
    }
   ],
   "source": [
    "type(c.split(\"and\"))"
   ]
  },
  {
   "cell_type": "code",
   "execution_count": 43,
   "id": "38a4b973",
   "metadata": {},
   "outputs": [
    {
     "data": {
      "text/plain": [
       "'STRING AND LIST MANIPULATION'"
      ]
     },
     "execution_count": 43,
     "metadata": {},
     "output_type": "execute_result"
    }
   ],
   "source": [
    "c.upper()"
   ]
  },
  {
   "cell_type": "code",
   "execution_count": 44,
   "id": "37a7add9",
   "metadata": {},
   "outputs": [
    {
     "data": {
      "text/plain": [
       "'string and list manipulation'"
      ]
     },
     "execution_count": 44,
     "metadata": {},
     "output_type": "execute_result"
    }
   ],
   "source": [
    "c.lower()"
   ]
  },
  {
   "cell_type": "code",
   "execution_count": 45,
   "id": "78769881",
   "metadata": {},
   "outputs": [
    {
     "data": {
      "text/plain": [
       "'sTRING AND LIST MANIPULATION'"
      ]
     },
     "execution_count": 45,
     "metadata": {},
     "output_type": "execute_result"
    }
   ],
   "source": [
    "c.swapcase()\n"
   ]
  },
  {
   "cell_type": "code",
   "execution_count": 48,
   "id": "f12cfe55",
   "metadata": {},
   "outputs": [
    {
     "data": {
      "text/plain": [
       "'S t r i n g   a n d   l i s t   m a n i p u l a t i o n'"
      ]
     },
     "execution_count": 48,
     "metadata": {},
     "output_type": "execute_result"
    }
   ],
   "source": [
    "\" \".join(c)"
   ]
  },
  {
   "cell_type": "code",
   "execution_count": 49,
   "id": "2df1fedf",
   "metadata": {},
   "outputs": [
    {
     "data": {
      "text/plain": [
       "'S-t-r-i-n-g- -a-n-d- -l-i-s-t- -m-a-n-i-p-u-l-a-t-i-o-n'"
      ]
     },
     "execution_count": 49,
     "metadata": {},
     "output_type": "execute_result"
    }
   ],
   "source": [
    "\"-\".join(c)"
   ]
  },
  {
   "cell_type": "code",
   "execution_count": 52,
   "id": "27807e80",
   "metadata": {},
   "outputs": [
    {
     "data": {
      "text/plain": [
       "['n',\n",
       " 'o',\n",
       " 'i',\n",
       " 't',\n",
       " 'a',\n",
       " 'l',\n",
       " 'u',\n",
       " 'p',\n",
       " 'i',\n",
       " 'n',\n",
       " 'a',\n",
       " 'm',\n",
       " ' ',\n",
       " 't',\n",
       " 's',\n",
       " 'i',\n",
       " 'l',\n",
       " ' ',\n",
       " 'd',\n",
       " 'n',\n",
       " 'a',\n",
       " ' ',\n",
       " 'g',\n",
       " 'n',\n",
       " 'i',\n",
       " 'r',\n",
       " 't',\n",
       " 'S']"
      ]
     },
     "execution_count": 52,
     "metadata": {},
     "output_type": "execute_result"
    }
   ],
   "source": [
    "list(reversed(c))"
   ]
  },
  {
   "cell_type": "code",
   "execution_count": 51,
   "id": "e7bc7c5b",
   "metadata": {},
   "outputs": [
    {
     "data": {
      "text/plain": [
       "'noitalupinam tsil dna gnirtS'"
      ]
     },
     "execution_count": 51,
     "metadata": {},
     "output_type": "execute_result"
    }
   ],
   "source": [
    "c[::-1]"
   ]
  },
  {
   "cell_type": "code",
   "execution_count": 55,
   "id": "1164f6a5",
   "metadata": {},
   "outputs": [
    {
     "name": "stdout",
     "output_type": "stream",
     "text": [
      "S\n",
      "t\n",
      "r\n",
      "i is a vowel\n",
      "n\n",
      "g\n",
      " \n",
      "a is a vowel\n",
      "n\n",
      "d\n",
      " \n",
      "l\n",
      "i is a vowel\n",
      "s\n",
      "t\n",
      " \n",
      "m\n",
      "a is a vowel\n",
      "n\n",
      "i is a vowel\n",
      "p\n",
      "u is a vowel\n",
      "l\n",
      "a is a vowel\n",
      "t\n",
      "i is a vowel\n",
      "o is a vowel\n",
      "n\n"
     ]
    }
   ],
   "source": [
    "vowels = \"AaEeIiOoUu\"\n",
    "\n",
    "for i in c:\n",
    "    if i in vowels:\n",
    "        print(\"{} is a vowel\".format(i))\n",
    "    else:\n",
    "        print(\"{}\".format(i))"
   ]
  },
  {
   "cell_type": "code",
   "execution_count": 57,
   "id": "3c752d23",
   "metadata": {},
   "outputs": [
    {
     "name": "stdout",
     "output_type": "stream",
     "text": [
      "A is in string.\n",
      "a is in string.\n",
      "E is in string.\n",
      "e is in string.\n",
      "I is in string.\n",
      "i is in string.\n",
      "O is in string.\n",
      "o is in string.\n",
      "U is in string.\n",
      "u is in string.\n"
     ]
    }
   ],
   "source": [
    "for i in vowels:\n",
    "    print(\"{} is in string.\".format(i))"
   ]
  },
  {
   "cell_type": "code",
   "execution_count": 58,
   "id": "7a796730",
   "metadata": {},
   "outputs": [
    {
     "name": "stdout",
     "output_type": "stream",
     "text": [
      "A  is in string ...\n",
      "a  is in string ...\n",
      "E  is in string ...\n",
      "e  is in string ...\n",
      "I  is in string ...\n",
      "i  is in string ...\n",
      "O  is in string ...\n",
      "o  is in string ...\n",
      "U  is in string ...\n",
      "u  is in string ...\n"
     ]
    }
   ],
   "source": [
    "for i in vowels:\n",
    "    print(i, \" is in string ...\")"
   ]
  },
  {
   "cell_type": "code",
   "execution_count": 60,
   "id": "ab41666f",
   "metadata": {},
   "outputs": [
    {
     "data": {
      "text/plain": [
       "'this is in string manipulation .'"
      ]
     },
     "execution_count": 60,
     "metadata": {},
     "output_type": "execute_result"
    }
   ],
   "source": [
    "\"{} is in string {} .\".format(\"this\", \"manipulation\")"
   ]
  },
  {
   "cell_type": "code",
   "execution_count": 62,
   "id": "ebdbdae1",
   "metadata": {},
   "outputs": [
    {
     "name": "stdout",
     "output_type": "stream",
     "text": [
      "My\n",
      "Sam\n"
     ]
    },
    {
     "data": {
      "text/plain": [
       "'My name is Sam .'"
      ]
     },
     "execution_count": 62,
     "metadata": {},
     "output_type": "execute_result"
    }
   ],
   "source": [
    "a= input()\n",
    "b = input()\n",
    "\n",
    "\"{} name is {} .\".format(a,b)"
   ]
  },
  {
   "cell_type": "code",
   "execution_count": 70,
   "id": "5cfcf19d",
   "metadata": {},
   "outputs": [
    {
     "name": "stdout",
     "output_type": "stream",
     "text": [
      "aba\n",
      "palindrome\n"
     ]
    }
   ],
   "source": [
    "a= input()\n",
    "a_1 = a[::-1]\n",
    "\n",
    "if a ==a_1:\n",
    "    print(\"palindrome\")\n",
    "else:\n",
    "    print(\" ...\")"
   ]
  },
  {
   "cell_type": "code",
   "execution_count": 121,
   "id": "6fd0a19f",
   "metadata": {},
   "outputs": [],
   "source": [
    "a =list(range(10))"
   ]
  },
  {
   "cell_type": "code",
   "execution_count": 122,
   "id": "caafe708",
   "metadata": {},
   "outputs": [
    {
     "data": {
      "text/plain": [
       "[0, 1, 2, 3, 4, 5, 6, 7, 8, 9]"
      ]
     },
     "execution_count": 122,
     "metadata": {},
     "output_type": "execute_result"
    }
   ],
   "source": [
    "a"
   ]
  },
  {
   "cell_type": "code",
   "execution_count": 123,
   "id": "583fc5f0",
   "metadata": {},
   "outputs": [
    {
     "data": {
      "text/plain": [
       "list"
      ]
     },
     "execution_count": 123,
     "metadata": {},
     "output_type": "execute_result"
    }
   ],
   "source": [
    "type(a)"
   ]
  },
  {
   "cell_type": "code",
   "execution_count": 124,
   "id": "3e1c881c",
   "metadata": {},
   "outputs": [
    {
     "data": {
      "text/plain": [
       "1"
      ]
     },
     "execution_count": 124,
     "metadata": {},
     "output_type": "execute_result"
    }
   ],
   "source": [
    "a[1]"
   ]
  },
  {
   "cell_type": "code",
   "execution_count": 125,
   "id": "8ebac8f4",
   "metadata": {},
   "outputs": [
    {
     "data": {
      "text/plain": [
       "3"
      ]
     },
     "execution_count": 125,
     "metadata": {},
     "output_type": "execute_result"
    }
   ],
   "source": [
    "a[3]"
   ]
  },
  {
   "cell_type": "code",
   "execution_count": 126,
   "id": "f8db7a3f",
   "metadata": {},
   "outputs": [
    {
     "data": {
      "text/plain": [
       "[1, 3, 5]"
      ]
     },
     "execution_count": 126,
     "metadata": {},
     "output_type": "execute_result"
    }
   ],
   "source": [
    "a[1:7:2]"
   ]
  },
  {
   "cell_type": "code",
   "execution_count": 127,
   "id": "dbebf1a9",
   "metadata": {},
   "outputs": [
    {
     "data": {
      "text/plain": [
       "[0, 1, 2, 3, 4, 5, 6, 7, 8, 9, 0, 1, 2, 3, 4, 5, 6, 7, 8, 9]"
      ]
     },
     "execution_count": 127,
     "metadata": {},
     "output_type": "execute_result"
    }
   ],
   "source": [
    "a*2\n"
   ]
  },
  {
   "cell_type": "code",
   "execution_count": 128,
   "id": "423e2538",
   "metadata": {},
   "outputs": [
    {
     "data": {
      "text/plain": [
       "False"
      ]
     },
     "execution_count": 128,
     "metadata": {},
     "output_type": "execute_result"
    }
   ],
   "source": [
    "11 in a"
   ]
  },
  {
   "cell_type": "code",
   "execution_count": 129,
   "id": "2c720068",
   "metadata": {},
   "outputs": [
    {
     "data": {
      "text/plain": [
       "True"
      ]
     },
     "execution_count": 129,
     "metadata": {},
     "output_type": "execute_result"
    }
   ],
   "source": [
    "1 in a"
   ]
  },
  {
   "cell_type": "code",
   "execution_count": 130,
   "id": "55547f59",
   "metadata": {},
   "outputs": [],
   "source": [
    "a.insert(2,\"ABC\")"
   ]
  },
  {
   "cell_type": "code",
   "execution_count": 131,
   "id": "3ab91e0c",
   "metadata": {},
   "outputs": [
    {
     "data": {
      "text/plain": [
       "[0, 1, 'ABC', 2, 3, 4, 5, 6, 7, 8, 9]"
      ]
     },
     "execution_count": 131,
     "metadata": {},
     "output_type": "execute_result"
    }
   ],
   "source": [
    "a"
   ]
  },
  {
   "cell_type": "code",
   "execution_count": 132,
   "id": "e0e220c4",
   "metadata": {},
   "outputs": [],
   "source": [
    "a.append(\"X\")"
   ]
  },
  {
   "cell_type": "code",
   "execution_count": 133,
   "id": "06346947",
   "metadata": {},
   "outputs": [
    {
     "data": {
      "text/plain": [
       "[0, 1, 'ABC', 2, 3, 4, 5, 6, 7, 8, 9, 'X']"
      ]
     },
     "execution_count": 133,
     "metadata": {},
     "output_type": "execute_result"
    }
   ],
   "source": [
    "a"
   ]
  },
  {
   "cell_type": "code",
   "execution_count": 134,
   "id": "f0ac57b4",
   "metadata": {},
   "outputs": [],
   "source": [
    "a.insert(-2, \"N\")"
   ]
  },
  {
   "cell_type": "code",
   "execution_count": 135,
   "id": "6b17edac",
   "metadata": {},
   "outputs": [
    {
     "data": {
      "text/plain": [
       "[0, 1, 'ABC', 2, 3, 4, 5, 6, 7, 8, 'N', 9, 'X']"
      ]
     },
     "execution_count": 135,
     "metadata": {},
     "output_type": "execute_result"
    }
   ],
   "source": [
    "a"
   ]
  },
  {
   "cell_type": "code",
   "execution_count": 136,
   "id": "019d3772",
   "metadata": {},
   "outputs": [],
   "source": [
    "a.insert(-1,\"z\")"
   ]
  },
  {
   "cell_type": "code",
   "execution_count": 137,
   "id": "2002fbbf",
   "metadata": {},
   "outputs": [],
   "source": [
    "a.insert(1,0)"
   ]
  },
  {
   "cell_type": "code",
   "execution_count": 138,
   "id": "9288f107",
   "metadata": {},
   "outputs": [
    {
     "data": {
      "text/plain": [
       "2"
      ]
     },
     "execution_count": 138,
     "metadata": {},
     "output_type": "execute_result"
    }
   ],
   "source": [
    "a.count(0)"
   ]
  },
  {
   "cell_type": "code",
   "execution_count": 139,
   "id": "91ccabd1",
   "metadata": {},
   "outputs": [
    {
     "data": {
      "text/plain": [
       "[0, 0, 1, 'ABC', 2, 3, 4, 5, 6, 7, 8, 'N', 9, 'z', 'X']"
      ]
     },
     "execution_count": 139,
     "metadata": {},
     "output_type": "execute_result"
    }
   ],
   "source": [
    "a"
   ]
  },
  {
   "cell_type": "code",
   "execution_count": 140,
   "id": "500d7a3e",
   "metadata": {},
   "outputs": [],
   "source": [
    "a.extend(\"qwe\")"
   ]
  },
  {
   "cell_type": "code",
   "execution_count": 141,
   "id": "dfab3e1f",
   "metadata": {},
   "outputs": [
    {
     "data": {
      "text/plain": [
       "[0, 0, 1, 'ABC', 2, 3, 4, 5, 6, 7, 8, 'N', 9, 'z', 'X', 'q', 'w', 'e']"
      ]
     },
     "execution_count": 141,
     "metadata": {},
     "output_type": "execute_result"
    }
   ],
   "source": [
    "a"
   ]
  },
  {
   "cell_type": "code",
   "execution_count": 142,
   "id": "b4b60bfd",
   "metadata": {},
   "outputs": [],
   "source": [
    "a.append(\"poi\")"
   ]
  },
  {
   "cell_type": "code",
   "execution_count": 143,
   "id": "54ad0090",
   "metadata": {},
   "outputs": [
    {
     "data": {
      "text/plain": [
       "[0, 0, 1, 'ABC', 2, 3, 4, 5, 6, 7, 8, 'N', 9, 'z', 'X', 'q', 'w', 'e', 'poi']"
      ]
     },
     "execution_count": 143,
     "metadata": {},
     "output_type": "execute_result"
    }
   ],
   "source": [
    "a"
   ]
  },
  {
   "cell_type": "code",
   "execution_count": 144,
   "id": "5fb48543",
   "metadata": {},
   "outputs": [],
   "source": [
    "s = \"test\""
   ]
  },
  {
   "cell_type": "code",
   "execution_count": 145,
   "id": "74c399f2",
   "metadata": {},
   "outputs": [
    {
     "data": {
      "text/plain": [
       "'test'"
      ]
     },
     "execution_count": 145,
     "metadata": {},
     "output_type": "execute_result"
    }
   ],
   "source": [
    "s"
   ]
  },
  {
   "cell_type": "code",
   "execution_count": 148,
   "id": "68ed7b1a",
   "metadata": {},
   "outputs": [],
   "source": [
    "s = list(s)"
   ]
  },
  {
   "cell_type": "code",
   "execution_count": 149,
   "id": "0a7e7d04",
   "metadata": {},
   "outputs": [],
   "source": [
    "s.extend([1,2,3])"
   ]
  },
  {
   "cell_type": "code",
   "execution_count": 150,
   "id": "af99ec9f",
   "metadata": {},
   "outputs": [
    {
     "data": {
      "text/plain": [
       "['t', 'e', 's', 't', 1, 2, 3]"
      ]
     },
     "execution_count": 150,
     "metadata": {},
     "output_type": "execute_result"
    }
   ],
   "source": [
    "s"
   ]
  },
  {
   "cell_type": "code",
   "execution_count": 151,
   "id": "bcd11eb2",
   "metadata": {},
   "outputs": [
    {
     "data": {
      "text/plain": [
       "3"
      ]
     },
     "execution_count": 151,
     "metadata": {},
     "output_type": "execute_result"
    }
   ],
   "source": [
    "s.pop()"
   ]
  },
  {
   "cell_type": "code",
   "execution_count": 152,
   "id": "06542f32",
   "metadata": {},
   "outputs": [
    {
     "data": {
      "text/plain": [
       "['t', 'e', 's', 't', 1, 2]"
      ]
     },
     "execution_count": 152,
     "metadata": {},
     "output_type": "execute_result"
    }
   ],
   "source": [
    "s"
   ]
  },
  {
   "cell_type": "code",
   "execution_count": 153,
   "id": "8d1d7d4e",
   "metadata": {},
   "outputs": [
    {
     "data": {
      "text/plain": [
       "'e'"
      ]
     },
     "execution_count": 153,
     "metadata": {},
     "output_type": "execute_result"
    }
   ],
   "source": [
    "s.pop(1)"
   ]
  },
  {
   "cell_type": "code",
   "execution_count": 154,
   "id": "de117a5b",
   "metadata": {},
   "outputs": [
    {
     "data": {
      "text/plain": [
       "['t', 's', 't', 1, 2]"
      ]
     },
     "execution_count": 154,
     "metadata": {},
     "output_type": "execute_result"
    }
   ],
   "source": [
    "s"
   ]
  },
  {
   "cell_type": "code",
   "execution_count": 158,
   "id": "864c0e8a",
   "metadata": {},
   "outputs": [],
   "source": [
    "s.remove('t')"
   ]
  },
  {
   "cell_type": "code",
   "execution_count": 159,
   "id": "417f4061",
   "metadata": {},
   "outputs": [
    {
     "data": {
      "text/plain": [
       "['s', 't', 1, 2]"
      ]
     },
     "execution_count": 159,
     "metadata": {},
     "output_type": "execute_result"
    }
   ],
   "source": [
    "s"
   ]
  },
  {
   "cell_type": "code",
   "execution_count": 160,
   "id": "1401e235",
   "metadata": {},
   "outputs": [],
   "source": [
    "s.reverse()"
   ]
  },
  {
   "cell_type": "code",
   "execution_count": 161,
   "id": "f77b1609",
   "metadata": {},
   "outputs": [
    {
     "data": {
      "text/plain": [
       "[2, 1, 't', 's']"
      ]
     },
     "execution_count": 161,
     "metadata": {},
     "output_type": "execute_result"
    }
   ],
   "source": [
    "s"
   ]
  },
  {
   "cell_type": "code",
   "execution_count": 163,
   "id": "b5342519",
   "metadata": {},
   "outputs": [
    {
     "ename": "TypeError",
     "evalue": "'<' not supported between instances of 'str' and 'int'",
     "output_type": "error",
     "traceback": [
      "\u001b[1;31m---------------------------------------------------------------------------\u001b[0m",
      "\u001b[1;31mTypeError\u001b[0m                                 Traceback (most recent call last)",
      "Cell \u001b[1;32mIn [163], line 1\u001b[0m\n\u001b[1;32m----> 1\u001b[0m \u001b[43ms\u001b[49m\u001b[38;5;241;43m.\u001b[39;49m\u001b[43msort\u001b[49m\u001b[43m(\u001b[49m\u001b[43m)\u001b[49m\n",
      "\u001b[1;31mTypeError\u001b[0m: '<' not supported between instances of 'str' and 'int'"
     ]
    }
   ],
   "source": [
    "s.sort()"
   ]
  },
  {
   "cell_type": "code",
   "execution_count": 165,
   "id": "262d4822",
   "metadata": {},
   "outputs": [],
   "source": [
    "l = [11,2,33,4,5]"
   ]
  },
  {
   "cell_type": "code",
   "execution_count": 166,
   "id": "0817ad27",
   "metadata": {},
   "outputs": [],
   "source": [
    "l.sort()"
   ]
  },
  {
   "cell_type": "code",
   "execution_count": 167,
   "id": "b6345e47",
   "metadata": {},
   "outputs": [
    {
     "data": {
      "text/plain": [
       "[2, 4, 5, 11, 33]"
      ]
     },
     "execution_count": 167,
     "metadata": {},
     "output_type": "execute_result"
    }
   ],
   "source": [
    "l"
   ]
  },
  {
   "cell_type": "code",
   "execution_count": null,
   "id": "e9c24657",
   "metadata": {},
   "outputs": [],
   "source": []
  }
 ],
 "metadata": {
  "kernelspec": {
   "display_name": "Python 3 (ipykernel)",
   "language": "python",
   "name": "python3"
  },
  "language_info": {
   "codemirror_mode": {
    "name": "ipython",
    "version": 3
   },
   "file_extension": ".py",
   "mimetype": "text/x-python",
   "name": "python",
   "nbconvert_exporter": "python",
   "pygments_lexer": "ipython3",
   "version": "3.9.13"
  }
 },
 "nbformat": 4,
 "nbformat_minor": 5
}
