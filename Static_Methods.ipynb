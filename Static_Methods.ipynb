{
 "cells": [
  {
   "cell_type": "code",
   "execution_count": null,
   "id": "363a7f04",
   "metadata": {},
   "outputs": [],
   "source": []
  },
  {
   "cell_type": "markdown",
   "id": "7b11bfc3",
   "metadata": {},
   "source": [
    "# Static Method:\n",
    "static method is the first thing that gets initialized as soon as the class gets loaded.\n",
    "\n",
    "it gets ititialized only once . \n",
    "Multiple instances of static method can not be created.\n"
   ]
  },
  {
   "cell_type": "code",
   "execution_count": 2,
   "id": "fa53462f",
   "metadata": {},
   "outputs": [],
   "source": [
    "import datetime\n",
    "\n",
    "now = datetime.datetime.now()"
   ]
  },
  {
   "cell_type": "code",
   "execution_count": 4,
   "id": "53b4489b",
   "metadata": {},
   "outputs": [
    {
     "data": {
      "text/plain": [
       "datetime.datetime(2023, 10, 16, 21, 28, 0, 721565)"
      ]
     },
     "execution_count": 4,
     "metadata": {},
     "output_type": "execute_result"
    }
   ],
   "source": [
    "now"
   ]
  },
  {
   "cell_type": "code",
   "execution_count": 5,
   "id": "74e2fabc",
   "metadata": {},
   "outputs": [
    {
     "data": {
      "text/plain": [
       "2023"
      ]
     },
     "execution_count": 5,
     "metadata": {},
     "output_type": "execute_result"
    }
   ],
   "source": [
    "now.year"
   ]
  },
  {
   "cell_type": "code",
   "execution_count": 6,
   "id": "60bb1dcd",
   "metadata": {},
   "outputs": [
    {
     "data": {
      "text/plain": [
       "int"
      ]
     },
     "execution_count": 6,
     "metadata": {},
     "output_type": "execute_result"
    }
   ],
   "source": [
    "type(now.year)"
   ]
  },
  {
   "cell_type": "code",
   "execution_count": 12,
   "id": "8f877158",
   "metadata": {},
   "outputs": [],
   "source": [
    "class Car:\n",
    "    base_price = 100000 ## class variables\n",
    "    # constructor\n",
    "    def __init__(self, windows, doors):\n",
    "        self.windows = windows #Instance variables\n",
    "        self.doors = doors\n",
    "        \n",
    "    def base_price_q(self):\n",
    "        print(\" the base price is {}\".format(self.base_price))\n",
    "        \n",
    "\n",
    "        \n",
    "    # ClassMethod\n",
    "    @classmethod\n",
    "    def revise_base_price(cls, inflation):\n",
    "        cls.base_price = cls.base_price + (cls.base_price*inflation)\n",
    "        \n",
    "        \n",
    "    @staticmethod\n",
    "    def check_year():\n",
    "        if now.year == 2021:\n",
    "            return True\n",
    "        \n",
    "        else:\n",
    "            return False"
   ]
  },
  {
   "cell_type": "code",
   "execution_count": 13,
   "id": "02304664",
   "metadata": {},
   "outputs": [
    {
     "data": {
      "text/plain": [
       "False"
      ]
     },
     "execution_count": 13,
     "metadata": {},
     "output_type": "execute_result"
    }
   ],
   "source": [
    "Car.check_year()"
   ]
  },
  {
   "cell_type": "code",
   "execution_count": 14,
   "id": "133ebd4b",
   "metadata": {},
   "outputs": [],
   "source": [
    "car1 = Car(4,5)"
   ]
  },
  {
   "cell_type": "code",
   "execution_count": 16,
   "id": "c2394393",
   "metadata": {},
   "outputs": [],
   "source": [
    "\n",
    "if (car1.check_year()):\n",
    "    pass\n",
    "else:\n",
    "    Car.revise_base_price(.10)\n",
    "    "
   ]
  },
  {
   "cell_type": "code",
   "execution_count": 17,
   "id": "5baccf2f",
   "metadata": {},
   "outputs": [
    {
     "data": {
      "text/plain": [
       "110000.0"
      ]
     },
     "execution_count": 17,
     "metadata": {},
     "output_type": "execute_result"
    }
   ],
   "source": [
    "car1.base_price\n"
   ]
  },
  {
   "cell_type": "code",
   "execution_count": null,
   "id": "c3584ac7",
   "metadata": {},
   "outputs": [],
   "source": [
    "\n"
   ]
  }
 ],
 "metadata": {
  "kernelspec": {
   "display_name": "Python 3 (ipykernel)",
   "language": "python",
   "name": "python3"
  },
  "language_info": {
   "codemirror_mode": {
    "name": "ipython",
    "version": 3
   },
   "file_extension": ".py",
   "mimetype": "text/x-python",
   "name": "python",
   "nbconvert_exporter": "python",
   "pygments_lexer": "ipython3",
   "version": "3.9.13"
  }
 },
 "nbformat": 4,
 "nbformat_minor": 5
}
