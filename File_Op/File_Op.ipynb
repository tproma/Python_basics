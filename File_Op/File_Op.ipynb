{
 "cells": [
  {
   "cell_type": "code",
   "execution_count": 1,
   "id": "24c661b9",
   "metadata": {},
   "outputs": [
    {
     "ename": "FileNotFoundError",
     "evalue": "[Errno 2] No such file or directory: 'test.txt'",
     "output_type": "error",
     "traceback": [
      "\u001b[1;31m---------------------------------------------------------------------------\u001b[0m",
      "\u001b[1;31mFileNotFoundError\u001b[0m                         Traceback (most recent call last)",
      "Cell \u001b[1;32mIn [1], line 1\u001b[0m\n\u001b[1;32m----> 1\u001b[0m f \u001b[38;5;241m=\u001b[39m \u001b[38;5;28;43mopen\u001b[39;49m\u001b[43m(\u001b[49m\u001b[38;5;124;43m\"\u001b[39;49m\u001b[38;5;124;43mtest.txt\u001b[39;49m\u001b[38;5;124;43m\"\u001b[39;49m\u001b[43m)\u001b[49m\n",
      "\u001b[1;31mFileNotFoundError\u001b[0m: [Errno 2] No such file or directory: 'test.txt'"
     ]
    }
   ],
   "source": [
    "f = open(\"test.txt\")"
   ]
  },
  {
   "cell_type": "code",
   "execution_count": 2,
   "id": "5a5052d9",
   "metadata": {},
   "outputs": [],
   "source": [
    "f = open(\"test.txt\", 'w')"
   ]
  },
  {
   "cell_type": "code",
   "execution_count": 3,
   "id": "74cd7cfb",
   "metadata": {},
   "outputs": [
    {
     "data": {
      "text/plain": [
       "38"
      ]
     },
     "execution_count": 3,
     "metadata": {},
     "output_type": "execute_result"
    }
   ],
   "source": [
    "f.write(\"This is a test text for file operation\")"
   ]
  },
  {
   "cell_type": "code",
   "execution_count": 8,
   "id": "ab91ab9e",
   "metadata": {},
   "outputs": [],
   "source": [
    "f.close()"
   ]
  },
  {
   "cell_type": "code",
   "execution_count": 9,
   "id": "4b1eaa8d",
   "metadata": {},
   "outputs": [],
   "source": [
    "f = open(\"test.txt\")"
   ]
  },
  {
   "cell_type": "code",
   "execution_count": 10,
   "id": "97085f83",
   "metadata": {},
   "outputs": [
    {
     "data": {
      "text/plain": [
       "'This is a test text for file operation. \\nbla\\nbla'"
      ]
     },
     "execution_count": 10,
     "metadata": {},
     "output_type": "execute_result"
    }
   ],
   "source": [
    "f.read()"
   ]
  },
  {
   "cell_type": "code",
   "execution_count": 11,
   "id": "1dfdaaf1",
   "metadata": {},
   "outputs": [
    {
     "data": {
      "text/plain": [
       "''"
      ]
     },
     "execution_count": 11,
     "metadata": {},
     "output_type": "execute_result"
    }
   ],
   "source": [
    "f.read()"
   ]
  },
  {
   "cell_type": "markdown",
   "id": "6881d438",
   "metadata": {},
   "source": [
    "seek funct gives you the position from where you wanna put your cursor"
   ]
  },
  {
   "cell_type": "code",
   "execution_count": 12,
   "id": "4b51b363",
   "metadata": {},
   "outputs": [
    {
     "data": {
      "text/plain": [
       "2"
      ]
     },
     "execution_count": 12,
     "metadata": {},
     "output_type": "execute_result"
    }
   ],
   "source": [
    "f.seek(2)"
   ]
  },
  {
   "cell_type": "code",
   "execution_count": 13,
   "id": "0e43c670",
   "metadata": {},
   "outputs": [
    {
     "data": {
      "text/plain": [
       "'is is a test text for file operation. \\nbla\\nbla'"
      ]
     },
     "execution_count": 13,
     "metadata": {},
     "output_type": "execute_result"
    }
   ],
   "source": [
    "f.read()"
   ]
  },
  {
   "cell_type": "code",
   "execution_count": 14,
   "id": "744cf4be",
   "metadata": {},
   "outputs": [
    {
     "data": {
      "text/plain": [
       "''"
      ]
     },
     "execution_count": 14,
     "metadata": {},
     "output_type": "execute_result"
    }
   ],
   "source": [
    "f.read()"
   ]
  },
  {
   "cell_type": "code",
   "execution_count": 15,
   "id": "9b252fab",
   "metadata": {},
   "outputs": [],
   "source": [
    "f = open(\"test.txt\",'r')"
   ]
  },
  {
   "cell_type": "code",
   "execution_count": 16,
   "id": "f3361fe9",
   "metadata": {},
   "outputs": [
    {
     "ename": "UnsupportedOperation",
     "evalue": "not writable",
     "output_type": "error",
     "traceback": [
      "\u001b[1;31m---------------------------------------------------------------------------\u001b[0m",
      "\u001b[1;31mUnsupportedOperation\u001b[0m                      Traceback (most recent call last)",
      "Cell \u001b[1;32mIn [16], line 1\u001b[0m\n\u001b[1;32m----> 1\u001b[0m \u001b[43mf\u001b[49m\u001b[38;5;241;43m.\u001b[39;49m\u001b[43mwrite\u001b[49m\u001b[43m(\u001b[49m\u001b[38;5;124;43m\"\u001b[39;49m\u001b[38;5;124;43mksjdf\u001b[39;49m\u001b[38;5;124;43m\"\u001b[39;49m\u001b[43m)\u001b[49m\n",
      "\u001b[1;31mUnsupportedOperation\u001b[0m: not writable"
     ]
    }
   ],
   "source": [
    "f.write(\"ksjdf\")"
   ]
  },
  {
   "cell_type": "code",
   "execution_count": 17,
   "id": "08feedd6",
   "metadata": {},
   "outputs": [
    {
     "data": {
      "text/plain": [
       "'This is a test text for file operation. \\nbla\\nbla'"
      ]
     },
     "execution_count": 17,
     "metadata": {},
     "output_type": "execute_result"
    }
   ],
   "source": [
    "f.read()"
   ]
  },
  {
   "cell_type": "code",
   "execution_count": 18,
   "id": "60c247b1",
   "metadata": {},
   "outputs": [
    {
     "data": {
      "text/plain": [
       "''"
      ]
     },
     "execution_count": 18,
     "metadata": {},
     "output_type": "execute_result"
    }
   ],
   "source": [
    "f.read()"
   ]
  },
  {
   "cell_type": "code",
   "execution_count": 19,
   "id": "628152ec",
   "metadata": {},
   "outputs": [
    {
     "data": {
      "text/plain": [
       "2"
      ]
     },
     "execution_count": 19,
     "metadata": {},
     "output_type": "execute_result"
    }
   ],
   "source": [
    "f.seek(2)"
   ]
  },
  {
   "cell_type": "code",
   "execution_count": 20,
   "id": "a7fe149b",
   "metadata": {},
   "outputs": [
    {
     "data": {
      "text/plain": [
       "'is is a test text fo'"
      ]
     },
     "execution_count": 20,
     "metadata": {},
     "output_type": "execute_result"
    }
   ],
   "source": [
    "f.read(20)"
   ]
  },
  {
   "cell_type": "markdown",
   "id": "67ceca6d",
   "metadata": {},
   "source": [
    "argument for how many characters you want to read"
   ]
  },
  {
   "cell_type": "code",
   "execution_count": 21,
   "id": "81cede59",
   "metadata": {},
   "outputs": [],
   "source": [
    "f.close()"
   ]
  },
  {
   "cell_type": "code",
   "execution_count": 22,
   "id": "4c23373b",
   "metadata": {},
   "outputs": [
    {
     "ename": "ValueError",
     "evalue": "I/O operation on closed file.",
     "output_type": "error",
     "traceback": [
      "\u001b[1;31m---------------------------------------------------------------------------\u001b[0m",
      "\u001b[1;31mValueError\u001b[0m                                Traceback (most recent call last)",
      "Cell \u001b[1;32mIn [22], line 1\u001b[0m\n\u001b[1;32m----> 1\u001b[0m \u001b[43mf\u001b[49m\u001b[38;5;241;43m.\u001b[39;49m\u001b[43mread\u001b[49m\u001b[43m(\u001b[49m\u001b[43m)\u001b[49m\n",
      "\u001b[1;31mValueError\u001b[0m: I/O operation on closed file."
     ]
    }
   ],
   "source": [
    "f.read()"
   ]
  },
  {
   "cell_type": "code",
   "execution_count": 59,
   "id": "7e49719f",
   "metadata": {},
   "outputs": [],
   "source": [
    "f = open(\"test.txt\",'w')"
   ]
  },
  {
   "cell_type": "code",
   "execution_count": 60,
   "id": "defd3e32",
   "metadata": {},
   "outputs": [
    {
     "data": {
      "text/plain": [
       "43"
      ]
     },
     "execution_count": 60,
     "metadata": {},
     "output_type": "execute_result"
    }
   ],
   "source": [
    "f.write(\"sdkjjhafhsdf sdjgfjhafds sjdgfjhgdf aksgdf \")"
   ]
  },
  {
   "cell_type": "code",
   "execution_count": 61,
   "id": "3b56d5bf",
   "metadata": {},
   "outputs": [],
   "source": [
    "f.close()"
   ]
  },
  {
   "cell_type": "code",
   "execution_count": 62,
   "id": "9d0e0bef",
   "metadata": {},
   "outputs": [],
   "source": [
    "f = open(\"test.txt\",'a')"
   ]
  },
  {
   "cell_type": "code",
   "execution_count": 64,
   "id": "b5933b66",
   "metadata": {},
   "outputs": [
    {
     "data": {
      "text/plain": [
       "23"
      ]
     },
     "execution_count": 64,
     "metadata": {},
     "output_type": "execute_result"
    }
   ],
   "source": [
    "f.write(\"11111111111111111111111\")"
   ]
  },
  {
   "cell_type": "code",
   "execution_count": 65,
   "id": "76109b33",
   "metadata": {},
   "outputs": [],
   "source": [
    "f.close()"
   ]
  },
  {
   "cell_type": "code",
   "execution_count": 66,
   "id": "a66aab55",
   "metadata": {},
   "outputs": [],
   "source": [
    "f = open(\"test_1.txt\",'wb')"
   ]
  },
  {
   "cell_type": "code",
   "execution_count": 67,
   "id": "b046991b",
   "metadata": {},
   "outputs": [
    {
     "ename": "TypeError",
     "evalue": "a bytes-like object is required, not 'str'",
     "output_type": "error",
     "traceback": [
      "\u001b[1;31m---------------------------------------------------------------------------\u001b[0m",
      "\u001b[1;31mTypeError\u001b[0m                                 Traceback (most recent call last)",
      "Cell \u001b[1;32mIn [67], line 1\u001b[0m\n\u001b[1;32m----> 1\u001b[0m \u001b[43mf\u001b[49m\u001b[38;5;241;43m.\u001b[39;49m\u001b[43mwrite\u001b[49m\u001b[43m(\u001b[49m\u001b[38;5;124;43m\"\u001b[39;49m\u001b[38;5;124;43mlsdhf\u001b[39;49m\u001b[38;5;124;43m\"\u001b[39;49m\u001b[43m)\u001b[49m\n",
      "\u001b[1;31mTypeError\u001b[0m: a bytes-like object is required, not 'str'"
     ]
    }
   ],
   "source": [
    "f.write(\"lsdhf\")"
   ]
  },
  {
   "cell_type": "code",
   "execution_count": 68,
   "id": "8bb1de5a",
   "metadata": {},
   "outputs": [
    {
     "data": {
      "text/plain": [
       "5"
      ]
     },
     "execution_count": 68,
     "metadata": {},
     "output_type": "execute_result"
    }
   ],
   "source": [
    "f.write(b\"lsdhf\")"
   ]
  },
  {
   "cell_type": "code",
   "execution_count": 69,
   "id": "816349ff",
   "metadata": {},
   "outputs": [],
   "source": [
    "f.close()"
   ]
  },
  {
   "cell_type": "code",
   "execution_count": 70,
   "id": "b3f33f8e",
   "metadata": {},
   "outputs": [],
   "source": [
    "f = open(\"test_1.txt\",'rb')"
   ]
  },
  {
   "cell_type": "code",
   "execution_count": 71,
   "id": "83abb874",
   "metadata": {},
   "outputs": [
    {
     "data": {
      "text/plain": [
       "b'lsdhf'"
      ]
     },
     "execution_count": 71,
     "metadata": {},
     "output_type": "execute_result"
    }
   ],
   "source": [
    "f.read()"
   ]
  },
  {
   "cell_type": "code",
   "execution_count": 72,
   "id": "19c0fdf4",
   "metadata": {},
   "outputs": [
    {
     "data": {
      "text/plain": [
       "2"
      ]
     },
     "execution_count": 72,
     "metadata": {},
     "output_type": "execute_result"
    }
   ],
   "source": [
    "f.seek(2)"
   ]
  },
  {
   "cell_type": "code",
   "execution_count": 73,
   "id": "2a52de7c",
   "metadata": {},
   "outputs": [
    {
     "data": {
      "text/plain": [
       "b'd'"
      ]
     },
     "execution_count": 73,
     "metadata": {},
     "output_type": "execute_result"
    }
   ],
   "source": [
    "f.read(1)"
   ]
  },
  {
   "cell_type": "code",
   "execution_count": 74,
   "id": "aefd2f05",
   "metadata": {},
   "outputs": [
    {
     "data": {
      "text/plain": [
       "2"
      ]
     },
     "execution_count": 74,
     "metadata": {},
     "output_type": "execute_result"
    }
   ],
   "source": [
    "f.seek(-3,2)"
   ]
  },
  {
   "cell_type": "code",
   "execution_count": 75,
   "id": "2b735122",
   "metadata": {},
   "outputs": [
    {
     "data": {
      "text/plain": [
       "b'dhf'"
      ]
     },
     "execution_count": 75,
     "metadata": {},
     "output_type": "execute_result"
    }
   ],
   "source": [
    "f.read()"
   ]
  },
  {
   "cell_type": "code",
   "execution_count": 77,
   "id": "8fd69ae0",
   "metadata": {},
   "outputs": [],
   "source": [
    "f = open(\"test2.txt\", \"w\")"
   ]
  },
  {
   "cell_type": "code",
   "execution_count": 78,
   "id": "d0bd38aa",
   "metadata": {},
   "outputs": [
    {
     "data": {
      "text/plain": [
       "58"
      ]
     },
     "execution_count": 78,
     "metadata": {},
     "output_type": "execute_result"
    }
   ],
   "source": [
    "f.write(\"asufgsgdfhdufh uaGSDEUEOTYIERUGR EW DUSGUFDSGFJG sdgfjydrg\")"
   ]
  },
  {
   "cell_type": "code",
   "execution_count": 79,
   "id": "a8203188",
   "metadata": {},
   "outputs": [],
   "source": [
    "f.close()\n"
   ]
  },
  {
   "cell_type": "code",
   "execution_count": 81,
   "id": "20bb9f14",
   "metadata": {},
   "outputs": [],
   "source": [
    "f = open(\"test2.txt\", \"r\")"
   ]
  },
  {
   "cell_type": "code",
   "execution_count": 82,
   "id": "06aed06b",
   "metadata": {},
   "outputs": [
    {
     "data": {
      "text/plain": [
       "'asufgsgdfhdufh uaGSDEUEOTYIERUGR EW DUSGUFDSGFJG sdgfjydrg'"
      ]
     },
     "execution_count": 82,
     "metadata": {},
     "output_type": "execute_result"
    }
   ],
   "source": [
    "f.read()"
   ]
  },
  {
   "cell_type": "code",
   "execution_count": 84,
   "id": "411842cb",
   "metadata": {},
   "outputs": [
    {
     "data": {
      "text/plain": [
       "'\\n1\\n2\\n3\\n4\\n5\\n'"
      ]
     },
     "execution_count": 84,
     "metadata": {},
     "output_type": "execute_result"
    }
   ],
   "source": [
    "f.read()"
   ]
  },
  {
   "cell_type": "code",
   "execution_count": 85,
   "id": "2fa2d023",
   "metadata": {},
   "outputs": [
    {
     "data": {
      "text/plain": [
       "0"
      ]
     },
     "execution_count": 85,
     "metadata": {},
     "output_type": "execute_result"
    }
   ],
   "source": [
    "f.seek(0)"
   ]
  },
  {
   "cell_type": "code",
   "execution_count": 86,
   "id": "0ef41230",
   "metadata": {},
   "outputs": [
    {
     "data": {
      "text/plain": [
       "'asufgsgdfhdufh uaGSDEUEOTYIERUGR EW DUSGUFDSGFJG sdgfjydrg\\n'"
      ]
     },
     "execution_count": 86,
     "metadata": {},
     "output_type": "execute_result"
    }
   ],
   "source": [
    "f.readline()"
   ]
  },
  {
   "cell_type": "code",
   "execution_count": 87,
   "id": "f61285bb",
   "metadata": {},
   "outputs": [
    {
     "data": {
      "text/plain": [
       "'1\\n'"
      ]
     },
     "execution_count": 87,
     "metadata": {},
     "output_type": "execute_result"
    }
   ],
   "source": [
    "f.readline()"
   ]
  },
  {
   "cell_type": "code",
   "execution_count": 88,
   "id": "e30f6743",
   "metadata": {},
   "outputs": [],
   "source": [
    "f.close()"
   ]
  },
  {
   "cell_type": "code",
   "execution_count": 89,
   "id": "894bc4fe",
   "metadata": {},
   "outputs": [],
   "source": [
    "f = open(\"test2.txt\", \"r\")"
   ]
  },
  {
   "cell_type": "code",
   "execution_count": 90,
   "id": "9e9d22c2",
   "metadata": {},
   "outputs": [
    {
     "name": "stdout",
     "output_type": "stream",
     "text": [
      "asufgsgdfhdufh uaGSDEUEOTYIERUGR EW DUSGUFDSGFJG sdgfjydrg\n",
      "\n",
      "1\n",
      "\n",
      "2\n",
      "\n",
      "3\n",
      "\n",
      "4\n",
      "\n",
      "5\n",
      "\n"
     ]
    }
   ],
   "source": [
    "for i in f:\n",
    "    print (i)"
   ]
  },
  {
   "cell_type": "code",
   "execution_count": 101,
   "id": "f6ac038e",
   "metadata": {},
   "outputs": [],
   "source": [
    " f.close()"
   ]
  },
  {
   "cell_type": "code",
   "execution_count": 108,
   "id": "69d8a27a",
   "metadata": {},
   "outputs": [],
   "source": [
    "f = open(\"test2.txt\", \"r+\")"
   ]
  },
  {
   "cell_type": "code",
   "execution_count": 109,
   "id": "07f7d208",
   "metadata": {},
   "outputs": [],
   "source": [
    "f.writelines(\"2 4 6\")"
   ]
  },
  {
   "cell_type": "code",
   "execution_count": 110,
   "id": "7f47f012",
   "metadata": {},
   "outputs": [
    {
     "data": {
      "text/plain": [
       "4"
      ]
     },
     "execution_count": 110,
     "metadata": {},
     "output_type": "execute_result"
    }
   ],
   "source": [
    "f.seek(4)"
   ]
  },
  {
   "cell_type": "code",
   "execution_count": 111,
   "id": "0339f16b",
   "metadata": {},
   "outputs": [
    {
     "data": {
      "text/plain": [
       "'6h sdjhffh uaGSDEUEOTYIERUGR EW DUSGUFDSGFJG sdgfjydrg\\n1\\n2\\n3\\n4\\n5\\n'"
      ]
     },
     "execution_count": 111,
     "metadata": {},
     "output_type": "execute_result"
    }
   ],
   "source": [
    "f.read()"
   ]
  },
  {
   "cell_type": "code",
   "execution_count": 112,
   "id": "38ac6132",
   "metadata": {},
   "outputs": [
    {
     "name": "stdout",
     "output_type": "stream",
     "text": [
      "Writing test3.txt\n"
     ]
    }
   ],
   "source": [
    "%%writefile test3.txt\n",
    "samarah Siddiqui"
   ]
  },
  {
   "cell_type": "markdown",
   "id": "af89ccb8",
   "metadata": {},
   "source": [
    "## OS"
   ]
  },
  {
   "cell_type": "code",
   "execution_count": 113,
   "id": "0b82dc71",
   "metadata": {},
   "outputs": [],
   "source": [
    "import os"
   ]
  },
  {
   "cell_type": "code",
   "execution_count": 114,
   "id": "9d0b6bb7",
   "metadata": {},
   "outputs": [
    {
     "data": {
      "text/plain": [
       "'D:\\\\A_Category\\\\iNeuron\\\\Basic_Python_coding\\\\File_Op'"
      ]
     },
     "execution_count": 114,
     "metadata": {},
     "output_type": "execute_result"
    }
   ],
   "source": [
    "pwd()"
   ]
  },
  {
   "cell_type": "code",
   "execution_count": 115,
   "id": "b9f0d34e",
   "metadata": {},
   "outputs": [
    {
     "data": {
      "text/plain": [
       "'D:\\\\A_Category\\\\iNeuron\\\\Basic_Python_coding\\\\File_Op'"
      ]
     },
     "execution_count": 115,
     "metadata": {},
     "output_type": "execute_result"
    }
   ],
   "source": [
    "os.getcwd()"
   ]
  },
  {
   "cell_type": "code",
   "execution_count": 116,
   "id": "29cf54fb",
   "metadata": {},
   "outputs": [
    {
     "data": {
      "text/plain": [
       "['.ipynb_checkpoints',\n",
       " 'File_Op.ipynb',\n",
       " 'test.txt',\n",
       " 'test2.txt',\n",
       " 'test3.txt',\n",
       " 'test_1.txt']"
      ]
     },
     "execution_count": 116,
     "metadata": {},
     "output_type": "execute_result"
    }
   ],
   "source": [
    "os.listdir()"
   ]
  },
  {
   "cell_type": "code",
   "execution_count": 117,
   "id": "c4108375",
   "metadata": {},
   "outputs": [
    {
     "data": {
      "text/plain": [
       "['.ipynb_checkpoints',\n",
       " 'Class_Object.ipynb',\n",
       " 'dictionary_tuple_set.ipynb',\n",
       " 'file_1',\n",
       " 'File_Op',\n",
       " 'Function_1st_class.ipynb',\n",
       " 'Function_2nd_class.ipynb',\n",
       " 'List Manipulation.ipynb',\n",
       " 'Loops.ipynb',\n",
       " 'String_List_Manipulation.ipynb',\n",
       " 'Untitled.ipynb']"
      ]
     },
     "execution_count": 117,
     "metadata": {},
     "output_type": "execute_result"
    }
   ],
   "source": [
    "os.listdir(\"D:\\\\A_Category\\\\iNeuron\\\\Basic_Python_coding\")"
   ]
  },
  {
   "cell_type": "markdown",
   "id": "8fbcf116",
   "metadata": {},
   "source": [
    "### Windows\n",
    "either \\\\ or single /"
   ]
  },
  {
   "cell_type": "code",
   "execution_count": 118,
   "id": "04647e58",
   "metadata": {},
   "outputs": [
    {
     "data": {
      "text/plain": [
       "'D:\\\\A_Category\\\\iNeuron\\\\Basic_Python_coding\\\\File_Op'"
      ]
     },
     "execution_count": 118,
     "metadata": {},
     "output_type": "execute_result"
    }
   ],
   "source": [
    "pwd()"
   ]
  },
  {
   "cell_type": "code",
   "execution_count": 119,
   "id": "38b99818",
   "metadata": {},
   "outputs": [
    {
     "data": {
      "text/plain": [
       "'D:\\\\A_Category\\\\iNeuron\\\\Basic_Python_coding\\\\File_Op'"
      ]
     },
     "execution_count": 119,
     "metadata": {},
     "output_type": "execute_result"
    }
   ],
   "source": [
    "os.getcwd()"
   ]
  },
  {
   "cell_type": "code",
   "execution_count": 120,
   "id": "d4c930c8",
   "metadata": {},
   "outputs": [],
   "source": [
    "os.chdir(\"D:\\\\A_Category\\\\iNeuron\\\\Basic_Python_coding\")"
   ]
  },
  {
   "cell_type": "code",
   "execution_count": 121,
   "id": "7d48d2df",
   "metadata": {},
   "outputs": [
    {
     "data": {
      "text/plain": [
       "'D:\\\\A_Category\\\\iNeuron\\\\Basic_Python_coding'"
      ]
     },
     "execution_count": 121,
     "metadata": {},
     "output_type": "execute_result"
    }
   ],
   "source": [
    "pwd()"
   ]
  },
  {
   "cell_type": "code",
   "execution_count": 122,
   "id": "e1e8b4d9",
   "metadata": {},
   "outputs": [],
   "source": [
    "os.chdir(\"D:\\\\A_Category\\\\iNeuron\\\\Basic_Python_coding\\\\File_Op\")"
   ]
  },
  {
   "cell_type": "code",
   "execution_count": 123,
   "id": "fb48dfed",
   "metadata": {},
   "outputs": [
    {
     "data": {
      "text/plain": [
       "'D:\\\\A_Category\\\\iNeuron\\\\Basic_Python_coding\\\\File_Op'"
      ]
     },
     "execution_count": 123,
     "metadata": {},
     "output_type": "execute_result"
    }
   ],
   "source": [
    "pwd()"
   ]
  },
  {
   "cell_type": "code",
   "execution_count": 124,
   "id": "62dcdeb5",
   "metadata": {},
   "outputs": [],
   "source": [
    "os.mkdir(\"os_op\")"
   ]
  },
  {
   "cell_type": "code",
   "execution_count": 131,
   "id": "0003210e",
   "metadata": {},
   "outputs": [
    {
     "name": "stdout",
     "output_type": "stream",
     "text": [
      " My file is available in this dir\n",
      "sdkjjhafhsdf sdjgfjhafds sjdgfjhgdf aksgdf 1111111111111111111111111111111111111111111111\n"
     ]
    }
   ],
   "source": [
    "if \"test.txt\" in os.listdir():\n",
    "    print(\" My file is available in this dir\")\n",
    "    f = open(\"test.txt\", \"r+\")\n",
    "    for i in f:\n",
    "        print(i)\n",
    "else:\n",
    "    print(\"file is not available\")"
   ]
  },
  {
   "cell_type": "code",
   "execution_count": 132,
   "id": "8886b8a3",
   "metadata": {},
   "outputs": [
    {
     "data": {
      "text/plain": [
       "'D:\\\\A_Category\\\\iNeuron\\\\Basic_Python_coding\\\\File_Op'"
      ]
     },
     "execution_count": 132,
     "metadata": {},
     "output_type": "execute_result"
    }
   ],
   "source": [
    "pwd()"
   ]
  },
  {
   "cell_type": "code",
   "execution_count": 133,
   "id": "fc4d1745",
   "metadata": {},
   "outputs": [],
   "source": [
    "os.chdir(\"../\")"
   ]
  },
  {
   "cell_type": "code",
   "execution_count": 134,
   "id": "e0bfe5c2",
   "metadata": {},
   "outputs": [
    {
     "data": {
      "text/plain": [
       "'D:\\\\A_Category\\\\iNeuron\\\\Basic_Python_coding'"
      ]
     },
     "execution_count": 134,
     "metadata": {},
     "output_type": "execute_result"
    }
   ],
   "source": [
    "pwd()"
   ]
  },
  {
   "cell_type": "code",
   "execution_count": 136,
   "id": "adaea991",
   "metadata": {},
   "outputs": [],
   "source": [
    "os.chdir('D:\\\\A_Category\\\\iNeuron\\\\Basic_Python_coding\\\\File_Op')"
   ]
  },
  {
   "cell_type": "code",
   "execution_count": 137,
   "id": "0c3e8bbe",
   "metadata": {},
   "outputs": [
    {
     "data": {
      "text/plain": [
       "'D:\\\\A_Category\\\\iNeuron\\\\Basic_Python_coding\\\\File_Op'"
      ]
     },
     "execution_count": 137,
     "metadata": {},
     "output_type": "execute_result"
    }
   ],
   "source": [
    "os.getcwd()"
   ]
  },
  {
   "cell_type": "code",
   "execution_count": 138,
   "id": "bc024fa8",
   "metadata": {},
   "outputs": [
    {
     "name": "stdout",
     "output_type": "stream",
     "text": [
      " File Available.\n",
      "2 4 6h sdjhffh uaGSDEUEOTYIERUGR EW DUSGUFDSGFJG sdgfjydrg\n",
      "\n",
      "1\n",
      "\n",
      "2\n",
      "\n",
      "3\n",
      "\n",
      "4\n",
      "\n",
      "5\n",
      "\n"
     ]
    }
   ],
   "source": [
    "if \"test2.txt\" in os.listdir():\n",
    "    print(\" File Available.\")\n",
    "    f = open(\"test2.txt\", \"r+\")\n",
    "    for i in f:\n",
    "        print(i)\n",
    "        \n",
    "else:\n",
    "    print(\"Not Available\")"
   ]
  },
  {
   "cell_type": "code",
   "execution_count": 146,
   "id": "ba0f542d",
   "metadata": {},
   "outputs": [],
   "source": [
    "os.mkdir(\"os_op\")"
   ]
  },
  {
   "cell_type": "code",
   "execution_count": 147,
   "id": "c1567a78",
   "metadata": {},
   "outputs": [
    {
     "name": "stdout",
     "output_type": "stream",
     "text": [
      "Dir already exists\n"
     ]
    }
   ],
   "source": [
    "if not os.path.isdir(\"os_op\"):\n",
    "    os.mkdir(\"os_op\")\n",
    "    print(\"Dir added\")\n",
    "    \n",
    "else:\n",
    "    print(\"Dir already exists\")\n",
    "    "
   ]
  },
  {
   "cell_type": "code",
   "execution_count": 148,
   "id": "fa32ceb6",
   "metadata": {},
   "outputs": [
    {
     "data": {
      "text/plain": [
       "'D:\\\\A_Category\\\\iNeuron\\\\Basic_Python_coding\\\\File_Op'"
      ]
     },
     "execution_count": 148,
     "metadata": {},
     "output_type": "execute_result"
    }
   ],
   "source": [
    "pwd()"
   ]
  },
  {
   "cell_type": "code",
   "execution_count": 149,
   "id": "29a7541d",
   "metadata": {},
   "outputs": [
    {
     "data": {
      "text/plain": [
       "['.ipynb_checkpoints',\n",
       " 'File_Op.ipynb',\n",
       " 'os_op',\n",
       " 'test.txt',\n",
       " 'test2.txt',\n",
       " 'test3.txt',\n",
       " 'test_1.txt']"
      ]
     },
     "execution_count": 149,
     "metadata": {},
     "output_type": "execute_result"
    }
   ],
   "source": [
    "os.listdir()"
   ]
  },
  {
   "cell_type": "code",
   "execution_count": 150,
   "id": "de056e26",
   "metadata": {},
   "outputs": [],
   "source": [
    "os.rmdir(\"os_op\")"
   ]
  },
  {
   "cell_type": "code",
   "execution_count": 151,
   "id": "2de5fece",
   "metadata": {},
   "outputs": [
    {
     "data": {
      "text/plain": [
       "['.ipynb_checkpoints',\n",
       " 'File_Op.ipynb',\n",
       " 'test.txt',\n",
       " 'test2.txt',\n",
       " 'test3.txt',\n",
       " 'test_1.txt']"
      ]
     },
     "execution_count": 151,
     "metadata": {},
     "output_type": "execute_result"
    }
   ],
   "source": [
    "os.listdir()"
   ]
  },
  {
   "cell_type": "code",
   "execution_count": 152,
   "id": "256ad25c",
   "metadata": {},
   "outputs": [],
   "source": [
    "os.rename(\"test.txt\", \"xyz.txt\")"
   ]
  },
  {
   "cell_type": "code",
   "execution_count": 153,
   "id": "a4c02098",
   "metadata": {},
   "outputs": [
    {
     "data": {
      "text/plain": [
       "['.ipynb_checkpoints',\n",
       " 'File_Op.ipynb',\n",
       " 'test2.txt',\n",
       " 'test3.txt',\n",
       " 'test_1.txt',\n",
       " 'xyz.txt']"
      ]
     },
     "execution_count": 153,
     "metadata": {},
     "output_type": "execute_result"
    }
   ],
   "source": [
    "os.listdir()"
   ]
  },
  {
   "cell_type": "code",
   "execution_count": 155,
   "id": "ed773225",
   "metadata": {},
   "outputs": [],
   "source": [
    "os.mkdir(\"new_dir\")"
   ]
  },
  {
   "cell_type": "code",
   "execution_count": 156,
   "id": "678c0c55",
   "metadata": {},
   "outputs": [
    {
     "data": {
      "text/plain": [
       "['.ipynb_checkpoints',\n",
       " 'File_Op.ipynb',\n",
       " 'new_dir',\n",
       " 'test2.txt',\n",
       " 'test3.txt',\n",
       " 'test_1.txt',\n",
       " 'xyz.txt']"
      ]
     },
     "execution_count": 156,
     "metadata": {},
     "output_type": "execute_result"
    }
   ],
   "source": [
    "os.listdir()"
   ]
  },
  {
   "cell_type": "code",
   "execution_count": 161,
   "id": "576e0611",
   "metadata": {},
   "outputs": [
    {
     "data": {
      "text/plain": [
       "'D:\\\\A_Category\\\\iNeuron\\\\Basic_Python_coding\\\\new_dir'"
      ]
     },
     "execution_count": 161,
     "metadata": {},
     "output_type": "execute_result"
    }
   ],
   "source": [
    "import shutil as sh\n",
    "sh.move(\"D:\\\\A_Category\\\\iNeuron\\\\Basic_Python_coding\\\\File_Op\\\\new_dir\", \"D:\\\\A_Category\\\\iNeuron\\\\Basic_Python_coding\") "
   ]
  },
  {
   "cell_type": "code",
   "execution_count": 162,
   "id": "2a9ede80",
   "metadata": {},
   "outputs": [
    {
     "data": {
      "text/plain": [
       "['.ipynb_checkpoints',\n",
       " 'File_Op.ipynb',\n",
       " 'test2.txt',\n",
       " 'test3.txt',\n",
       " 'test_1.txt',\n",
       " 'xyz.txt']"
      ]
     },
     "execution_count": 162,
     "metadata": {},
     "output_type": "execute_result"
    }
   ],
   "source": [
    "os.listdir()"
   ]
  },
  {
   "cell_type": "markdown",
   "id": "5f08a859",
   "metadata": {},
   "source": [
    "### HW:\n"
   ]
  },
  {
   "cell_type": "code",
   "execution_count": 219,
   "id": "7f88ce3f",
   "metadata": {},
   "outputs": [],
   "source": [
    "os.chdir(\"D:\\\\A_Category\\\\iNeuron\\\\Basic_Python_coding\\\\File_Op\")"
   ]
  },
  {
   "cell_type": "code",
   "execution_count": 220,
   "id": "7416d30e",
   "metadata": {},
   "outputs": [],
   "source": [
    "if not os.path.isdir(\"hw\"):\n",
    "    os.mkdir(\"hw\")"
   ]
  },
  {
   "cell_type": "code",
   "execution_count": 221,
   "id": "04d401ce",
   "metadata": {},
   "outputs": [
    {
     "data": {
      "text/plain": [
       "['.ipynb_checkpoints',\n",
       " 'File_Op.ipynb',\n",
       " 'hw',\n",
       " 'test2.txt',\n",
       " 'test3.txt',\n",
       " 'test_1.txt',\n",
       " 'xyz.txt']"
      ]
     },
     "execution_count": 221,
     "metadata": {},
     "output_type": "execute_result"
    }
   ],
   "source": [
    "os.listdir()"
   ]
  },
  {
   "cell_type": "code",
   "execution_count": 222,
   "id": "7e2ba10e",
   "metadata": {},
   "outputs": [
    {
     "data": {
      "text/plain": [
       "'D:\\\\A_Category\\\\iNeuron\\\\Basic_Python_coding\\\\File_Op'"
      ]
     },
     "execution_count": 222,
     "metadata": {},
     "output_type": "execute_result"
    }
   ],
   "source": [
    "pwd()"
   ]
  },
  {
   "cell_type": "code",
   "execution_count": 223,
   "id": "5eb93017",
   "metadata": {},
   "outputs": [],
   "source": [
    "os.chdir(\"D:\\\\A_Category\\\\iNeuron\\\\Basic_Python_coding\\\\File_Op\\\\hw\")"
   ]
  },
  {
   "cell_type": "code",
   "execution_count": 224,
   "id": "c943a403",
   "metadata": {},
   "outputs": [
    {
     "data": {
      "text/plain": [
       "'D:\\\\A_Category\\\\iNeuron\\\\Basic_Python_coding\\\\File_Op\\\\hw'"
      ]
     },
     "execution_count": 224,
     "metadata": {},
     "output_type": "execute_result"
    }
   ],
   "source": [
    "pwd()"
   ]
  },
  {
   "cell_type": "code",
   "execution_count": 225,
   "id": "943b8608",
   "metadata": {},
   "outputs": [],
   "source": [
    "for i in range(10):\n",
    "    f = open('file'+str(i)+'.txt', \"w+\")\n",
    "    f.write(str(i))\n",
    "    f.close()"
   ]
  },
  {
   "cell_type": "code",
   "execution_count": 235,
   "id": "6ac3b999",
   "metadata": {},
   "outputs": [
    {
     "name": "stdout",
     "output_type": "stream",
     "text": [
      "0\n",
      "1\n",
      "2\n",
      "3\n",
      "4\n",
      "5\n",
      "6\n",
      "7\n",
      "8\n",
      "9\n",
      "\n"
     ]
    }
   ],
   "source": [
    "data = []\n",
    "for i in os.listdir():\n",
    "    f = open(i, \"r+\")\n",
    "    d = f.read()\n",
    "    print(d)\n",
    "    data.append(d)\n",
    "    f.close() \n"
   ]
  },
  {
   "cell_type": "code",
   "execution_count": 236,
   "id": "5651572c",
   "metadata": {
    "scrolled": true
   },
   "outputs": [
    {
     "data": {
      "text/plain": [
       "['0', '1', '2', '3', '4', '5', '6', '7', '8', '9', '']"
      ]
     },
     "execution_count": 236,
     "metadata": {},
     "output_type": "execute_result"
    }
   ],
   "source": [
    "list(data)"
   ]
  },
  {
   "cell_type": "code",
   "execution_count": 237,
   "id": "ec9cdef5",
   "metadata": {},
   "outputs": [],
   "source": [
    "f = open(\"nwe.txt\", \"w+\")\n",
    "for i in data:\n",
    "    f.write(i)\n",
    "    \n",
    "f.close()"
   ]
  },
  {
   "cell_type": "code",
   "execution_count": null,
   "id": "36912d8f",
   "metadata": {},
   "outputs": [],
   "source": []
  }
 ],
 "metadata": {
  "kernelspec": {
   "display_name": "Python 3 (ipykernel)",
   "language": "python",
   "name": "python3"
  },
  "language_info": {
   "codemirror_mode": {
    "name": "ipython",
    "version": 3
   },
   "file_extension": ".py",
   "mimetype": "text/x-python",
   "name": "python",
   "nbconvert_exporter": "python",
   "pygments_lexer": "ipython3",
   "version": "3.9.13"
  }
 },
 "nbformat": 4,
 "nbformat_minor": 5
}
