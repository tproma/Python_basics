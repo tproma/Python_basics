{
 "cells": [
  {
   "cell_type": "markdown",
   "id": "6ca3c324",
   "metadata": {},
   "source": [
    "# tuples"
   ]
  },
  {
   "cell_type": "code",
   "execution_count": 1,
   "id": "78d84859",
   "metadata": {},
   "outputs": [],
   "source": [
    "t = ()"
   ]
  },
  {
   "cell_type": "code",
   "execution_count": 2,
   "id": "024b1aec",
   "metadata": {},
   "outputs": [
    {
     "data": {
      "text/plain": [
       "tuple"
      ]
     },
     "execution_count": 2,
     "metadata": {},
     "output_type": "execute_result"
    }
   ],
   "source": [
    "type(t)"
   ]
  },
  {
   "cell_type": "code",
   "execution_count": 4,
   "id": "bb357a95",
   "metadata": {},
   "outputs": [],
   "source": [
    "t1 = (12, 3, \"pro\", 1.1, True)"
   ]
  },
  {
   "cell_type": "code",
   "execution_count": 5,
   "id": "3f723bec",
   "metadata": {},
   "outputs": [],
   "source": [
    "l1 = [12, 3, \"pro\", 1.1, True]"
   ]
  },
  {
   "cell_type": "code",
   "execution_count": 9,
   "id": "2d6b03f3",
   "metadata": {},
   "outputs": [
    {
     "data": {
      "text/plain": [
       "12"
      ]
     },
     "execution_count": 9,
     "metadata": {},
     "output_type": "execute_result"
    }
   ],
   "source": [
    "t1[0] "
   ]
  },
  {
   "cell_type": "code",
   "execution_count": 10,
   "id": "183d8d5e",
   "metadata": {},
   "outputs": [
    {
     "ename": "IndexError",
     "evalue": "tuple index out of range",
     "output_type": "error",
     "traceback": [
      "\u001b[1;31m---------------------------------------------------------------------------\u001b[0m",
      "\u001b[1;31mIndexError\u001b[0m                                Traceback (most recent call last)",
      "Cell \u001b[1;32mIn [10], line 1\u001b[0m\n\u001b[1;32m----> 1\u001b[0m \u001b[43mt1\u001b[49m\u001b[43m[\u001b[49m\u001b[38;5;241;43m6\u001b[39;49m\u001b[43m]\u001b[49m\n",
      "\u001b[1;31mIndexError\u001b[0m: tuple index out of range"
     ]
    }
   ],
   "source": [
    "t1[6]"
   ]
  },
  {
   "cell_type": "code",
   "execution_count": 11,
   "id": "724b0267",
   "metadata": {},
   "outputs": [
    {
     "data": {
      "text/plain": [
       "(12, 3, 'pro', 1.1)"
      ]
     },
     "execution_count": 11,
     "metadata": {},
     "output_type": "execute_result"
    }
   ],
   "source": [
    "t1[0:4]"
   ]
  },
  {
   "cell_type": "code",
   "execution_count": 12,
   "id": "ea4572ef",
   "metadata": {},
   "outputs": [
    {
     "data": {
      "text/plain": [
       "(True, 1.1, 'pro', 3, 12)"
      ]
     },
     "execution_count": 12,
     "metadata": {},
     "output_type": "execute_result"
    }
   ],
   "source": [
    "t1[::-1]"
   ]
  },
  {
   "cell_type": "code",
   "execution_count": 17,
   "id": "fccc2913",
   "metadata": {},
   "outputs": [
    {
     "data": {
      "text/plain": [
       "True"
      ]
     },
     "execution_count": 17,
     "metadata": {},
     "output_type": "execute_result"
    }
   ],
   "source": [
    "t1[-1]"
   ]
  },
  {
   "cell_type": "code",
   "execution_count": 18,
   "id": "4d59e725",
   "metadata": {},
   "outputs": [
    {
     "ename": "TypeError",
     "evalue": "'tuple' object does not support item assignment",
     "output_type": "error",
     "traceback": [
      "\u001b[1;31m---------------------------------------------------------------------------\u001b[0m",
      "\u001b[1;31mTypeError\u001b[0m                                 Traceback (most recent call last)",
      "Cell \u001b[1;32mIn [18], line 1\u001b[0m\n\u001b[1;32m----> 1\u001b[0m \u001b[43mt1\u001b[49m\u001b[43m[\u001b[49m\u001b[38;5;241;43m0\u001b[39;49m\u001b[43m]\u001b[49m \u001b[38;5;241m=\u001b[39m \u001b[38;5;124m\"\u001b[39m\u001b[38;5;124msam\u001b[39m\u001b[38;5;124m\"\u001b[39m\n",
      "\u001b[1;31mTypeError\u001b[0m: 'tuple' object does not support item assignment"
     ]
    }
   ],
   "source": [
    "t1[0] = \"sam\""
   ]
  },
  {
   "cell_type": "markdown",
   "id": "7095fe89",
   "metadata": {},
   "source": [
    "## tuple is immutable , they can not be reassigned."
   ]
  },
  {
   "cell_type": "code",
   "execution_count": 20,
   "id": "7cf73d5b",
   "metadata": {},
   "outputs": [],
   "source": [
    "t2= (1,2,3)"
   ]
  },
  {
   "cell_type": "code",
   "execution_count": 21,
   "id": "f4ff465e",
   "metadata": {},
   "outputs": [
    {
     "data": {
      "text/plain": [
       "(12, 3, 'pro', 1.1, True, 1, 2, 3)"
      ]
     },
     "execution_count": 21,
     "metadata": {},
     "output_type": "execute_result"
    }
   ],
   "source": [
    "t1+t2"
   ]
  },
  {
   "cell_type": "code",
   "execution_count": 23,
   "id": "afeee041",
   "metadata": {},
   "outputs": [
    {
     "data": {
      "text/plain": [
       "(12, 3, 'pro', 1.1, True, 12, 3, 'pro', 1.1, True)"
      ]
     },
     "execution_count": 23,
     "metadata": {},
     "output_type": "execute_result"
    }
   ],
   "source": [
    "t1*2"
   ]
  },
  {
   "cell_type": "code",
   "execution_count": 24,
   "id": "3eba85a7",
   "metadata": {},
   "outputs": [
    {
     "data": {
      "text/plain": [
       "True"
      ]
     },
     "execution_count": 24,
     "metadata": {},
     "output_type": "execute_result"
    }
   ],
   "source": [
    "1 in t1"
   ]
  },
  {
   "cell_type": "code",
   "execution_count": 25,
   "id": "6ac7e9bb",
   "metadata": {},
   "outputs": [
    {
     "data": {
      "text/plain": [
       "False"
      ]
     },
     "execution_count": 25,
     "metadata": {},
     "output_type": "execute_result"
    }
   ],
   "source": [
    "2 in t1"
   ]
  },
  {
   "cell_type": "code",
   "execution_count": 26,
   "id": "457a5504",
   "metadata": {},
   "outputs": [
    {
     "ename": "TypeError",
     "evalue": "'>' not supported between instances of 'str' and 'int'",
     "output_type": "error",
     "traceback": [
      "\u001b[1;31m---------------------------------------------------------------------------\u001b[0m",
      "\u001b[1;31mTypeError\u001b[0m                                 Traceback (most recent call last)",
      "Cell \u001b[1;32mIn [26], line 1\u001b[0m\n\u001b[1;32m----> 1\u001b[0m \u001b[38;5;28;43mmax\u001b[39;49m\u001b[43m(\u001b[49m\u001b[43mt1\u001b[49m\u001b[43m)\u001b[49m\n",
      "\u001b[1;31mTypeError\u001b[0m: '>' not supported between instances of 'str' and 'int'"
     ]
    }
   ],
   "source": [
    "max(t1)"
   ]
  },
  {
   "cell_type": "code",
   "execution_count": 27,
   "id": "ab68058f",
   "metadata": {},
   "outputs": [],
   "source": [
    "t3 =(3,8,1)"
   ]
  },
  {
   "cell_type": "code",
   "execution_count": 28,
   "id": "d7a2af57",
   "metadata": {},
   "outputs": [
    {
     "data": {
      "text/plain": [
       "8"
      ]
     },
     "execution_count": 28,
     "metadata": {},
     "output_type": "execute_result"
    }
   ],
   "source": [
    "max(t3)"
   ]
  },
  {
   "cell_type": "code",
   "execution_count": 29,
   "id": "2922ec33",
   "metadata": {},
   "outputs": [
    {
     "data": {
      "text/plain": [
       "(12, 3, 'pro', 1.1, True, 3, 8, 1)"
      ]
     },
     "execution_count": 29,
     "metadata": {},
     "output_type": "execute_result"
    }
   ],
   "source": [
    "t1+t3"
   ]
  },
  {
   "cell_type": "code",
   "execution_count": 31,
   "id": "9cdb1d4c",
   "metadata": {},
   "outputs": [],
   "source": [
    "l2 = list(t1)"
   ]
  },
  {
   "cell_type": "markdown",
   "id": "e59725c8",
   "metadata": {},
   "source": [
    "l2"
   ]
  },
  {
   "cell_type": "code",
   "execution_count": 33,
   "id": "0ef66d10",
   "metadata": {},
   "outputs": [],
   "source": [
    "l2.insert(2, 34)"
   ]
  },
  {
   "cell_type": "code",
   "execution_count": 34,
   "id": "579f1892",
   "metadata": {},
   "outputs": [
    {
     "data": {
      "text/plain": [
       "[12, 3, 34, 'pro', 1.1, True]"
      ]
     },
     "execution_count": 34,
     "metadata": {},
     "output_type": "execute_result"
    }
   ],
   "source": [
    "l2"
   ]
  },
  {
   "cell_type": "markdown",
   "id": "7912c667",
   "metadata": {},
   "source": [
    "Tuple does not allow insert. So convert it toa list "
   ]
  },
  {
   "cell_type": "code",
   "execution_count": 38,
   "id": "3630e597",
   "metadata": {},
   "outputs": [],
   "source": [
    "t4 = ((4,32), (\"as\",\"sd\" ), (\"sd\", 4),[2,3,4])"
   ]
  },
  {
   "cell_type": "code",
   "execution_count": 39,
   "id": "c27610ea",
   "metadata": {},
   "outputs": [
    {
     "data": {
      "text/plain": [
       "((4, 32), ('as', 'sd'), ('sd', 4), [2, 3, 4])"
      ]
     },
     "execution_count": 39,
     "metadata": {},
     "output_type": "execute_result"
    }
   ],
   "source": [
    "t4"
   ]
  },
  {
   "cell_type": "markdown",
   "id": "546a202f",
   "metadata": {},
   "source": [
    "tuples can hold all sorts of data, including strings, lists and tuples themselves"
   ]
  },
  {
   "cell_type": "code",
   "execution_count": 41,
   "id": "403e9016",
   "metadata": {},
   "outputs": [
    {
     "data": {
      "text/plain": [
       "[2, 3, 4]"
      ]
     },
     "execution_count": 41,
     "metadata": {},
     "output_type": "execute_result"
    }
   ],
   "source": [
    "t4[3]"
   ]
  },
  {
   "cell_type": "code",
   "execution_count": 43,
   "id": "1326f353",
   "metadata": {},
   "outputs": [
    {
     "data": {
      "text/plain": [
       "[3, 4]"
      ]
     },
     "execution_count": 43,
     "metadata": {},
     "output_type": "execute_result"
    }
   ],
   "source": [
    "t4[3][1:3]"
   ]
  },
  {
   "cell_type": "code",
   "execution_count": 44,
   "id": "6c7c3dc7",
   "metadata": {},
   "outputs": [
    {
     "data": {
      "text/plain": [
       "'sd'"
      ]
     },
     "execution_count": 44,
     "metadata": {},
     "output_type": "execute_result"
    }
   ],
   "source": [
    "t4[1][1]"
   ]
  },
  {
   "cell_type": "code",
   "execution_count": 46,
   "id": "aca23694",
   "metadata": {},
   "outputs": [
    {
     "name": "stdout",
     "output_type": "stream",
     "text": [
      "(4, 32) is a tuple\n",
      "('as', 'sd') is a tuple\n",
      "('sd', 4) is a tuple\n"
     ]
    }
   ],
   "source": [
    "for i in t4:\n",
    "    if type(i)==tuple:\n",
    "        print(\"{} is a tuple\".format(i))\n",
    "        "
   ]
  },
  {
   "cell_type": "code",
   "execution_count": 50,
   "id": "538d4957",
   "metadata": {},
   "outputs": [
    {
     "name": "stdout",
     "output_type": "stream",
     "text": [
      "Enter: pro\n",
      "pro is in the tuple\n"
     ]
    }
   ],
   "source": [
    "i = input(\"Enter: \")\n",
    "\n",
    "if i in t1:\n",
    "    print(\"{} is in the tuple\".format(i))\n",
    "    \n",
    "else:\n",
    "     print(\"{} Not available\".format(i))\n",
    "    \n",
    "    "
   ]
  },
  {
   "cell_type": "code",
   "execution_count": 51,
   "id": "75a31acf",
   "metadata": {},
   "outputs": [
    {
     "data": {
      "text/plain": [
       "(12, 3, 'pro', 1.1, True)"
      ]
     },
     "execution_count": 51,
     "metadata": {},
     "output_type": "execute_result"
    }
   ],
   "source": [
    "t1"
   ]
  },
  {
   "cell_type": "markdown",
   "id": "16ac6b8f",
   "metadata": {},
   "source": [
    "### Set"
   ]
  },
  {
   "cell_type": "code",
   "execution_count": 52,
   "id": "8f5c8f30",
   "metadata": {},
   "outputs": [],
   "source": [
    "x = set()"
   ]
  },
  {
   "cell_type": "code",
   "execution_count": 53,
   "id": "74230902",
   "metadata": {},
   "outputs": [
    {
     "data": {
      "text/plain": [
       "set"
      ]
     },
     "execution_count": 53,
     "metadata": {},
     "output_type": "execute_result"
    }
   ],
   "source": [
    "type(x)"
   ]
  },
  {
   "cell_type": "code",
   "execution_count": 55,
   "id": "6dc6fc57",
   "metadata": {},
   "outputs": [
    {
     "data": {
      "text/plain": [
       "['sam', 3, 'pro', 1.1, True]"
      ]
     },
     "execution_count": 55,
     "metadata": {},
     "output_type": "execute_result"
    }
   ],
   "source": [
    "l1"
   ]
  },
  {
   "cell_type": "code",
   "execution_count": 58,
   "id": "4b3598f4",
   "metadata": {},
   "outputs": [],
   "source": [
    "s = set(l1)"
   ]
  },
  {
   "cell_type": "code",
   "execution_count": 60,
   "id": "00e90a39",
   "metadata": {},
   "outputs": [
    {
     "data": {
      "text/plain": [
       "{1.1, 3, True, 'pro', 'sam'}"
      ]
     },
     "execution_count": 60,
     "metadata": {},
     "output_type": "execute_result"
    }
   ],
   "source": [
    "s"
   ]
  },
  {
   "cell_type": "code",
   "execution_count": 59,
   "id": "6beab97f",
   "metadata": {},
   "outputs": [
    {
     "name": "stdout",
     "output_type": "stream",
     "text": [
      "1.1\n",
      "True\n",
      "3\n",
      "pro\n",
      "sam\n"
     ]
    }
   ],
   "source": [
    "for i in s:\n",
    "    print(i)"
   ]
  },
  {
   "cell_type": "code",
   "execution_count": 61,
   "id": "26eaf3cf",
   "metadata": {},
   "outputs": [
    {
     "ename": "TypeError",
     "evalue": "'set' object is not subscriptable",
     "output_type": "error",
     "traceback": [
      "\u001b[1;31m---------------------------------------------------------------------------\u001b[0m",
      "\u001b[1;31mTypeError\u001b[0m                                 Traceback (most recent call last)",
      "Cell \u001b[1;32mIn [61], line 1\u001b[0m\n\u001b[1;32m----> 1\u001b[0m \u001b[43ms\u001b[49m\u001b[43m[\u001b[49m\u001b[38;5;241;43m1\u001b[39;49m\u001b[43m]\u001b[49m\n",
      "\u001b[1;31mTypeError\u001b[0m: 'set' object is not subscriptable"
     ]
    }
   ],
   "source": [
    "s[1]"
   ]
  },
  {
   "cell_type": "markdown",
   "id": "172b9900",
   "metadata": {},
   "source": [
    "set is an unordered collection of unique elements\n"
   ]
  },
  {
   "cell_type": "code",
   "execution_count": 63,
   "id": "1dc6825b",
   "metadata": {},
   "outputs": [],
   "source": [
    "s.add(3)"
   ]
  },
  {
   "cell_type": "code",
   "execution_count": 64,
   "id": "17bb0d86",
   "metadata": {},
   "outputs": [
    {
     "data": {
      "text/plain": [
       "{1.1, 3, True, 'pro', 'sam'}"
      ]
     },
     "execution_count": 64,
     "metadata": {},
     "output_type": "execute_result"
    }
   ],
   "source": [
    "s"
   ]
  },
  {
   "cell_type": "code",
   "execution_count": 71,
   "id": "6863ec9b",
   "metadata": {},
   "outputs": [],
   "source": [
    "s.add(2)"
   ]
  },
  {
   "cell_type": "code",
   "execution_count": 72,
   "id": "517adc0d",
   "metadata": {},
   "outputs": [
    {
     "data": {
      "text/plain": [
       "{1.1, 2, 3, True, 'pro', 'sam'}"
      ]
     },
     "execution_count": 72,
     "metadata": {},
     "output_type": "execute_result"
    }
   ],
   "source": [
    "s"
   ]
  },
  {
   "cell_type": "code",
   "execution_count": 73,
   "id": "d8ae14d0",
   "metadata": {},
   "outputs": [],
   "source": [
    "s.add(32)"
   ]
  },
  {
   "cell_type": "code",
   "execution_count": 74,
   "id": "c7650c1a",
   "metadata": {},
   "outputs": [
    {
     "data": {
      "text/plain": [
       "{1.1, 2, 3, 32, True, 'pro', 'sam'}"
      ]
     },
     "execution_count": 74,
     "metadata": {},
     "output_type": "execute_result"
    }
   ],
   "source": [
    "s"
   ]
  },
  {
   "cell_type": "code",
   "execution_count": 75,
   "id": "8ffbc65e",
   "metadata": {},
   "outputs": [],
   "source": [
    "s.remove(3)"
   ]
  },
  {
   "cell_type": "code",
   "execution_count": 76,
   "id": "d0c41b51",
   "metadata": {},
   "outputs": [
    {
     "data": {
      "text/plain": [
       "{1.1, 2, 32, True, 'pro', 'sam'}"
      ]
     },
     "execution_count": 76,
     "metadata": {},
     "output_type": "execute_result"
    }
   ],
   "source": [
    "s"
   ]
  },
  {
   "cell_type": "code",
   "execution_count": 77,
   "id": "67de4835",
   "metadata": {},
   "outputs": [],
   "source": [
    "l5 = [51,32,13]"
   ]
  },
  {
   "cell_type": "code",
   "execution_count": 78,
   "id": "06ac8dc7",
   "metadata": {},
   "outputs": [],
   "source": [
    "s1 = set(l5)"
   ]
  },
  {
   "cell_type": "code",
   "execution_count": 79,
   "id": "840b1a0c",
   "metadata": {},
   "outputs": [
    {
     "data": {
      "text/plain": [
       "{13, 32, 51}"
      ]
     },
     "execution_count": 79,
     "metadata": {},
     "output_type": "execute_result"
    }
   ],
   "source": [
    "s1"
   ]
  },
  {
   "cell_type": "code",
   "execution_count": 84,
   "id": "f0a3d496",
   "metadata": {},
   "outputs": [
    {
     "ename": "TypeError",
     "evalue": "unsupported operand type(s) for +: 'set' and 'set'",
     "output_type": "error",
     "traceback": [
      "\u001b[1;31m---------------------------------------------------------------------------\u001b[0m",
      "\u001b[1;31mTypeError\u001b[0m                                 Traceback (most recent call last)",
      "Cell \u001b[1;32mIn [84], line 1\u001b[0m\n\u001b[1;32m----> 1\u001b[0m \u001b[43ms\u001b[49m\u001b[38;5;241;43m+\u001b[39;49m\u001b[43ms1\u001b[49m\n",
      "\u001b[1;31mTypeError\u001b[0m: unsupported operand type(s) for +: 'set' and 'set'"
     ]
    }
   ],
   "source": [
    "s+s1"
   ]
  },
  {
   "cell_type": "code",
   "execution_count": 85,
   "id": "eb641713",
   "metadata": {},
   "outputs": [
    {
     "ename": "TypeError",
     "evalue": "unsupported operand type(s) for *: 'set' and 'int'",
     "output_type": "error",
     "traceback": [
      "\u001b[1;31m---------------------------------------------------------------------------\u001b[0m",
      "\u001b[1;31mTypeError\u001b[0m                                 Traceback (most recent call last)",
      "Cell \u001b[1;32mIn [85], line 1\u001b[0m\n\u001b[1;32m----> 1\u001b[0m \u001b[43ms\u001b[49m\u001b[38;5;241;43m*\u001b[39;49m\u001b[38;5;241;43m2\u001b[39;49m\n",
      "\u001b[1;31mTypeError\u001b[0m: unsupported operand type(s) for *: 'set' and 'int'"
     ]
    }
   ],
   "source": [
    "s*2"
   ]
  },
  {
   "cell_type": "code",
   "execution_count": 86,
   "id": "311a0487",
   "metadata": {},
   "outputs": [],
   "source": [
    "l6 = list(s)"
   ]
  },
  {
   "cell_type": "code",
   "execution_count": 87,
   "id": "9f41ca05",
   "metadata": {},
   "outputs": [],
   "source": [
    "l6.append(87)"
   ]
  },
  {
   "cell_type": "code",
   "execution_count": 89,
   "id": "975d9c8a",
   "metadata": {},
   "outputs": [
    {
     "data": {
      "text/plain": [
       "[32, 1.1, True, 2, 'pro', 'sam', 87]"
      ]
     },
     "execution_count": 89,
     "metadata": {},
     "output_type": "execute_result"
    }
   ],
   "source": [
    "l6"
   ]
  },
  {
   "cell_type": "code",
   "execution_count": 90,
   "id": "be712bb4",
   "metadata": {},
   "outputs": [],
   "source": [
    "t4 = tuple(s)"
   ]
  },
  {
   "cell_type": "code",
   "execution_count": 91,
   "id": "c6be69c3",
   "metadata": {},
   "outputs": [
    {
     "data": {
      "text/plain": [
       "(32, 1.1, True, 2, 'pro', 'sam')"
      ]
     },
     "execution_count": 91,
     "metadata": {},
     "output_type": "execute_result"
    }
   ],
   "source": [
    "t4"
   ]
  },
  {
   "cell_type": "markdown",
   "id": "ad4815ae",
   "metadata": {},
   "source": [
    "# Dictionary\n"
   ]
  },
  {
   "cell_type": "code",
   "execution_count": 92,
   "id": "285297d7",
   "metadata": {},
   "outputs": [],
   "source": [
    "x = {}"
   ]
  },
  {
   "cell_type": "code",
   "execution_count": 93,
   "id": "8beb16e0",
   "metadata": {},
   "outputs": [
    {
     "data": {
      "text/plain": [
       "dict"
      ]
     },
     "execution_count": 93,
     "metadata": {},
     "output_type": "execute_result"
    }
   ],
   "source": [
    "type(x)"
   ]
  },
  {
   "cell_type": "code",
   "execution_count": 94,
   "id": "8ee4fd47",
   "metadata": {},
   "outputs": [],
   "source": [
    "x1 = {54,23}"
   ]
  },
  {
   "cell_type": "code",
   "execution_count": 95,
   "id": "96c3d922",
   "metadata": {},
   "outputs": [
    {
     "data": {
      "text/plain": [
       "set"
      ]
     },
     "execution_count": 95,
     "metadata": {},
     "output_type": "execute_result"
    }
   ],
   "source": [
    "type(x1)"
   ]
  },
  {
   "cell_type": "code",
   "execution_count": 115,
   "id": "3b338181",
   "metadata": {},
   "outputs": [],
   "source": [
    "x = {\"name \": \"pro\", \"age \" : 32,  True: 1, \"name_2 \": \"abc\", \"str\": [9, 5,11,35,65,34,61,230]}"
   ]
  },
  {
   "cell_type": "code",
   "execution_count": 116,
   "id": "03940d0e",
   "metadata": {},
   "outputs": [
    {
     "data": {
      "text/plain": [
       "dict"
      ]
     },
     "execution_count": 116,
     "metadata": {},
     "output_type": "execute_result"
    }
   ],
   "source": [
    "type(x)"
   ]
  },
  {
   "cell_type": "code",
   "execution_count": 117,
   "id": "9f4f1599",
   "metadata": {},
   "outputs": [
    {
     "data": {
      "text/plain": [
       "{'name ': 'pro',\n",
       " 'age ': 32,\n",
       " True: 1,\n",
       " 'name_2 ': 'abc',\n",
       " 'str': [9, 5, 11, 35, 65, 34, 61, 230]}"
      ]
     },
     "execution_count": 117,
     "metadata": {},
     "output_type": "execute_result"
    }
   ],
   "source": [
    "x"
   ]
  },
  {
   "cell_type": "code",
   "execution_count": 158,
   "id": "c80aeb63",
   "metadata": {},
   "outputs": [],
   "source": [
    "x2 = {\"name \": \"pro\", \"age \" : 32,  True: 1, \"dict\": {\"name\": \"qwe\", 245: [7,4,65,12,446,8678,87667,6], 34: (1,2,3)}, 11:[9,7,5] }"
   ]
  },
  {
   "cell_type": "code",
   "execution_count": 159,
   "id": "3a0a684b",
   "metadata": {},
   "outputs": [
    {
     "data": {
      "text/plain": [
       "{'name ': 'pro',\n",
       " 'age ': 32,\n",
       " True: 1,\n",
       " 'dict': {'name': 'qwe',\n",
       "  245: [7, 4, 65, 12, 446, 8678, 87667, 6],\n",
       "  34: (1, 2, 3)},\n",
       " 11: [9, 7, 5]}"
      ]
     },
     "execution_count": 159,
     "metadata": {},
     "output_type": "execute_result"
    }
   ],
   "source": [
    "x2"
   ]
  },
  {
   "cell_type": "code",
   "execution_count": 160,
   "id": "762805f2",
   "metadata": {},
   "outputs": [
    {
     "data": {
      "text/plain": [
       "dict"
      ]
     },
     "execution_count": 160,
     "metadata": {},
     "output_type": "execute_result"
    }
   ],
   "source": [
    "type(x2)"
   ]
  },
  {
   "cell_type": "code",
   "execution_count": 161,
   "id": "0050f494",
   "metadata": {},
   "outputs": [
    {
     "data": {
      "text/plain": [
       "(1, 2, 3)"
      ]
     },
     "execution_count": 161,
     "metadata": {},
     "output_type": "execute_result"
    }
   ],
   "source": [
    "x2[\"dict\"][34]"
   ]
  },
  {
   "cell_type": "code",
   "execution_count": 163,
   "id": "970741f4",
   "metadata": {},
   "outputs": [
    {
     "data": {
      "text/plain": [
       "5"
      ]
     },
     "execution_count": 163,
     "metadata": {},
     "output_type": "execute_result"
    }
   ],
   "source": [
    "x2[11][2]"
   ]
  },
  {
   "cell_type": "code",
   "execution_count": 164,
   "id": "cceee3ad",
   "metadata": {},
   "outputs": [
    {
     "ename": "TypeError",
     "evalue": "unsupported operand type(s) for +: 'set' and 'dict'",
     "output_type": "error",
     "traceback": [
      "\u001b[1;31m---------------------------------------------------------------------------\u001b[0m",
      "\u001b[1;31mTypeError\u001b[0m                                 Traceback (most recent call last)",
      "Cell \u001b[1;32mIn [164], line 1\u001b[0m\n\u001b[1;32m----> 1\u001b[0m \u001b[43mx1\u001b[49m\u001b[38;5;241;43m+\u001b[39;49m\u001b[43mx2\u001b[49m\n",
      "\u001b[1;31mTypeError\u001b[0m: unsupported operand type(s) for +: 'set' and 'dict'"
     ]
    }
   ],
   "source": [
    "x1+x2"
   ]
  },
  {
   "cell_type": "code",
   "execution_count": 165,
   "id": "880f2225",
   "metadata": {},
   "outputs": [
    {
     "ename": "TypeError",
     "evalue": "unsupported operand type(s) for *: 'set' and 'int'",
     "output_type": "error",
     "traceback": [
      "\u001b[1;31m---------------------------------------------------------------------------\u001b[0m",
      "\u001b[1;31mTypeError\u001b[0m                                 Traceback (most recent call last)",
      "Cell \u001b[1;32mIn [165], line 1\u001b[0m\n\u001b[1;32m----> 1\u001b[0m \u001b[43mx1\u001b[49m\u001b[38;5;241;43m*\u001b[39;49m\u001b[38;5;241;43m2\u001b[39;49m\n",
      "\u001b[1;31mTypeError\u001b[0m: unsupported operand type(s) for *: 'set' and 'int'"
     ]
    }
   ],
   "source": [
    "x1*2"
   ]
  },
  {
   "cell_type": "code",
   "execution_count": 166,
   "id": "75209d6e",
   "metadata": {},
   "outputs": [
    {
     "data": {
      "text/plain": [
       "{'name ': 'pro',\n",
       " 'age ': 32,\n",
       " True: 1,\n",
       " 'dict': {'name': 'qwe',\n",
       "  245: [7, 4, 65, 12, 446, 8678, 87667, 6],\n",
       "  34: (1, 2, 3)},\n",
       " 11: [9, 7, 5]}"
      ]
     },
     "execution_count": 166,
     "metadata": {},
     "output_type": "execute_result"
    }
   ],
   "source": [
    "x2"
   ]
  },
  {
   "cell_type": "code",
   "execution_count": 168,
   "id": "f249ddd2",
   "metadata": {},
   "outputs": [
    {
     "data": {
      "text/plain": [
       "'pro'"
      ]
     },
     "execution_count": 168,
     "metadata": {},
     "output_type": "execute_result"
    }
   ],
   "source": [
    "x2[\"name \"] "
   ]
  },
  {
   "cell_type": "code",
   "execution_count": 169,
   "id": "a6229f32",
   "metadata": {},
   "outputs": [],
   "source": [
    "x2[\"name \"] =\"Sam\""
   ]
  },
  {
   "cell_type": "code",
   "execution_count": 170,
   "id": "1c08425b",
   "metadata": {},
   "outputs": [
    {
     "data": {
      "text/plain": [
       "'Sam'"
      ]
     },
     "execution_count": 170,
     "metadata": {},
     "output_type": "execute_result"
    }
   ],
   "source": [
    "x2[\"name \"] "
   ]
  },
  {
   "cell_type": "code",
   "execution_count": 171,
   "id": "3c3b4396",
   "metadata": {},
   "outputs": [
    {
     "data": {
      "text/plain": [
       "{'name ': 'Sam',\n",
       " 'age ': 32,\n",
       " True: 1,\n",
       " 'dict': {'name': 'qwe',\n",
       "  245: [7, 4, 65, 12, 446, 8678, 87667, 6],\n",
       "  34: (1, 2, 3)},\n",
       " 11: [9, 7, 5]}"
      ]
     },
     "execution_count": 171,
     "metadata": {},
     "output_type": "execute_result"
    }
   ],
   "source": [
    "x2"
   ]
  },
  {
   "cell_type": "markdown",
   "id": "4919dcf7",
   "metadata": {},
   "source": [
    "Dictionary is a mutable entity. it can be reassigned"
   ]
  },
  {
   "cell_type": "code",
   "execution_count": 172,
   "id": "43d1bbe3",
   "metadata": {},
   "outputs": [
    {
     "data": {
      "text/plain": [
       "dict_keys(['name ', 'age ', True, 'dict', 11])"
      ]
     },
     "execution_count": 172,
     "metadata": {},
     "output_type": "execute_result"
    }
   ],
   "source": [
    "x2.keys()"
   ]
  },
  {
   "cell_type": "code",
   "execution_count": 173,
   "id": "ee14b88e",
   "metadata": {},
   "outputs": [
    {
     "data": {
      "text/plain": [
       "True"
      ]
     },
     "execution_count": 173,
     "metadata": {},
     "output_type": "execute_result"
    }
   ],
   "source": [
    "11 in x2.keys()"
   ]
  },
  {
   "cell_type": "code",
   "execution_count": 175,
   "id": "feec13a1",
   "metadata": {},
   "outputs": [
    {
     "name": "stdout",
     "output_type": "stream",
     "text": [
      "Sam\n",
      "32\n",
      "1\n",
      "{'name': 'qwe', 245: [7, 4, 65, 12, 446, 8678, 87667, 6], 34: (1, 2, 3)}\n",
      "[9, 7, 5]\n"
     ]
    }
   ],
   "source": [
    "#printing values for the respective keys\n",
    "\n",
    "for i in x2.keys():\n",
    "    print(x2[i])"
   ]
  },
  {
   "cell_type": "code",
   "execution_count": 177,
   "id": "75d70d53",
   "metadata": {},
   "outputs": [
    {
     "name": "stdout",
     "output_type": "stream",
     "text": [
      "<class 'str'>\n",
      "<class 'int'>\n",
      "<class 'int'>\n",
      "<class 'dict'>\n",
      "<class 'list'>\n"
     ]
    }
   ],
   "source": [
    "#printing type for the respective keys\n",
    "\n",
    "for i in x2.keys():\n",
    "    print(type(x2[i]))"
   ]
  },
  {
   "cell_type": "code",
   "execution_count": 179,
   "id": "1003125c",
   "metadata": {},
   "outputs": [
    {
     "data": {
      "text/plain": [
       "dict_items([('name ', 'Sam'), ('age ', 32), (True, 1), ('dict', {'name': 'qwe', 245: [7, 4, 65, 12, 446, 8678, 87667, 6], 34: (1, 2, 3)}), (11, [9, 7, 5])])"
      ]
     },
     "execution_count": 179,
     "metadata": {},
     "output_type": "execute_result"
    }
   ],
   "source": [
    "# returns as a list of tuples\n",
    "x2.items()"
   ]
  },
  {
   "cell_type": "code",
   "execution_count": 182,
   "id": "a59e101f",
   "metadata": {},
   "outputs": [
    {
     "name": "stdout",
     "output_type": "stream",
     "text": [
      "('name ', 'Sam')\n",
      "('age ', 32)\n",
      "(True, 1)\n",
      "('dict', {'name': 'qwe', 245: [7, 4, 65, 12, 446, 8678, 87667, 6], 34: (1, 2, 3)})\n",
      "(11, [9, 7, 5])\n"
     ]
    }
   ],
   "source": [
    "for i in x2.items():\n",
    "    print(i)"
   ]
  },
  {
   "cell_type": "code",
   "execution_count": 183,
   "id": "c746e86d",
   "metadata": {},
   "outputs": [
    {
     "name": "stdout",
     "output_type": "stream",
     "text": [
      "name \n",
      "age \n",
      "True\n",
      "dict\n",
      "11\n"
     ]
    }
   ],
   "source": [
    "for i in x2.items():\n",
    "    print(i[0])"
   ]
  },
  {
   "cell_type": "code",
   "execution_count": 184,
   "id": "fd26fc5b",
   "metadata": {},
   "outputs": [
    {
     "name": "stdout",
     "output_type": "stream",
     "text": [
      "Sam\n",
      "32\n",
      "1\n",
      "{'name': 'qwe', 245: [7, 4, 65, 12, 446, 8678, 87667, 6], 34: (1, 2, 3)}\n",
      "[9, 7, 5]\n"
     ]
    }
   ],
   "source": [
    "for i in x2.items():\n",
    "    print(i[1])"
   ]
  },
  {
   "cell_type": "code",
   "execution_count": 185,
   "id": "23ffe2e0",
   "metadata": {},
   "outputs": [],
   "source": [
    "x3 ={(1,3,4): \"sfdsdf\"}"
   ]
  },
  {
   "cell_type": "code",
   "execution_count": 187,
   "id": "be2edd85",
   "metadata": {},
   "outputs": [
    {
     "data": {
      "text/plain": [
       "'sfdsdf'"
      ]
     },
     "execution_count": 187,
     "metadata": {},
     "output_type": "execute_result"
    }
   ],
   "source": [
    "x3[(1,3,4)]"
   ]
  },
  {
   "cell_type": "code",
   "execution_count": 188,
   "id": "8a9b21ce",
   "metadata": {},
   "outputs": [
    {
     "data": {
      "text/plain": [
       "{'name ': 'Sam',\n",
       " 'age ': 32,\n",
       " True: 1,\n",
       " 'dict': {'name': 'qwe',\n",
       "  245: [7, 4, 65, 12, 446, 8678, 87667, 6],\n",
       "  34: (1, 2, 3)},\n",
       " 11: [9, 7, 5]}"
      ]
     },
     "execution_count": 188,
     "metadata": {},
     "output_type": "execute_result"
    }
   ],
   "source": [
    "x2"
   ]
  },
  {
   "cell_type": "code",
   "execution_count": 189,
   "id": "c1c04fac",
   "metadata": {},
   "outputs": [
    {
     "data": {
      "text/plain": [
       "5"
      ]
     },
     "execution_count": 189,
     "metadata": {},
     "output_type": "execute_result"
    }
   ],
   "source": [
    "len(x2)"
   ]
  },
  {
   "cell_type": "code",
   "execution_count": 195,
   "id": "596ee7db",
   "metadata": {},
   "outputs": [
    {
     "data": {
      "text/plain": [
       "9"
      ]
     },
     "execution_count": 195,
     "metadata": {},
     "output_type": "execute_result"
    }
   ],
   "source": [
    "x2[11][0]"
   ]
  },
  {
   "cell_type": "markdown",
   "id": "321d2ab0",
   "metadata": {},
   "source": [
    "# HW"
   ]
  },
  {
   "cell_type": "code",
   "execution_count": 253,
   "id": "b6178805",
   "metadata": {},
   "outputs": [
    {
     "name": "stdout",
     "output_type": "stream",
     "text": [
      "Enter text:Text classification is a common NLP task that assigns a label or class to text. Some of the largest companies run text classification in production for a wide range of practical applications. One of the most popular forms of text classification is sentiment analysis, which assigns a label like 🙂 positive, 🙁 negative, or 😐 neutral to a sequence of text.\n"
     ]
    }
   ],
   "source": [
    "p = input(\"Enter text:\")"
   ]
  },
  {
   "cell_type": "code",
   "execution_count": 254,
   "id": "46091861",
   "metadata": {},
   "outputs": [
    {
     "data": {
      "text/plain": [
       "str"
      ]
     },
     "execution_count": 254,
     "metadata": {},
     "output_type": "execute_result"
    }
   ],
   "source": [
    "type(p)"
   ]
  },
  {
   "cell_type": "code",
   "execution_count": 255,
   "id": "225eebe6",
   "metadata": {},
   "outputs": [],
   "source": [
    "p = p.split()"
   ]
  },
  {
   "cell_type": "code",
   "execution_count": 256,
   "id": "eec25362",
   "metadata": {},
   "outputs": [
    {
     "data": {
      "text/plain": [
       "list"
      ]
     },
     "execution_count": 256,
     "metadata": {},
     "output_type": "execute_result"
    }
   ],
   "source": [
    "type(p)"
   ]
  },
  {
   "cell_type": "code",
   "execution_count": 257,
   "id": "ea0dd6ed",
   "metadata": {},
   "outputs": [
    {
     "data": {
      "text/plain": [
       "61"
      ]
     },
     "execution_count": 257,
     "metadata": {},
     "output_type": "execute_result"
    }
   ],
   "source": [
    "len(p)"
   ]
  },
  {
   "cell_type": "code",
   "execution_count": 258,
   "id": "3a35e9c1",
   "metadata": {},
   "outputs": [],
   "source": [
    " p = set(p)"
   ]
  },
  {
   "cell_type": "code",
   "execution_count": 259,
   "id": "2b5dfd82",
   "metadata": {},
   "outputs": [
    {
     "data": {
      "text/plain": [
       "{'NLP',\n",
       " 'One',\n",
       " 'Some',\n",
       " 'Text',\n",
       " 'a',\n",
       " 'analysis,',\n",
       " 'applications.',\n",
       " 'assigns',\n",
       " 'class',\n",
       " 'classification',\n",
       " 'common',\n",
       " 'companies',\n",
       " 'for',\n",
       " 'forms',\n",
       " 'in',\n",
       " 'is',\n",
       " 'label',\n",
       " 'largest',\n",
       " 'like',\n",
       " 'most',\n",
       " 'negative,',\n",
       " 'neutral',\n",
       " 'of',\n",
       " 'or',\n",
       " 'popular',\n",
       " 'positive,',\n",
       " 'practical',\n",
       " 'production',\n",
       " 'range',\n",
       " 'run',\n",
       " 'sentiment',\n",
       " 'sequence',\n",
       " 'task',\n",
       " 'text',\n",
       " 'text.',\n",
       " 'that',\n",
       " 'the',\n",
       " 'to',\n",
       " 'which',\n",
       " 'wide',\n",
       " '😐',\n",
       " '🙁',\n",
       " '🙂'}"
      ]
     },
     "execution_count": 259,
     "metadata": {},
     "output_type": "execute_result"
    }
   ],
   "source": [
    "p"
   ]
  },
  {
   "cell_type": "code",
   "execution_count": 260,
   "id": "21f8f4d4",
   "metadata": {},
   "outputs": [
    {
     "data": {
      "text/plain": [
       "43"
      ]
     },
     "execution_count": 260,
     "metadata": {},
     "output_type": "execute_result"
    }
   ],
   "source": [
    "len(p)"
   ]
  },
  {
   "cell_type": "code",
   "execution_count": 229,
   "id": "e887d045",
   "metadata": {},
   "outputs": [],
   "source": [
    "c = 0\n",
    "for i in p:\n",
    "    for j in p:\n",
    "        if i==j:\n",
    "            p.remove(j)"
   ]
  },
  {
   "cell_type": "code",
   "execution_count": null,
   "id": "102ef85a",
   "metadata": {},
   "outputs": [],
   "source": []
  },
  {
   "cell_type": "code",
   "execution_count": 230,
   "id": "990a2c01",
   "metadata": {},
   "outputs": [
    {
     "data": {
      "text/plain": [
       "25"
      ]
     },
     "execution_count": 230,
     "metadata": {},
     "output_type": "execute_result"
    }
   ],
   "source": [
    "len(p)"
   ]
  },
  {
   "cell_type": "code",
   "execution_count": 231,
   "id": "4f8e993c",
   "metadata": {},
   "outputs": [
    {
     "data": {
      "text/plain": [
       "['a',\n",
       " 'NLP',\n",
       " 'that',\n",
       " 'a',\n",
       " 'or',\n",
       " 'Some',\n",
       " 'the',\n",
       " 'companies',\n",
       " 'text',\n",
       " 'in',\n",
       " 'production',\n",
       " 'a',\n",
       " 'range',\n",
       " 'applications.',\n",
       " 'the',\n",
       " 'popular',\n",
       " 'text',\n",
       " 'analysis,',\n",
       " 'a',\n",
       " '🙂',\n",
       " '🙁',\n",
       " 'or',\n",
       " 'neutral',\n",
       " 'a',\n",
       " 'sequence']"
      ]
     },
     "execution_count": 231,
     "metadata": {},
     "output_type": "execute_result"
    }
   ],
   "source": [
    "p"
   ]
  },
  {
   "cell_type": "code",
   "execution_count": 232,
   "id": "1e17915c",
   "metadata": {},
   "outputs": [],
   "source": [
    "d = {}"
   ]
  },
  {
   "cell_type": "code",
   "execution_count": 233,
   "id": "a966ba27",
   "metadata": {},
   "outputs": [
    {
     "data": {
      "text/plain": [
       "dict"
      ]
     },
     "execution_count": 233,
     "metadata": {},
     "output_type": "execute_result"
    }
   ],
   "source": [
    "type(d)"
   ]
  },
  {
   "cell_type": "code",
   "execution_count": 239,
   "id": "0f195dab",
   "metadata": {},
   "outputs": [],
   "source": [
    "for keys in p:\n",
    "    \n",
    "    d[keys] = \"pro\""
   ]
  },
  {
   "cell_type": "code",
   "execution_count": 240,
   "id": "5ecc6738",
   "metadata": {},
   "outputs": [
    {
     "data": {
      "text/plain": [
       "{'a': 'pro',\n",
       " 'NLP': 'pro',\n",
       " 'that': 'pro',\n",
       " 'or': 'pro',\n",
       " 'Some': 'pro',\n",
       " 'the': 'pro',\n",
       " 'companies': 'pro',\n",
       " 'text': 'pro',\n",
       " 'in': 'pro',\n",
       " 'production': 'pro',\n",
       " 'range': 'pro',\n",
       " 'applications.': 'pro',\n",
       " 'popular': 'pro',\n",
       " 'analysis,': 'pro',\n",
       " '🙂': 'pro',\n",
       " '🙁': 'pro',\n",
       " 'neutral': 'pro',\n",
       " 'sequence': 'pro'}"
      ]
     },
     "execution_count": 240,
     "metadata": {},
     "output_type": "execute_result"
    }
   ],
   "source": [
    "d"
   ]
  },
  {
   "cell_type": "code",
   "execution_count": null,
   "id": "2d6882dd",
   "metadata": {},
   "outputs": [],
   "source": []
  },
  {
   "cell_type": "code",
   "execution_count": 248,
   "id": "6a4b0034",
   "metadata": {},
   "outputs": [
    {
     "data": {
      "text/plain": [
       "dict"
      ]
     },
     "execution_count": 248,
     "metadata": {},
     "output_type": "execute_result"
    }
   ],
   "source": [
    "type(d)"
   ]
  },
  {
   "cell_type": "code",
   "execution_count": 249,
   "id": "7c939b82",
   "metadata": {},
   "outputs": [
    {
     "data": {
      "text/plain": [
       "dict_keys(['a', 'NLP', 'that', 'or', 'Some', 'the', 'companies', 'text', 'in', 'production', 'range', 'applications.', 'popular', 'analysis,', '🙂', '🙁', 'neutral', 'sequence'])"
      ]
     },
     "execution_count": 249,
     "metadata": {},
     "output_type": "execute_result"
    }
   ],
   "source": [
    "d.keys()"
   ]
  },
  {
   "cell_type": "code",
   "execution_count": 250,
   "id": "2b3681dd",
   "metadata": {},
   "outputs": [
    {
     "data": {
      "text/plain": [
       "dict_values(['pro', 'pro', 'pro', 'pro', 'pro', 'pro', 'pro', 'pro', 'pro', 'pro', 'pro', 'pro', 'pro', 'pro', 'pro', 'pro', 'pro', 'pro'])"
      ]
     },
     "execution_count": 250,
     "metadata": {},
     "output_type": "execute_result"
    }
   ],
   "source": [
    "d.values()"
   ]
  },
  {
   "cell_type": "code",
   "execution_count": 244,
   "id": "5f9d87ea",
   "metadata": {},
   "outputs": [],
   "source": [
    "d_t = tuple(d.values())"
   ]
  },
  {
   "cell_type": "code",
   "execution_count": 245,
   "id": "d4c4eeb2",
   "metadata": {},
   "outputs": [
    {
     "data": {
      "text/plain": [
       "('pro',\n",
       " 'pro',\n",
       " 'pro',\n",
       " 'pro',\n",
       " 'pro',\n",
       " 'pro',\n",
       " 'pro',\n",
       " 'pro',\n",
       " 'pro',\n",
       " 'pro',\n",
       " 'pro',\n",
       " 'pro',\n",
       " 'pro',\n",
       " 'pro',\n",
       " 'pro',\n",
       " 'pro',\n",
       " 'pro',\n",
       " 'pro')"
      ]
     },
     "execution_count": 245,
     "metadata": {},
     "output_type": "execute_result"
    }
   ],
   "source": [
    "d_t"
   ]
  },
  {
   "cell_type": "code",
   "execution_count": 246,
   "id": "eb50eba2",
   "metadata": {},
   "outputs": [],
   "source": [
    "d_l = list(d.values())"
   ]
  },
  {
   "cell_type": "code",
   "execution_count": 247,
   "id": "7d76d5a9",
   "metadata": {},
   "outputs": [
    {
     "data": {
      "text/plain": [
       "['pro',\n",
       " 'pro',\n",
       " 'pro',\n",
       " 'pro',\n",
       " 'pro',\n",
       " 'pro',\n",
       " 'pro',\n",
       " 'pro',\n",
       " 'pro',\n",
       " 'pro',\n",
       " 'pro',\n",
       " 'pro',\n",
       " 'pro',\n",
       " 'pro',\n",
       " 'pro',\n",
       " 'pro',\n",
       " 'pro',\n",
       " 'pro']"
      ]
     },
     "execution_count": 247,
     "metadata": {},
     "output_type": "execute_result"
    }
   ],
   "source": [
    "d_l"
   ]
  },
  {
   "cell_type": "code",
   "execution_count": 266,
   "id": "400deeb8",
   "metadata": {},
   "outputs": [
    {
     "name": "stdout",
     "output_type": "stream",
     "text": [
      "Enter text:Text classification is a common NLP task that assigns a label or class to text. Some of the largest companies run text classification in production for a wide range of practical applications. One of the most popular forms of text classification is sentiment analysis, which assigns a label like 🙂 positive, 🙁 negative, or 😐 neutral to a sequence of text.\n"
     ]
    }
   ],
   "source": [
    "p = input(\"Enter text:\")\n",
    "p = p.split()\n",
    "p = set(p)\n",
    "d = {}\n",
    "for keys in p:\n",
    "    d[keys] = \"Pro\"\n",
    "    \n",
    "#dict1 = dict.fromkeys(p, \"pro\")\n",
    "d_t = tuple(d.values())\n",
    "d_l = list(d.keys())"
   ]
  },
  {
   "cell_type": "code",
   "execution_count": 267,
   "id": "f9bf823b",
   "metadata": {},
   "outputs": [
    {
     "data": {
      "text/plain": [
       "['for',\n",
       " 'to',\n",
       " 'in',\n",
       " '😐',\n",
       " 'production',\n",
       " 'text.',\n",
       " 'range',\n",
       " 'NLP',\n",
       " 'neutral',\n",
       " 'largest',\n",
       " 'analysis,',\n",
       " 'Text',\n",
       " 'sentiment',\n",
       " 'text',\n",
       " 'assigns',\n",
       " 'most',\n",
       " 'a',\n",
       " 'like',\n",
       " 'companies',\n",
       " 'of',\n",
       " 'classification',\n",
       " 'label',\n",
       " 'wide',\n",
       " 'is',\n",
       " 'common',\n",
       " '🙁',\n",
       " 'sequence',\n",
       " 'task',\n",
       " 'that',\n",
       " 'the',\n",
       " 'positive,',\n",
       " '🙂',\n",
       " 'popular',\n",
       " 'which',\n",
       " 'or',\n",
       " 'class',\n",
       " 'practical',\n",
       " 'run',\n",
       " 'One',\n",
       " 'applications.',\n",
       " 'forms',\n",
       " 'negative,',\n",
       " 'Some']"
      ]
     },
     "execution_count": 267,
     "metadata": {},
     "output_type": "execute_result"
    }
   ],
   "source": [
    "d_l"
   ]
  },
  {
   "cell_type": "code",
   "execution_count": 268,
   "id": "59c866ac",
   "metadata": {},
   "outputs": [
    {
     "name": "stdout",
     "output_type": "stream",
     "text": [
      "Keys:  for  ;  Values:  Pro\n",
      "Keys:  to  ;  Values:  Pro\n",
      "Keys:  in  ;  Values:  Pro\n",
      "Keys:  😐  ;  Values:  Pro\n",
      "Keys:  production  ;  Values:  Pro\n",
      "Keys:  text.  ;  Values:  Pro\n",
      "Keys:  range  ;  Values:  Pro\n",
      "Keys:  NLP  ;  Values:  Pro\n",
      "Keys:  neutral  ;  Values:  Pro\n",
      "Keys:  largest  ;  Values:  Pro\n",
      "Keys:  analysis,  ;  Values:  Pro\n",
      "Keys:  Text  ;  Values:  Pro\n",
      "Keys:  sentiment  ;  Values:  Pro\n",
      "Keys:  text  ;  Values:  Pro\n",
      "Keys:  assigns  ;  Values:  Pro\n",
      "Keys:  most  ;  Values:  Pro\n",
      "Keys:  a  ;  Values:  Pro\n",
      "Keys:  like  ;  Values:  Pro\n",
      "Keys:  companies  ;  Values:  Pro\n",
      "Keys:  of  ;  Values:  Pro\n",
      "Keys:  classification  ;  Values:  Pro\n",
      "Keys:  label  ;  Values:  Pro\n",
      "Keys:  wide  ;  Values:  Pro\n",
      "Keys:  is  ;  Values:  Pro\n",
      "Keys:  common  ;  Values:  Pro\n",
      "Keys:  🙁  ;  Values:  Pro\n",
      "Keys:  sequence  ;  Values:  Pro\n",
      "Keys:  task  ;  Values:  Pro\n",
      "Keys:  that  ;  Values:  Pro\n",
      "Keys:  the  ;  Values:  Pro\n",
      "Keys:  positive,  ;  Values:  Pro\n",
      "Keys:  🙂  ;  Values:  Pro\n",
      "Keys:  popular  ;  Values:  Pro\n",
      "Keys:  which  ;  Values:  Pro\n",
      "Keys:  or  ;  Values:  Pro\n",
      "Keys:  class  ;  Values:  Pro\n",
      "Keys:  practical  ;  Values:  Pro\n",
      "Keys:  run  ;  Values:  Pro\n",
      "Keys:  One  ;  Values:  Pro\n",
      "Keys:  applications.  ;  Values:  Pro\n",
      "Keys:  forms  ;  Values:  Pro\n",
      "Keys:  negative,  ;  Values:  Pro\n",
      "Keys:  Some  ;  Values:  Pro\n"
     ]
    }
   ],
   "source": [
    "for i in d:\n",
    "    print(\"Keys: \", i, \" ;  Values: \", d[i])"
   ]
  },
  {
   "cell_type": "code",
   "execution_count": null,
   "id": "908f9a3a",
   "metadata": {},
   "outputs": [],
   "source": []
  }
 ],
 "metadata": {
  "kernelspec": {
   "display_name": "Python 3 (ipykernel)",
   "language": "python",
   "name": "python3"
  },
  "language_info": {
   "codemirror_mode": {
    "name": "ipython",
    "version": 3
   },
   "file_extension": ".py",
   "mimetype": "text/x-python",
   "name": "python",
   "nbconvert_exporter": "python",
   "pygments_lexer": "ipython3",
   "version": "3.9.13"
  }
 },
 "nbformat": 4,
 "nbformat_minor": 5
}
