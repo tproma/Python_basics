{
 "cells": [
  {
   "cell_type": "code",
   "execution_count": 3,
   "id": "67002e26",
   "metadata": {},
   "outputs": [],
   "source": [
    "import os"
   ]
  },
  {
   "cell_type": "code",
   "execution_count": 4,
   "id": "d284101b",
   "metadata": {},
   "outputs": [],
   "source": [
    "os.chdir('D:\\\\A_Category\\\\iNeuron\\\\Basic_Python_coding')"
   ]
  },
  {
   "cell_type": "code",
   "execution_count": 5,
   "id": "df40736b",
   "metadata": {},
   "outputs": [
    {
     "data": {
      "text/plain": [
       "'D:\\\\A_Category\\\\iNeuron\\\\Basic_Python_coding'"
      ]
     },
     "execution_count": 5,
     "metadata": {},
     "output_type": "execute_result"
    }
   ],
   "source": [
    "pwd()"
   ]
  },
  {
   "cell_type": "code",
   "execution_count": 6,
   "id": "36339368",
   "metadata": {},
   "outputs": [
    {
     "ename": "FileExistsError",
     "evalue": "[WinError 183] Cannot create a file when that file already exists: 'logging'",
     "output_type": "error",
     "traceback": [
      "\u001b[1;31m---------------------------------------------------------------------------\u001b[0m",
      "\u001b[1;31mFileExistsError\u001b[0m                           Traceback (most recent call last)",
      "Cell \u001b[1;32mIn [6], line 1\u001b[0m\n\u001b[1;32m----> 1\u001b[0m \u001b[43mos\u001b[49m\u001b[38;5;241;43m.\u001b[39;49m\u001b[43mmkdir\u001b[49m\u001b[43m(\u001b[49m\u001b[38;5;124;43m\"\u001b[39;49m\u001b[38;5;124;43mlogging\u001b[39;49m\u001b[38;5;124;43m\"\u001b[39;49m\u001b[43m)\u001b[49m\n",
      "\u001b[1;31mFileExistsError\u001b[0m: [WinError 183] Cannot create a file when that file already exists: 'logging'"
     ]
    }
   ],
   "source": [
    "os.mkdir(\"logging\")"
   ]
  },
  {
   "cell_type": "code",
   "execution_count": 7,
   "id": "708ceebf",
   "metadata": {},
   "outputs": [],
   "source": [
    "os.chdir(os.getcwd() + \"/\" + \"logging\")"
   ]
  },
  {
   "cell_type": "code",
   "execution_count": 1,
   "id": "234bfcb9",
   "metadata": {},
   "outputs": [
    {
     "data": {
      "text/plain": [
       "'D:\\\\A_Category\\\\iNeuron\\\\Basic_Python_coding'"
      ]
     },
     "execution_count": 1,
     "metadata": {},
     "output_type": "execute_result"
    }
   ],
   "source": [
    "pwd()"
   ]
  },
  {
   "cell_type": "code",
   "execution_count": 9,
   "id": "28b4e4df",
   "metadata": {},
   "outputs": [],
   "source": [
    "import logging as log\n"
   ]
  },
  {
   "cell_type": "code",
   "execution_count": 10,
   "id": "0271809c",
   "metadata": {},
   "outputs": [],
   "source": [
    "log.basicConfig(filename = 'test.log', level = log.INFO, format = '%(asctime)s %(message)s')"
   ]
  },
  {
   "cell_type": "code",
   "execution_count": 11,
   "id": "0e76cce6",
   "metadata": {},
   "outputs": [],
   "source": [
    "log.info(\" Starting the program\")"
   ]
  },
  {
   "cell_type": "code",
   "execution_count": 12,
   "id": "8b95db1d",
   "metadata": {},
   "outputs": [],
   "source": [
    "log.warning(\"this is a first warning..\")"
   ]
  },
  {
   "cell_type": "code",
   "execution_count": 13,
   "id": "a4b66c9f",
   "metadata": {},
   "outputs": [],
   "source": [
    "log.error(\" Error Message..\")"
   ]
  },
  {
   "cell_type": "code",
   "execution_count": 14,
   "id": "58a11a55",
   "metadata": {},
   "outputs": [],
   "source": [
    "def test(a,b):\n",
    "    div = a/b\n",
    "    return div\n"
   ]
  },
  {
   "cell_type": "code",
   "execution_count": 15,
   "id": "5fea66a6",
   "metadata": {},
   "outputs": [
    {
     "ename": "ZeroDivisionError",
     "evalue": "division by zero",
     "output_type": "error",
     "traceback": [
      "\u001b[1;31m---------------------------------------------------------------------------\u001b[0m",
      "\u001b[1;31mZeroDivisionError\u001b[0m                         Traceback (most recent call last)",
      "Cell \u001b[1;32mIn [15], line 1\u001b[0m\n\u001b[1;32m----> 1\u001b[0m \u001b[43mtest\u001b[49m\u001b[43m(\u001b[49m\u001b[38;5;241;43m4\u001b[39;49m\u001b[43m,\u001b[49m\u001b[38;5;241;43m0\u001b[39;49m\u001b[43m)\u001b[49m\n",
      "Cell \u001b[1;32mIn [14], line 2\u001b[0m, in \u001b[0;36mtest\u001b[1;34m(a, b)\u001b[0m\n\u001b[0;32m      1\u001b[0m \u001b[38;5;28;01mdef\u001b[39;00m \u001b[38;5;21mtest\u001b[39m(a,b):\n\u001b[1;32m----> 2\u001b[0m     div \u001b[38;5;241m=\u001b[39m \u001b[43ma\u001b[49m\u001b[38;5;241;43m/\u001b[39;49m\u001b[43mb\u001b[49m\n\u001b[0;32m      3\u001b[0m     \u001b[38;5;28;01mreturn\u001b[39;00m div\n",
      "\u001b[1;31mZeroDivisionError\u001b[0m: division by zero"
     ]
    }
   ],
   "source": [
    "test(4,0)"
   ]
  },
  {
   "cell_type": "code",
   "execution_count": 23,
   "id": "1737fec5",
   "metadata": {},
   "outputs": [],
   "source": [
    "def test1(a,b):\n",
    "    try:\n",
    "        log.info(str(a)+\" , \"+ str(b))\n",
    "        div = a/b\n",
    "        return div\n",
    "    except Exception as e:\n",
    "        print(\"Check log\")\n",
    "        log.error(\"Error....\")\n",
    "        log.exception(str(e))\n"
   ]
  },
  {
   "cell_type": "code",
   "execution_count": 24,
   "id": "5397eefb",
   "metadata": {},
   "outputs": [
    {
     "name": "stdout",
     "output_type": "stream",
     "text": [
      "Check log\n"
     ]
    }
   ],
   "source": [
    "test1(4,0)"
   ]
  },
  {
   "cell_type": "code",
   "execution_count": 25,
   "id": "dcc959cd",
   "metadata": {},
   "outputs": [],
   "source": [
    "import logging as lg\n",
    "lg.basicConfig(filename=\"test1.log\", level = lg.INFO)\n"
   ]
  },
  {
   "cell_type": "markdown",
   "id": "81e617e1",
   "metadata": {},
   "source": [
    "## HW"
   ]
  },
  {
   "cell_type": "code",
   "execution_count": 18,
   "id": "4612a713",
   "metadata": {},
   "outputs": [
    {
     "name": "stdout",
     "output_type": "stream",
     "text": [
      "2023-09-15 22:48:19,659 (2, 5, 6),\n",
      "2023-09-15 22:48:20,572 (2, 5, 6.6),\n",
      "2023-09-15 22:49:07,679 (2, 5, 6),\n",
      "2023-09-15 22:49:08,160 (2, 5, 6.6),\n",
      "2023-09-15 22:50:09,135 (2, 5, 6.6),\n",
      "2023-09-15 23:06:14,954 (2, 5, 6),\n",
      "2023-09-15 23:11:22,076 Addition Function\n",
      "2023-09-15 23:11:22,076 (2, 5, 6),\n",
      "2023-09-15 23:11:38,141 Addition Function\n",
      "2023-09-15 23:11:38,142 (2, 5, 6)\n",
      "2023-09-15 23:15:23,757 Addition Function\n",
      "2023-09-15 23:15:23,757 (2, 5, 3)\n",
      "\n"
     ]
    }
   ],
   "source": [
    "import logging as log\n",
    "log.basicConfig(filename = \"hw.log\", level = log.INFO, format = '%(asctime)s %(message)s' )\n",
    "\n",
    "\n",
    "def hw(*args):\n",
    "    try:\n",
    "        log.info(\"Addition Function\")\n",
    "        log.info(str(args))\n",
    "        s = 0\n",
    "        for i in args:\n",
    "            s += i\n",
    "        return s\n",
    "    except Exception as e:\n",
    "        log.error(\"Error....\")\n",
    "        log.exception(str(e))\n",
    "        \n",
    "\n",
    "hw(2,5,3)\n",
    "f = open(\"hw.log\", \"r\")\n",
    "print(f.read())\n",
    "        "
   ]
  },
  {
   "cell_type": "code",
   "execution_count": 7,
   "id": "2325a559",
   "metadata": {},
   "outputs": [
    {
     "data": {
      "text/plain": [
       "13"
      ]
     },
     "execution_count": 7,
     "metadata": {},
     "output_type": "execute_result"
    }
   ],
   "source": [
    "hw(2,5,6)"
   ]
  },
  {
   "cell_type": "code",
   "execution_count": 11,
   "id": "aa2a3b28",
   "metadata": {},
   "outputs": [
    {
     "data": {
      "text/plain": [
       "13.6"
      ]
     },
     "execution_count": 11,
     "metadata": {},
     "output_type": "execute_result"
    }
   ],
   "source": [
    "hw(2,5,6.6)"
   ]
  },
  {
   "cell_type": "code",
   "execution_count": 12,
   "id": "a8f132a5",
   "metadata": {},
   "outputs": [
    {
     "ename": "NameError",
     "evalue": "name 'a' is not defined",
     "output_type": "error",
     "traceback": [
      "\u001b[1;31m---------------------------------------------------------------------------\u001b[0m",
      "\u001b[1;31mNameError\u001b[0m                                 Traceback (most recent call last)",
      "Cell \u001b[1;32mIn [12], line 1\u001b[0m\n\u001b[1;32m----> 1\u001b[0m hw(\u001b[38;5;241m2\u001b[39m,\u001b[38;5;241m5\u001b[39m,\u001b[43ma\u001b[49m)\n",
      "\u001b[1;31mNameError\u001b[0m: name 'a' is not defined"
     ]
    }
   ],
   "source": [
    "hw(2,5,a)"
   ]
  },
  {
   "cell_type": "code",
   "execution_count": 19,
   "id": "e2d064be",
   "metadata": {},
   "outputs": [],
   "source": [
    "### HW2"
   ]
  },
  {
   "cell_type": "code",
   "execution_count": 7,
   "id": "7cdf08ca",
   "metadata": {},
   "outputs": [
    {
     "name": "stdout",
     "output_type": "stream",
     "text": [
      "4 6 6\n",
      "2023-09-15 23:19:29,998 Addition Function\n",
      "2023-09-15 23:19:34,086 [3, 5]\n",
      "2023-09-15 23:19:49,221 Addition Function\n",
      "2023-09-15 23:19:52,982 [4, 6, 8]\n",
      "2023-09-15 23:20:14,209 Addition Function\n",
      "2023-09-15 23:20:27,810 [2, 3]\n",
      "2023-09-15 23:57:27,418 Addition Function\n",
      "2023-09-15 23:57:31,403 [5, 6]\n",
      "2023-09-16 00:00:48,637 Addition Function\n",
      "2023-09-16 00:00:51,238 [4, 5]\n",
      "2023-09-16 00:00:57,678 Addition Function\n",
      "2023-09-16 00:01:01,526 [4, 6, 6]\n",
      "\n"
     ]
    }
   ],
   "source": [
    "import logging as log\n",
    "log.basicConfig(filename = \"hw2.log\", level = log.INFO, format = '%(asctime)s %(message)s' )\n",
    "\n",
    "\n",
    "def hw2():\n",
    "    try:\n",
    "        log.info(\"Addition Function\")\n",
    "        s = list(map(int,input().split()))\n",
    "        log.info(str(s))\n",
    "        s =sum(s)\n",
    "        return s\n",
    "    except Exception as e:\n",
    "        log.error(\"Error....\")\n",
    "        log.exception(str(e))\n",
    "        \n",
    "\n",
    "hw2()\n",
    "\n",
    "f = open(\"hw2.log\", \"r\")\n",
    "print(f.read())"
   ]
  },
  {
   "cell_type": "markdown",
   "id": "8297ff03",
   "metadata": {},
   "source": [
    "## Logger 1, Logger 2\n"
   ]
  },
  {
   "cell_type": "code",
   "execution_count": 2,
   "id": "e58f08fc",
   "metadata": {},
   "outputs": [
    {
     "name": "stderr",
     "output_type": "stream",
     "text": [
      "%(asctime)s %(name)s %(levelname)s %(message)s\n",
      "2023-09-16 19:01:29,238 root INFO  Log \n",
      "%(asctime)s %(name)s %(levelname)s %(message)s\n",
      "2023-09-16 19:01:29,242 logger1.area1 INFO Logger 1 info\n"
     ]
    }
   ],
   "source": [
    "import logging as log\n",
    "log.basicConfig(filename = \"test4.log\", level = log.DEBUG, format = '%(asctime)s %(name)s %(levelname)s %(message)s')\n",
    "\n",
    "console_log = log.StreamHandler()\n",
    "console_log.setLevel(log.INFO)\n",
    "\n",
    "format = log.Formatter('%(asctime)s %(name)s %(levelname)s %(message)s')\n",
    "console_log.setFormatter(format)\n",
    "\n",
    "log.getLogger('').addHandler(console_log)\n",
    "log.info(\" Log \")\n",
    "\n",
    "logger1 = log.getLogger('logger1.area1')\n",
    "logger2 = log.getLogger('logger2.area2')\n",
    "\n",
    "\n",
    "logger1.info(\"Logger 1 info\")\n",
    "logger2.debug(\"Logger 2 debug\")\n",
    "\n",
    "\n"
   ]
  },
  {
   "cell_type": "markdown",
   "id": "ebf56e1f",
   "metadata": {},
   "source": [
    "## Debugger\n"
   ]
  },
  {
   "cell_type": "code",
   "execution_count": 6,
   "id": "e0a514f8",
   "metadata": {},
   "outputs": [],
   "source": [
    "def test():\n",
    "    l = []\n",
    "    for i in range(10):\n",
    "        l.append(i)\n",
    "        print(\" data appended. \")\n",
    "    return l\n",
    "        "
   ]
  },
  {
   "cell_type": "code",
   "execution_count": 7,
   "id": "15d0949b",
   "metadata": {},
   "outputs": [
    {
     "name": "stdout",
     "output_type": "stream",
     "text": [
      " data appended. \n",
      " data appended. \n",
      " data appended. \n",
      " data appended. \n",
      " data appended. \n",
      " data appended. \n",
      " data appended. \n",
      " data appended. \n",
      " data appended. \n",
      " data appended. \n"
     ]
    },
    {
     "data": {
      "text/plain": [
       "[0, 1, 2, 3, 4, 5, 6, 7, 8, 9]"
      ]
     },
     "execution_count": 7,
     "metadata": {},
     "output_type": "execute_result"
    }
   ],
   "source": [
    "test()"
   ]
  },
  {
   "cell_type": "code",
   "execution_count": 3,
   "id": "00bc7d0a",
   "metadata": {},
   "outputs": [
    {
     "name": "stdout",
     "output_type": "stream",
     "text": [
      "Requirement already satisfied: ipdb in c:\\users\\tanjina\\anaconda3\\lib\\site-packages (0.13.13)\n",
      "Requirement already satisfied: tomli in c:\\users\\tanjina\\appdata\\roaming\\python\\python39\\site-packages (from ipdb) (2.0.1)\n",
      "Requirement already satisfied: decorator in c:\\users\\tanjina\\appdata\\roaming\\python\\python39\\site-packages (from ipdb) (5.1.1)\n",
      "Requirement already satisfied: ipython>=7.31.1 in c:\\users\\tanjina\\appdata\\roaming\\python\\python39\\site-packages (from ipdb) (8.5.0)\n",
      "Requirement already satisfied: prompt-toolkit<3.1.0,>3.0.1 in c:\\users\\tanjina\\appdata\\roaming\\python\\python39\\site-packages (from ipython>=7.31.1->ipdb) (3.0.31)\n",
      "Requirement already satisfied: jedi>=0.16 in c:\\users\\tanjina\\appdata\\roaming\\python\\python39\\site-packages (from ipython>=7.31.1->ipdb) (0.18.1)\n",
      "Requirement already satisfied: matplotlib-inline in c:\\users\\tanjina\\appdata\\roaming\\python\\python39\\site-packages (from ipython>=7.31.1->ipdb) (0.1.6)\n",
      "Requirement already satisfied: pygments>=2.4.0 in c:\\users\\tanjina\\appdata\\roaming\\python\\python39\\site-packages (from ipython>=7.31.1->ipdb) (2.13.0)\n",
      "Requirement already satisfied: colorama in c:\\users\\tanjina\\anaconda3\\lib\\site-packages (from ipython>=7.31.1->ipdb) (0.4.5)\n",
      "Requirement already satisfied: pickleshare in c:\\users\\tanjina\\appdata\\roaming\\python\\python39\\site-packages (from ipython>=7.31.1->ipdb) (0.7.5)\n",
      "Requirement already satisfied: backcall in c:\\users\\tanjina\\appdata\\roaming\\python\\python39\\site-packages (from ipython>=7.31.1->ipdb) (0.2.0)\n",
      "Requirement already satisfied: traitlets>=5 in c:\\users\\tanjina\\appdata\\roaming\\python\\python39\\site-packages (from ipython>=7.31.1->ipdb) (5.5.0)\n",
      "Requirement already satisfied: stack-data in c:\\users\\tanjina\\appdata\\roaming\\python\\python39\\site-packages (from ipython>=7.31.1->ipdb) (0.5.1)\n",
      "Requirement already satisfied: parso<0.9.0,>=0.8.0 in c:\\users\\tanjina\\appdata\\roaming\\python\\python39\\site-packages (from jedi>=0.16->ipython>=7.31.1->ipdb) (0.8.3)\n",
      "Requirement already satisfied: wcwidth in c:\\users\\tanjina\\appdata\\roaming\\python\\python39\\site-packages (from prompt-toolkit<3.1.0,>3.0.1->ipython>=7.31.1->ipdb) (0.2.5)\n",
      "Requirement already satisfied: pure-eval in c:\\users\\tanjina\\appdata\\roaming\\python\\python39\\site-packages (from stack-data->ipython>=7.31.1->ipdb) (0.2.2)\n",
      "Requirement already satisfied: asttokens in c:\\users\\tanjina\\appdata\\roaming\\python\\python39\\site-packages (from stack-data->ipython>=7.31.1->ipdb) (2.0.8)\n",
      "Requirement already satisfied: executing in c:\\users\\tanjina\\appdata\\roaming\\python\\python39\\site-packages (from stack-data->ipython>=7.31.1->ipdb) (1.1.1)\n",
      "Requirement already satisfied: six in c:\\users\\tanjina\\anaconda3\\lib\\site-packages (from asttokens->stack-data->ipython>=7.31.1->ipdb) (1.16.0)\n"
     ]
    }
   ],
   "source": [
    "!pip install ipdb"
   ]
  },
  {
   "cell_type": "code",
   "execution_count": 4,
   "id": "9f14a4c2",
   "metadata": {},
   "outputs": [],
   "source": [
    "import ipdb"
   ]
  },
  {
   "cell_type": "code",
   "execution_count": 13,
   "id": "f3c5ad0e",
   "metadata": {},
   "outputs": [],
   "source": [
    "def test():\n",
    "    ipdb.set_trace()\n",
    "    l = []\n",
    "    for i in range(10):\n",
    "        l.append(i)\n",
    "        print(\" data appended. \")\n",
    "    return l\n",
    "        "
   ]
  },
  {
   "cell_type": "code",
   "execution_count": 14,
   "id": "3f877e08",
   "metadata": {},
   "outputs": [
    {
     "name": "stdout",
     "output_type": "stream",
     "text": [
      "> \u001b[1;32mc:\\users\\tanjina\\appdata\\local\\temp\\ipykernel_26808\\435489222.py\u001b[0m(3)\u001b[0;36mtest\u001b[1;34m()\u001b[0m\n",
      "\n",
      "ipdb> h\n",
      "\n",
      "Documented commands (type help <topic>):\n",
      "========================================\n",
      "EOF    commands   enable    ll        pp       s                until \n",
      "a      condition  exit      longlist  psource  skip_hidden      up    \n",
      "alias  cont       h         n         q        skip_predicates  w     \n",
      "args   context    help      next      quit     source           whatis\n",
      "b      continue   ignore    p         r        step             where \n",
      "break  d          interact  pdef      restart  tbreak         \n",
      "bt     debug      j         pdoc      return   u              \n",
      "c      disable    jump      pfile     retval   unalias        \n",
      "cl     display    l         pinfo     run      undisplay      \n",
      "clear  down       list      pinfo2    rv       unt            \n",
      "\n",
      "Miscellaneous help topics:\n",
      "==========================\n",
      "exec  pdb\n",
      "\n",
      "ipdb> next\n",
      "> \u001b[1;32mc:\\users\\tanjina\\appdata\\local\\temp\\ipykernel_26808\\435489222.py\u001b[0m(4)\u001b[0;36mtest\u001b[1;34m()\u001b[0m\n",
      "\n",
      "ipdb> next\n",
      "> \u001b[1;32mc:\\users\\tanjina\\appdata\\local\\temp\\ipykernel_26808\\435489222.py\u001b[0m(5)\u001b[0;36mtest\u001b[1;34m()\u001b[0m\n",
      "\n",
      "ipdb> next\n",
      "> \u001b[1;32mc:\\users\\tanjina\\appdata\\local\\temp\\ipykernel_26808\\435489222.py\u001b[0m(6)\u001b[0;36mtest\u001b[1;34m()\u001b[0m\n",
      "\n",
      "ipdb> next\n",
      " data appended. \n",
      "> \u001b[1;32mc:\\users\\tanjina\\appdata\\local\\temp\\ipykernel_26808\\435489222.py\u001b[0m(4)\u001b[0;36mtest\u001b[1;34m()\u001b[0m\n",
      "\n",
      "ipdb> c\n",
      " data appended. \n",
      " data appended. \n",
      " data appended. \n",
      " data appended. \n",
      " data appended. \n",
      " data appended. \n",
      " data appended. \n",
      " data appended. \n",
      " data appended. \n"
     ]
    },
    {
     "data": {
      "text/plain": [
       "[0, 1, 2, 3, 4, 5, 6, 7, 8, 9]"
      ]
     },
     "execution_count": 14,
     "metadata": {},
     "output_type": "execute_result"
    }
   ],
   "source": [
    "test()"
   ]
  },
  {
   "cell_type": "code",
   "execution_count": 8,
   "id": "b6d18bde",
   "metadata": {},
   "outputs": [],
   "source": [
    "def test1():\n",
    "    ipdb.set_trace()\n",
    "    l = []\n",
    "    for i in range(5):\n",
    "        for j in range(2):\n",
    "            l.append(i)\n",
    "            if i==2:\n",
    "                continue\n",
    "            print(\" data appended. \")\n",
    "    return l\n",
    "        "
   ]
  },
  {
   "cell_type": "code",
   "execution_count": 9,
   "id": "142aa001",
   "metadata": {},
   "outputs": [
    {
     "name": "stdout",
     "output_type": "stream",
     "text": [
      "> \u001b[1;32mc:\\users\\tanjina\\appdata\\local\\temp\\ipykernel_28072\\1171906366.py\u001b[0m(3)\u001b[0;36mtest1\u001b[1;34m()\u001b[0m\n",
      "\n",
      "ipdb> n\n",
      "> \u001b[1;32mc:\\users\\tanjina\\appdata\\local\\temp\\ipykernel_28072\\1171906366.py\u001b[0m(4)\u001b[0;36mtest1\u001b[1;34m()\u001b[0m\n",
      "\n",
      "ipdb> n\n",
      "> \u001b[1;32mc:\\users\\tanjina\\appdata\\local\\temp\\ipykernel_28072\\1171906366.py\u001b[0m(5)\u001b[0;36mtest1\u001b[1;34m()\u001b[0m\n",
      "\n",
      "ipdb> \n",
      "> \u001b[1;32mc:\\users\\tanjina\\appdata\\local\\temp\\ipykernel_28072\\1171906366.py\u001b[0m(6)\u001b[0;36mtest1\u001b[1;34m()\u001b[0m\n",
      "\n",
      "ipdb> n\n",
      "> \u001b[1;32mc:\\users\\tanjina\\appdata\\local\\temp\\ipykernel_28072\\1171906366.py\u001b[0m(7)\u001b[0;36mtest1\u001b[1;34m()\u001b[0m\n",
      "\n",
      "ipdb> n\n",
      "> \u001b[1;32mc:\\users\\tanjina\\appdata\\local\\temp\\ipykernel_28072\\1171906366.py\u001b[0m(9)\u001b[0;36mtest1\u001b[1;34m()\u001b[0m\n",
      "\n",
      "ipdb> n\n",
      " data appended. \n",
      "> \u001b[1;32mc:\\users\\tanjina\\appdata\\local\\temp\\ipykernel_28072\\1171906366.py\u001b[0m(5)\u001b[0;36mtest1\u001b[1;34m()\u001b[0m\n",
      "\n",
      "ipdb> n\n",
      "> \u001b[1;32mc:\\users\\tanjina\\appdata\\local\\temp\\ipykernel_28072\\1171906366.py\u001b[0m(6)\u001b[0;36mtest1\u001b[1;34m()\u001b[0m\n",
      "\n",
      "ipdb> \n",
      "> \u001b[1;32mc:\\users\\tanjina\\appdata\\local\\temp\\ipykernel_28072\\1171906366.py\u001b[0m(7)\u001b[0;36mtest1\u001b[1;34m()\u001b[0m\n",
      "\n",
      "ipdb> n\n",
      "> \u001b[1;32mc:\\users\\tanjina\\appdata\\local\\temp\\ipykernel_28072\\1171906366.py\u001b[0m(9)\u001b[0;36mtest1\u001b[1;34m()\u001b[0m\n",
      "\n",
      "ipdb> n\n",
      " data appended. \n",
      "> \u001b[1;32mc:\\users\\tanjina\\appdata\\local\\temp\\ipykernel_28072\\1171906366.py\u001b[0m(5)\u001b[0;36mtest1\u001b[1;34m()\u001b[0m\n",
      "\n",
      "ipdb> n\n",
      "> \u001b[1;32mc:\\users\\tanjina\\appdata\\local\\temp\\ipykernel_28072\\1171906366.py\u001b[0m(4)\u001b[0;36mtest1\u001b[1;34m()\u001b[0m\n",
      "\n",
      "ipdb> nn\n",
      "*** NameError: name 'nn' is not defined\n",
      "ipdb> \n",
      "*** NameError: name 'nn' is not defined\n",
      "ipdb> nn\n",
      "*** NameError: name 'nn' is not defined\n",
      "ipdb> n\n",
      "> \u001b[1;32mc:\\users\\tanjina\\appdata\\local\\temp\\ipykernel_28072\\1171906366.py\u001b[0m(5)\u001b[0;36mtest1\u001b[1;34m()\u001b[0m\n",
      "\n",
      "ipdb> \n",
      "> \u001b[1;32mc:\\users\\tanjina\\appdata\\local\\temp\\ipykernel_28072\\1171906366.py\u001b[0m(6)\u001b[0;36mtest1\u001b[1;34m()\u001b[0m\n",
      "\n",
      "ipdb> n\n",
      "> \u001b[1;32mc:\\users\\tanjina\\appdata\\local\\temp\\ipykernel_28072\\1171906366.py\u001b[0m(7)\u001b[0;36mtest1\u001b[1;34m()\u001b[0m\n",
      "\n",
      "ipdb> n\n",
      "> \u001b[1;32mc:\\users\\tanjina\\appdata\\local\\temp\\ipykernel_28072\\1171906366.py\u001b[0m(9)\u001b[0;36mtest1\u001b[1;34m()\u001b[0m\n",
      "\n",
      "ipdb> \n",
      " data appended. \n",
      "> \u001b[1;32mc:\\users\\tanjina\\appdata\\local\\temp\\ipykernel_28072\\1171906366.py\u001b[0m(5)\u001b[0;36mtest1\u001b[1;34m()\u001b[0m\n",
      "\n",
      "ipdb> n\n",
      "> \u001b[1;32mc:\\users\\tanjina\\appdata\\local\\temp\\ipykernel_28072\\1171906366.py\u001b[0m(6)\u001b[0;36mtest1\u001b[1;34m()\u001b[0m\n",
      "\n",
      "ipdb> \n",
      "> \u001b[1;32mc:\\users\\tanjina\\appdata\\local\\temp\\ipykernel_28072\\1171906366.py\u001b[0m(7)\u001b[0;36mtest1\u001b[1;34m()\u001b[0m\n",
      "\n",
      "ipdb> n\n",
      "> \u001b[1;32mc:\\users\\tanjina\\appdata\\local\\temp\\ipykernel_28072\\1171906366.py\u001b[0m(9)\u001b[0;36mtest1\u001b[1;34m()\u001b[0m\n",
      "\n",
      "ipdb> \n",
      " data appended. \n",
      "> \u001b[1;32mc:\\users\\tanjina\\appdata\\local\\temp\\ipykernel_28072\\1171906366.py\u001b[0m(5)\u001b[0;36mtest1\u001b[1;34m()\u001b[0m\n",
      "\n",
      "ipdb> n\n",
      "> \u001b[1;32mc:\\users\\tanjina\\appdata\\local\\temp\\ipykernel_28072\\1171906366.py\u001b[0m(4)\u001b[0;36mtest1\u001b[1;34m()\u001b[0m\n",
      "\n",
      "ipdb> n\n",
      "> \u001b[1;32mc:\\users\\tanjina\\appdata\\local\\temp\\ipykernel_28072\\1171906366.py\u001b[0m(5)\u001b[0;36mtest1\u001b[1;34m()\u001b[0m\n",
      "\n",
      "ipdb> n\n",
      "> \u001b[1;32mc:\\users\\tanjina\\appdata\\local\\temp\\ipykernel_28072\\1171906366.py\u001b[0m(6)\u001b[0;36mtest1\u001b[1;34m()\u001b[0m\n",
      "\n",
      "ipdb> n\n",
      "> \u001b[1;32mc:\\users\\tanjina\\appdata\\local\\temp\\ipykernel_28072\\1171906366.py\u001b[0m(7)\u001b[0;36mtest1\u001b[1;34m()\u001b[0m\n",
      "\n",
      "ipdb> n\n",
      "> \u001b[1;32mc:\\users\\tanjina\\appdata\\local\\temp\\ipykernel_28072\\1171906366.py\u001b[0m(8)\u001b[0;36mtest1\u001b[1;34m()\u001b[0m\n",
      "\n",
      "ipdb> nn\n",
      "*** NameError: name 'nn' is not defined\n",
      "ipdb> \n",
      "*** NameError: name 'nn' is not defined\n",
      "ipdb> n\n",
      "> \u001b[1;32mc:\\users\\tanjina\\appdata\\local\\temp\\ipykernel_28072\\1171906366.py\u001b[0m(5)\u001b[0;36mtest1\u001b[1;34m()\u001b[0m\n",
      "\n",
      "ipdb> n\n",
      "> \u001b[1;32mc:\\users\\tanjina\\appdata\\local\\temp\\ipykernel_28072\\1171906366.py\u001b[0m(6)\u001b[0;36mtest1\u001b[1;34m()\u001b[0m\n",
      "\n",
      "ipdb> c\n",
      " data appended. \n",
      " data appended. \n",
      " data appended. \n",
      " data appended. \n"
     ]
    },
    {
     "data": {
      "text/plain": [
       "[0, 0, 1, 1, 2, 2, 3, 3, 4, 4]"
      ]
     },
     "execution_count": 9,
     "metadata": {},
     "output_type": "execute_result"
    }
   ],
   "source": [
    "test1()"
   ]
  },
  {
   "cell_type": "code",
   "execution_count": null,
   "id": "0679fc69",
   "metadata": {},
   "outputs": [],
   "source": []
  }
 ],
 "metadata": {
  "kernelspec": {
   "display_name": "Python 3 (ipykernel)",
   "language": "python",
   "name": "python3"
  },
  "language_info": {
   "codemirror_mode": {
    "name": "ipython",
    "version": 3
   },
   "file_extension": ".py",
   "mimetype": "text/x-python",
   "name": "python",
   "nbconvert_exporter": "python",
   "pygments_lexer": "ipython3",
   "version": "3.9.13"
  }
 },
 "nbformat": 4,
 "nbformat_minor": 5
}
