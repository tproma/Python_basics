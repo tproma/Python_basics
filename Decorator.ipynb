{
 "cells": [
  {
   "cell_type": "markdown",
   "id": "a64ec2b1",
   "metadata": {},
   "source": [
    "# Function  copy"
   ]
  },
  {
   "cell_type": "code",
   "execution_count": 12,
   "id": "9c6d7554",
   "metadata": {},
   "outputs": [],
   "source": [
    "def welcome():\n",
    "    return \" welcome to the course\""
   ]
  },
  {
   "cell_type": "code",
   "execution_count": 13,
   "id": "45f01964",
   "metadata": {},
   "outputs": [],
   "source": [
    "w = welcome()"
   ]
  },
  {
   "cell_type": "code",
   "execution_count": 15,
   "id": "348351e9",
   "metadata": {},
   "outputs": [
    {
     "data": {
      "text/plain": [
       "' welcome to the course'"
      ]
     },
     "execution_count": 15,
     "metadata": {},
     "output_type": "execute_result"
    }
   ],
   "source": [
    "w"
   ]
  },
  {
   "cell_type": "code",
   "execution_count": 16,
   "id": "f49d613c",
   "metadata": {},
   "outputs": [],
   "source": [
    "del welcome"
   ]
  },
  {
   "cell_type": "code",
   "execution_count": 17,
   "id": "07c9a236",
   "metadata": {},
   "outputs": [
    {
     "ename": "NameError",
     "evalue": "name 'welcome' is not defined",
     "output_type": "error",
     "traceback": [
      "\u001b[1;31m---------------------------------------------------------------------------\u001b[0m",
      "\u001b[1;31mNameError\u001b[0m                                 Traceback (most recent call last)",
      "Cell \u001b[1;32mIn [17], line 1\u001b[0m\n\u001b[1;32m----> 1\u001b[0m \u001b[43mwelcome\u001b[49m()\n",
      "\u001b[1;31mNameError\u001b[0m: name 'welcome' is not defined"
     ]
    }
   ],
   "source": [
    "welcome()"
   ]
  },
  {
   "cell_type": "code",
   "execution_count": 18,
   "id": "d2c56172",
   "metadata": {},
   "outputs": [
    {
     "data": {
      "text/plain": [
       "' welcome to the course'"
      ]
     },
     "execution_count": 18,
     "metadata": {},
     "output_type": "execute_result"
    }
   ],
   "source": [
    "w"
   ]
  },
  {
   "cell_type": "markdown",
   "id": "80c77949",
   "metadata": {},
   "source": [
    "# Closures"
   ]
  },
  {
   "cell_type": "code",
   "execution_count": 19,
   "id": "f77f82df",
   "metadata": {},
   "outputs": [],
   "source": [
    "def mainf():\n",
    "    msg = \"hi\"\n",
    "    def subf():\n",
    "        print('welcome to the course')\n",
    "        print(msg)\n",
    "        print(\"please follow\")\n",
    "    return subf()  \n",
    "        "
   ]
  },
  {
   "cell_type": "code",
   "execution_count": 20,
   "id": "52dbe3fa",
   "metadata": {},
   "outputs": [
    {
     "name": "stdout",
     "output_type": "stream",
     "text": [
      "welcome to the course\n",
      "hi\n",
      "please follow\n"
     ]
    }
   ],
   "source": [
    "mainf()"
   ]
  },
  {
   "cell_type": "code",
   "execution_count": 21,
   "id": "3656f642",
   "metadata": {},
   "outputs": [],
   "source": [
    "def mainf(msg):\n",
    "   \n",
    "    def subf():\n",
    "        print('welcome to the course')\n",
    "        print(msg)\n",
    "        print(\"please follow\")\n",
    "    return subf()  \n",
    "        "
   ]
  },
  {
   "cell_type": "code",
   "execution_count": 22,
   "id": "b2c05516",
   "metadata": {},
   "outputs": [
    {
     "name": "stdout",
     "output_type": "stream",
     "text": [
      "welcome to the course\n",
      "proma...\n",
      "please follow\n"
     ]
    }
   ],
   "source": [
    "mainf(\"proma...\")"
   ]
  },
  {
   "cell_type": "markdown",
   "id": "4e18f411",
   "metadata": {},
   "source": [
    "# Initial Decorator"
   ]
  },
  {
   "cell_type": "code",
   "execution_count": 29,
   "id": "f42554bc",
   "metadata": {},
   "outputs": [],
   "source": [
    "def mainf(func):\n",
    "   \n",
    "    def subf():\n",
    "        print('welcome to the course')\n",
    "        func(\"AI, ML\")\n",
    "        print(\"please follow\")\n",
    "    return subf()  \n",
    "        "
   ]
  },
  {
   "cell_type": "code",
   "execution_count": 30,
   "id": "a4994b4d",
   "metadata": {},
   "outputs": [
    {
     "name": "stdout",
     "output_type": "stream",
     "text": [
      "welcome to the course\n",
      "AI, ML\n",
      "please follow\n"
     ]
    }
   ],
   "source": [
    "mainf(print)"
   ]
  },
  {
   "cell_type": "code",
   "execution_count": 31,
   "id": "c5931a5c",
   "metadata": {},
   "outputs": [],
   "source": [
    "def mainf(func):\n",
    "   \n",
    "    def subf():\n",
    "        print('welcome to the course')\n",
    "        print(func([2,3,5,6,7]))\n",
    "        print(\"please follow\")\n",
    "    return subf()  \n",
    "        "
   ]
  },
  {
   "cell_type": "code",
   "execution_count": 32,
   "id": "1e147199",
   "metadata": {},
   "outputs": [
    {
     "name": "stdout",
     "output_type": "stream",
     "text": [
      "welcome to the course\n",
      "5\n",
      "please follow\n"
     ]
    }
   ],
   "source": [
    "mainf(len)"
   ]
  },
  {
   "cell_type": "markdown",
   "id": "79c82fea",
   "metadata": {},
   "source": [
    "# Decorator"
   ]
  },
  {
   "cell_type": "code",
   "execution_count": 39,
   "id": "2fcea607",
   "metadata": {},
   "outputs": [],
   "source": [
    "def mainf(func):\n",
    "   \n",
    "    def subf():\n",
    "        print('welcome to the course')\n",
    "        func()\n",
    "        print(\"please follow\")\n",
    "    return subf()  \n",
    "        "
   ]
  },
  {
   "cell_type": "code",
   "execution_count": 41,
   "id": "34835026",
   "metadata": {},
   "outputs": [],
   "source": [
    "def channel_name():\n",
    "    print(\"My Channel\")"
   ]
  },
  {
   "cell_type": "code",
   "execution_count": 42,
   "id": "cc814c38",
   "metadata": {},
   "outputs": [
    {
     "name": "stdout",
     "output_type": "stream",
     "text": [
      "welcome to the course\n",
      "My Channel\n",
      "please follow\n"
     ]
    }
   ],
   "source": [
    "a = mainf(channel_name)"
   ]
  },
  {
   "cell_type": "code",
   "execution_count": 43,
   "id": "c52bde48",
   "metadata": {},
   "outputs": [
    {
     "name": "stdout",
     "output_type": "stream",
     "text": [
      "welcome to the course\n",
      "My Channel\n",
      "please follow\n"
     ]
    }
   ],
   "source": [
    "@mainf\n",
    "def channel_name():\n",
    "    print(\"My Channel\")"
   ]
  },
  {
   "cell_type": "code",
   "execution_count": null,
   "id": "81cd2072",
   "metadata": {},
   "outputs": [],
   "source": [
    "\n"
   ]
  }
 ],
 "metadata": {
  "kernelspec": {
   "display_name": "Python 3 (ipykernel)",
   "language": "python",
   "name": "python3"
  },
  "language_info": {
   "codemirror_mode": {
    "name": "ipython",
    "version": 3
   },
   "file_extension": ".py",
   "mimetype": "text/x-python",
   "name": "python",
   "nbconvert_exporter": "python",
   "pygments_lexer": "ipython3",
   "version": "3.9.13"
  }
 },
 "nbformat": 4,
 "nbformat_minor": 5
}
