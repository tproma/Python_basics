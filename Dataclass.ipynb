{
 "cells": [
  {
   "cell_type": "code",
   "execution_count": 3,
   "id": "857e493e",
   "metadata": {},
   "outputs": [
    {
     "name": "stdout",
     "output_type": "stream",
     "text": [
      "<__main__.person object at 0x00000168FA353610>\n"
     ]
    }
   ],
   "source": [
    "class person:\n",
    "    def __init__(self, n, a):\n",
    "        self.name = n\n",
    "        self.age = a\n",
    "        \n",
    "person1 = person(\"proma\", 20)\n",
    "print(person1)"
   ]
  },
  {
   "cell_type": "code",
   "execution_count": 5,
   "id": "bda48b7b",
   "metadata": {},
   "outputs": [
    {
     "data": {
      "text/plain": [
       "'proma'"
      ]
     },
     "execution_count": 5,
     "metadata": {},
     "output_type": "execute_result"
    }
   ],
   "source": [
    "person1.name\n",
    "\n"
   ]
  },
  {
   "cell_type": "markdown",
   "id": "a04bcbb5",
   "metadata": {},
   "source": [
    "# Dataclass\n"
   ]
  },
  {
   "cell_type": "code",
   "execution_count": 6,
   "id": "8737f823",
   "metadata": {},
   "outputs": [
    {
     "name": "stdout",
     "output_type": "stream",
     "text": [
      "Person(name='sam', age=5, profession='AI')\n"
     ]
    }
   ],
   "source": [
    "from dataclasses import dataclass\n",
    "\n",
    "@dataclass\n",
    "class Person:\n",
    "    name:str\n",
    "    age: int\n",
    "    profession: str\n",
    "        \n",
    "person2 = Person(\"sam\", 5, \"AI\")\n",
    "print(person2)"
   ]
  },
  {
   "cell_type": "markdown",
   "id": "b406a5ce",
   "metadata": {},
   "source": [
    "# overwriting class variables\n"
   ]
  },
  {
   "cell_type": "code",
   "execution_count": 9,
   "id": "ec77383b",
   "metadata": {},
   "outputs": [
    {
     "name": "stdout",
     "output_type": "stream",
     "text": [
      "Person(name='sam', age=5, profession='AI')\n"
     ]
    }
   ],
   "source": [
    "from dataclasses import dataclass\n",
    "\n",
    "@dataclass\n",
    "class Person:\n",
    "    name:str\n",
    "    age: int\n",
    "    profession: str= \"AI\"\n",
    "        \n",
    "person3 = Person(\"sam\", 5)\n",
    "print(person3)"
   ]
  },
  {
   "cell_type": "code",
   "execution_count": 10,
   "id": "f8cf0af3",
   "metadata": {},
   "outputs": [],
   "source": [
    "person3.profession = \"MLE\""
   ]
  },
  {
   "cell_type": "code",
   "execution_count": 11,
   "id": "72b9855f",
   "metadata": {},
   "outputs": [
    {
     "data": {
      "text/plain": [
       "'MLE'"
      ]
     },
     "execution_count": 11,
     "metadata": {},
     "output_type": "execute_result"
    }
   ],
   "source": [
    "person3.profession"
   ]
  },
  {
   "cell_type": "markdown",
   "id": "b250da1c",
   "metadata": {},
   "source": [
    "# Immutable Class"
   ]
  },
  {
   "cell_type": "code",
   "execution_count": 14,
   "id": "9c75965a",
   "metadata": {},
   "outputs": [
    {
     "name": "stdout",
     "output_type": "stream",
     "text": [
      "point(x=2, y=3)\n"
     ]
    }
   ],
   "source": [
    "@dataclass(frozen = True)\n",
    "class point:\n",
    "    x:int\n",
    "    y:int\n",
    "        \n",
    "point1= point(2,3)\n",
    "print(point1)"
   ]
  },
  {
   "cell_type": "code",
   "execution_count": 15,
   "id": "faf5088d",
   "metadata": {},
   "outputs": [
    {
     "ename": "FrozenInstanceError",
     "evalue": "cannot assign to field 'x'",
     "output_type": "error",
     "traceback": [
      "\u001b[1;31m---------------------------------------------------------------------------\u001b[0m",
      "\u001b[1;31mFrozenInstanceError\u001b[0m                       Traceback (most recent call last)",
      "Cell \u001b[1;32mIn [15], line 1\u001b[0m\n\u001b[1;32m----> 1\u001b[0m \u001b[43mpoint1\u001b[49m\u001b[38;5;241;43m.\u001b[39;49m\u001b[43mx\u001b[49m \u001b[38;5;241m=\u001b[39m \u001b[38;5;241m9\u001b[39m\n",
      "File \u001b[1;32m<string>:4\u001b[0m, in \u001b[0;36m__setattr__\u001b[1;34m(self, name, value)\u001b[0m\n",
      "\u001b[1;31mFrozenInstanceError\u001b[0m: cannot assign to field 'x'"
     ]
    }
   ],
   "source": [
    "point1.x = 9\n"
   ]
  },
  {
   "cell_type": "markdown",
   "id": "7c33097b",
   "metadata": {},
   "source": [
    "# Inheritence"
   ]
  },
  {
   "cell_type": "code",
   "execution_count": 18,
   "id": "f24ee5f1",
   "metadata": {},
   "outputs": [
    {
     "name": "stdout",
     "output_type": "stream",
     "text": [
      "Employee(name='sam', age=5, employee_id='12', dep='ml')\n"
     ]
    }
   ],
   "source": [
    "@dataclass\n",
    "class Person:\n",
    "    name:str\n",
    "    age: int\n",
    "   \n",
    "\n",
    "@dataclass\n",
    "class Employee(Person):\n",
    "    employee_id :str\n",
    "    dep: str\n",
    "   \n",
    "        \n",
    "    \n",
    "    \n",
    "person4 = Person(\"sam\", 5)\n",
    "\n",
    "emp= Employee(\"sam\", 5, \"12\", \"ml\")\n",
    "print(emp)"
   ]
  },
  {
   "cell_type": "markdown",
   "id": "ccdf2f0b",
   "metadata": {},
   "source": [
    "# Nested dataclass"
   ]
  },
  {
   "cell_type": "code",
   "execution_count": 22,
   "id": "dda5aa85",
   "metadata": {},
   "outputs": [],
   "source": [
    "@dataclass\n",
    "class Adress:\n",
    "    street : str\n",
    "    city:str\n",
    "        \n",
    "@dataclass\n",
    "class Person:\n",
    "    name:str\n",
    "    age: int\n",
    "    adress: Adress\n",
    "\n",
    "        \n",
    "address = Adress(\"sec 3\", \"dhaka\" )\n",
    "p = Person(\"sam\", 5,address )"
   ]
  },
  {
   "cell_type": "code",
   "execution_count": 23,
   "id": "897ef0a0",
   "metadata": {},
   "outputs": [
    {
     "data": {
      "text/plain": [
       "Person(name='sam', age=5, adress=Adress(street='sec 3', city='dhaka'))"
      ]
     },
     "execution_count": 23,
     "metadata": {},
     "output_type": "execute_result"
    }
   ],
   "source": [
    "p"
   ]
  },
  {
   "cell_type": "code",
   "execution_count": 24,
   "id": "2a2a9d20",
   "metadata": {},
   "outputs": [
    {
     "data": {
      "text/plain": [
       "'dhaka'"
      ]
     },
     "execution_count": 24,
     "metadata": {},
     "output_type": "execute_result"
    }
   ],
   "source": [
    "p.adress.city"
   ]
  },
  {
   "cell_type": "code",
   "execution_count": null,
   "id": "83333672",
   "metadata": {},
   "outputs": [],
   "source": []
  }
 ],
 "metadata": {
  "kernelspec": {
   "display_name": "Python 3 (ipykernel)",
   "language": "python",
   "name": "python3"
  },
  "language_info": {
   "codemirror_mode": {
    "name": "ipython",
    "version": 3
   },
   "file_extension": ".py",
   "mimetype": "text/x-python",
   "name": "python",
   "nbconvert_exporter": "python",
   "pygments_lexer": "ipython3",
   "version": "3.9.13"
  }
 },
 "nbformat": 4,
 "nbformat_minor": 5
}
