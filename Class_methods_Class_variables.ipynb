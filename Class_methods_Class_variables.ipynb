{
 "cells": [
  {
   "cell_type": "markdown",
   "id": "3f62c969",
   "metadata": {},
   "source": [
    "# Class methods:\n",
    "@classmethod is a decorator which can be used to update class variables only once so that whenever you are creating the newer instances automatically that value will get updated."
   ]
  },
  {
   "cell_type": "code",
   "execution_count": 36,
   "id": "7d63f783",
   "metadata": {},
   "outputs": [],
   "source": [
    "class Car:\n",
    "    base_price = 100000 ## class variables\n",
    "    # constructor\n",
    "    def __init__(self, windows, doors):\n",
    "        self.windows = windows #Instance variables\n",
    "        self.doors = doors\n",
    "        \n",
    "    def base_price_q(self):\n",
    "        print(\" the base price is {}\".format(self.base_price))\n",
    "        \n",
    "\n",
    "        \n",
    "    # ClassMethod\n",
    "    @classmethod\n",
    "    def revise_base_price(cls, inflation):\n",
    "        cls.base_price = cls.base_price + (cls.base_price*inflation)"
   ]
  },
  {
   "cell_type": "code",
   "execution_count": 37,
   "id": "7314fc35",
   "metadata": {},
   "outputs": [],
   "source": [
    "car1 =Car(4,5)"
   ]
  },
  {
   "cell_type": "code",
   "execution_count": 38,
   "id": "7392754d",
   "metadata": {},
   "outputs": [
    {
     "data": {
      "text/plain": [
       "100000"
      ]
     },
     "execution_count": 38,
     "metadata": {},
     "output_type": "execute_result"
    }
   ],
   "source": [
    "car1.base_price"
   ]
  },
  {
   "cell_type": "code",
   "execution_count": 39,
   "id": "326374e1",
   "metadata": {},
   "outputs": [
    {
     "data": {
      "text/plain": [
       "100000"
      ]
     },
     "execution_count": 39,
     "metadata": {},
     "output_type": "execute_result"
    }
   ],
   "source": [
    "Car.base_price"
   ]
  },
  {
   "cell_type": "code",
   "execution_count": 40,
   "id": "fb283937",
   "metadata": {},
   "outputs": [],
   "source": [
    "car1.revise_base_price(.10)"
   ]
  },
  {
   "cell_type": "code",
   "execution_count": 41,
   "id": "7f06512f",
   "metadata": {},
   "outputs": [
    {
     "data": {
      "text/plain": [
       "110000.0"
      ]
     },
     "execution_count": 41,
     "metadata": {},
     "output_type": "execute_result"
    }
   ],
   "source": [
    "car1.base_price"
   ]
  },
  {
   "cell_type": "code",
   "execution_count": 42,
   "id": "d89e621c",
   "metadata": {},
   "outputs": [],
   "source": [
    "Car.revise_base_price(.10)"
   ]
  },
  {
   "cell_type": "code",
   "execution_count": 43,
   "id": "8ad1ffbe",
   "metadata": {},
   "outputs": [
    {
     "data": {
      "text/plain": [
       "121000.0"
      ]
     },
     "execution_count": 43,
     "metadata": {},
     "output_type": "execute_result"
    }
   ],
   "source": [
    "Car.base_price\n"
   ]
  },
  {
   "cell_type": "code",
   "execution_count": null,
   "id": "5296b4b7",
   "metadata": {},
   "outputs": [],
   "source": [
    "\n"
   ]
  },
  {
   "cell_type": "code",
   "execution_count": null,
   "id": "ca8965ab",
   "metadata": {},
   "outputs": [],
   "source": []
  }
 ],
 "metadata": {
  "kernelspec": {
   "display_name": "Python 3 (ipykernel)",
   "language": "python",
   "name": "python3"
  },
  "language_info": {
   "codemirror_mode": {
    "name": "ipython",
    "version": 3
   },
   "file_extension": ".py",
   "mimetype": "text/x-python",
   "name": "python",
   "nbconvert_exporter": "python",
   "pygments_lexer": "ipython3",
   "version": "3.9.13"
  }
 },
 "nbformat": 4,
 "nbformat_minor": 5
}
